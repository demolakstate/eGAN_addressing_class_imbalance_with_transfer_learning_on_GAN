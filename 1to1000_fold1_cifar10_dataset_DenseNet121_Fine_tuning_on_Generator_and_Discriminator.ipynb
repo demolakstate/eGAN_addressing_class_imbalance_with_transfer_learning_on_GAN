{
  "nbformat": 4,
  "nbformat_minor": 0,
  "metadata": {
    "kernelspec": {
      "display_name": "Python 3",
      "language": "python",
      "name": "python3"
    },
    "language_info": {
      "codemirror_mode": {
        "name": "ipython",
        "version": 3
      },
      "file_extension": ".py",
      "mimetype": "text/x-python",
      "name": "python",
      "nbconvert_exporter": "python",
      "pygments_lexer": "ipython3",
      "version": "3.6.7"
    },
    "colab": {
      "name": "1to1000_fold1-cifar10_dataset-DenseNet121-Fine-tuning-on-Generator-and-Discriminator.ipynb",
      "provenance": [],
      "machine_shape": "hm",
      "include_colab_link": true
    }
  },
  "cells": [
    {
      "cell_type": "markdown",
      "metadata": {
        "id": "view-in-github",
        "colab_type": "text"
      },
      "source": [
        "<a href=\"https://colab.research.google.com/github/demolakstate/eGAN_addressing_class_imbalance_with_transfer_learning_on_GAN/blob/main/1to1000_fold1_cifar10_dataset_DenseNet121_Fine_tuning_on_Generator_and_Discriminator.ipynb\" target=\"_parent\"><img src=\"https://colab.research.google.com/assets/colab-badge.svg\" alt=\"Open In Colab\"/></a>"
      ]
    },
    {
      "cell_type": "code",
      "metadata": {
        "id": "HD4bIjg6qYkH"
      },
      "source": [
        ""
      ],
      "execution_count": null,
      "outputs": []
    },
    {
      "cell_type": "markdown",
      "metadata": {
        "id": "A7aOHFtUW4Kv"
      },
      "source": [
        "## 5 instances of Normal samples - imbalance ratio 1:1000 ##"
      ]
    },
    {
      "cell_type": "markdown",
      "metadata": {
        "id": "YN_2kXCOiDUB"
      },
      "source": [
        "### Here, we train the discriminator on samples from normal frames ###"
      ]
    },
    {
      "cell_type": "code",
      "metadata": {
        "id": "IHvSaXl0Y6n7",
        "colab": {
          "base_uri": "https://localhost:8080/"
        },
        "outputId": "3f0c4a61-dca0-4a30-e2e1-5e522bf1b44d"
      },
      "source": [
        "from google.colab import drive\n",
        "\n",
        "drive.mount('/content/gdrive')"
      ],
      "execution_count": null,
      "outputs": [
        {
          "output_type": "stream",
          "text": [
            "Mounted at /content/gdrive\n"
          ],
          "name": "stdout"
        }
      ]
    },
    {
      "cell_type": "code",
      "metadata": {
        "id": "ELynCH1g6iD2"
      },
      "source": [
        "import time, os"
      ],
      "execution_count": null,
      "outputs": []
    },
    {
      "cell_type": "code",
      "metadata": {
        "colab": {
          "base_uri": "https://localhost:8080/"
        },
        "id": "apdqasPQ6iJh",
        "outputId": "b9e13e53-5976-453b-9eb9-1512456d0c61"
      },
      "source": [
        "print(round(time.time()))"
      ],
      "execution_count": null,
      "outputs": [
        {
          "output_type": "stream",
          "text": [
            "1616475016\n"
          ],
          "name": "stdout"
        }
      ]
    },
    {
      "cell_type": "code",
      "metadata": {
        "id": "6_v8eHk57lnc"
      },
      "source": [
        "time_stamp = round(time.time())"
      ],
      "execution_count": null,
      "outputs": []
    },
    {
      "cell_type": "code",
      "metadata": {
        "id": "OpUZtHhJ1DlL",
        "colab": {
          "base_uri": "https://localhost:8080/"
        },
        "outputId": "5f912047-b935-4fd6-81ea-cd80665efbd7"
      },
      "source": [
        "cd /content/gdrive/MyDrive/Anomaly_Detection_Videos/"
      ],
      "execution_count": null,
      "outputs": [
        {
          "output_type": "stream",
          "text": [
            "/content/gdrive/MyDrive/Anomaly_Detection_Videos\n"
          ],
          "name": "stdout"
        }
      ]
    },
    {
      "cell_type": "code",
      "metadata": {
        "id": "WhLsERzw7TPa"
      },
      "source": [
        "os.mkdir(str(time_stamp))\n"
      ],
      "execution_count": null,
      "outputs": []
    },
    {
      "cell_type": "code",
      "metadata": {
        "id": "uVicr1ug85Yp"
      },
      "source": [
        "os.chdir(str(time_stamp))"
      ],
      "execution_count": null,
      "outputs": []
    },
    {
      "cell_type": "code",
      "metadata": {
        "colab": {
          "base_uri": "https://localhost:8080/"
        },
        "id": "665wj8vx76Nq",
        "outputId": "b823b502-da50-43ef-bf2e-6dfd90aaa5a0"
      },
      "source": [
        "time_stamp"
      ],
      "execution_count": null,
      "outputs": [
        {
          "output_type": "execute_result",
          "data": {
            "text/plain": [
              "1616475016"
            ]
          },
          "metadata": {
            "tags": []
          },
          "execution_count": 8
        }
      ]
    },
    {
      "cell_type": "code",
      "metadata": {
        "id": "5A5KLSqY76RH"
      },
      "source": [
        ""
      ],
      "execution_count": null,
      "outputs": []
    },
    {
      "cell_type": "code",
      "metadata": {
        "colab": {
          "base_uri": "https://localhost:8080/",
          "height": 35
        },
        "id": "CPoIbnzQqTXC",
        "outputId": "ee103de1-7e8d-4ac1-897d-de1a76e72835"
      },
      "source": [
        "#!pip install -q tensorflow-gpu==2.0.0-alpha0\n",
        "import tensorflow as tf\n",
        "tf.__version__"
      ],
      "execution_count": null,
      "outputs": [
        {
          "output_type": "execute_result",
          "data": {
            "application/vnd.google.colaboratory.intrinsic+json": {
              "type": "string"
            },
            "text/plain": [
              "'2.4.1'"
            ]
          },
          "metadata": {
            "tags": []
          },
          "execution_count": 9
        }
      ]
    },
    {
      "cell_type": "code",
      "metadata": {
        "id": "UUdnxrdkqTXE"
      },
      "source": [
        "import tensorflow as tf"
      ],
      "execution_count": null,
      "outputs": []
    },
    {
      "cell_type": "code",
      "metadata": {
        "id": "1p2aUw0gpbVp"
      },
      "source": [
        "physical_devices =tf.config.list_physical_devices('GPU')\n",
        "tf.config.experimental.set_memory_growth(physical_devices[0], True)"
      ],
      "execution_count": null,
      "outputs": []
    },
    {
      "cell_type": "code",
      "metadata": {
        "id": "dw_b6GnEp1vK"
      },
      "source": [
        ""
      ],
      "execution_count": null,
      "outputs": []
    },
    {
      "cell_type": "code",
      "metadata": {
        "id": "o8Po8E1bp196"
      },
      "source": [
        ""
      ],
      "execution_count": null,
      "outputs": []
    },
    {
      "cell_type": "code",
      "metadata": {
        "id": "PDQHjRVIqTXF"
      },
      "source": [
        "from tensorflow.python.client import device_lib\n",
        "\n",
        "# \"GPU\" + device_lib.list_local_devices()[-1].physical_device_desc.split(\",\")[1]"
      ],
      "execution_count": null,
      "outputs": []
    },
    {
      "cell_type": "code",
      "metadata": {
        "colab": {
          "base_uri": "https://localhost:8080/",
          "height": 35
        },
        "id": "R5ASv7D0qTXG",
        "outputId": "dbfbc32e-dc00-46da-b9c4-253a44712126"
      },
      "source": [
        "tf.__version__"
      ],
      "execution_count": null,
      "outputs": [
        {
          "output_type": "execute_result",
          "data": {
            "application/vnd.google.colaboratory.intrinsic+json": {
              "type": "string"
            },
            "text/plain": [
              "'2.4.1'"
            ]
          },
          "metadata": {
            "tags": []
          },
          "execution_count": 13
        }
      ]
    },
    {
      "cell_type": "code",
      "metadata": {
        "id": "OzjXZHG4qTXG"
      },
      "source": [
        "import glob # The glob module finds all the pathnames matching a specified pattern according to the rules used by the Unix shell, although results are returned in arbitrary order. \n",
        "import imageio # Imageio is a Python library that provides an easy interface to read and write a wide range of image data, including animated images, volumetric data, and scientific formats. \n",
        "%matplotlib inline \n",
        "import matplotlib.pyplot as plt \n",
        "import tensorflow.keras.layers as layers # Keras layers API\n",
        "import time\n",
        "from IPython import display # For displaying image"
      ],
      "execution_count": null,
      "outputs": []
    },
    {
      "cell_type": "code",
      "metadata": {
        "id": "wN1HuYsUs_JS"
      },
      "source": [
        "from tensorflow.keras.models import Model"
      ],
      "execution_count": null,
      "outputs": []
    },
    {
      "cell_type": "code",
      "metadata": {
        "_cell_guid": "b1076dfc-b9ad-4769-8c92-a6c4dae69d19",
        "_uuid": "8f2839f25d086af736a60e9eeb907d3b93b6e0e5",
        "id": "ZiFlOzTtqTXG"
      },
      "source": [
        "import numpy as np # linear algebra\n",
        "import pandas as pd # data processing, CSV file I/O (e.g. pd.read_csv)\n",
        "\n",
        "# Input data files are available in the \"../input/\" directory.\n",
        "# For example, running this (by clicking run or pressing Shift+Enter) will list the files in the input directory\n",
        "import os\n",
        "import PIL\n",
        "import random"
      ],
      "execution_count": null,
      "outputs": []
    },
    {
      "cell_type": "code",
      "metadata": {
        "id": "72JdEgtVr59A"
      },
      "source": [
        ""
      ],
      "execution_count": null,
      "outputs": []
    },
    {
      "cell_type": "markdown",
      "metadata": {
        "id": "uAJDx8Pu5jKv"
      },
      "source": [
        "## Load dataset ##"
      ]
    },
    {
      "cell_type": "code",
      "metadata": {
        "id": "MwYwvVXM5lvY",
        "colab": {
          "base_uri": "https://localhost:8080/"
        },
        "outputId": "673d079f-174c-49d0-857e-ae272dbe9377"
      },
      "source": [
        "# example of loading the cifar10 dataset\n",
        "from keras.datasets.cifar10 import load_data\n",
        "from matplotlib import pyplot\n",
        "# load the images into memory\n",
        "(X_train, X_train_label), (X_test, X_test_label) = load_data()\n",
        "X_train_abnormal = []\n",
        "X_train_normal = []\n",
        "\n",
        "# plot images from the training dataset\n",
        "for i in range(len(X_train)):\n",
        "  if X_train_label[i] == 0: # few abnormal samples\n",
        "    X_train_abnormal.append(X_train[i])\n",
        "  elif X_train_label[i] == 1:\n",
        "    X_train_normal.append(X_train[i])"
      ],
      "execution_count": null,
      "outputs": [
        {
          "output_type": "stream",
          "text": [
            "Downloading data from https://www.cs.toronto.edu/~kriz/cifar-10-python.tar.gz\n",
            "170500096/170498071 [==============================] - 11s 0us/step\n"
          ],
          "name": "stdout"
        }
      ]
    },
    {
      "cell_type": "code",
      "metadata": {
        "id": "nrfEhCYMDMPl"
      },
      "source": [
        ""
      ],
      "execution_count": null,
      "outputs": []
    },
    {
      "cell_type": "code",
      "metadata": {
        "id": "j1T2GaFa5lzX"
      },
      "source": [
        "X_train_normal = np.asarray(X_train_normal)\n",
        "X_train_abnormal = np.asarray(X_train_abnormal)"
      ],
      "execution_count": null,
      "outputs": []
    },
    {
      "cell_type": "code",
      "metadata": {
        "colab": {
          "base_uri": "https://localhost:8080/"
        },
        "id": "DmNb2CxTYMsv",
        "outputId": "fa1a7512-3427-401f-d86d-8ea2f762e364"
      },
      "source": [
        "len(X_train_normal)"
      ],
      "execution_count": null,
      "outputs": [
        {
          "output_type": "execute_result",
          "data": {
            "text/plain": [
              "5000"
            ]
          },
          "metadata": {
            "tags": []
          },
          "execution_count": 19
        }
      ]
    },
    {
      "cell_type": "code",
      "metadata": {
        "id": "Q31rPvRRYMwn",
        "colab": {
          "base_uri": "https://localhost:8080/"
        },
        "outputId": "77187315-8c09-40dd-9dca-67f705913d39"
      },
      "source": [
        "len(X_train_abnormal[-5:]) # fold 1"
      ],
      "execution_count": null,
      "outputs": [
        {
          "output_type": "execute_result",
          "data": {
            "text/plain": [
              "5"
            ]
          },
          "metadata": {
            "tags": []
          },
          "execution_count": 24
        }
      ]
    },
    {
      "cell_type": "code",
      "metadata": {
        "id": "YktWeLdCDMdi"
      },
      "source": [
        "# expand to 3d, e.g. add channels dimension\n",
        "#abnormal_data = np.expand_dims(X_train_abnormal, axis=-1)\n",
        "#normal_data = np.expand_dims(X_train_normal, axis=-1)\n"
      ],
      "execution_count": null,
      "outputs": []
    },
    {
      "cell_type": "code",
      "metadata": {
        "id": "G8coq_DioOfW"
      },
      "source": [
        "abnormal_data = X_train_abnormal[-5:]"
      ],
      "execution_count": null,
      "outputs": []
    },
    {
      "cell_type": "code",
      "metadata": {
        "id": "6FK4KbQEWTXj"
      },
      "source": [
        "train_images = X_train_normal.reshape(X_train_normal.shape[0], 32, 32, 3).astype('float32')\n",
        "#train_images = (train_images - 127.5) / 127.5\n",
        "\n",
        "train_images = (train_images) / 255.0\n"
      ],
      "execution_count": null,
      "outputs": []
    },
    {
      "cell_type": "code",
      "metadata": {
        "colab": {
          "base_uri": "https://localhost:8080/"
        },
        "id": "9nWGeHknZqWi",
        "outputId": "73ade4c8-0e99-4516-d1f7-fda07c5f2a92"
      },
      "source": [
        "X_train_normal.shape[0]"
      ],
      "execution_count": null,
      "outputs": [
        {
          "output_type": "execute_result",
          "data": {
            "text/plain": [
              "5000"
            ]
          },
          "metadata": {
            "tags": []
          },
          "execution_count": 28
        }
      ]
    },
    {
      "cell_type": "code",
      "metadata": {
        "id": "CYwdQfEKZqbY"
      },
      "source": [
        ""
      ],
      "execution_count": null,
      "outputs": []
    },
    {
      "cell_type": "code",
      "metadata": {
        "id": "ol3vSNgFDhpl"
      },
      "source": [
        "abnormal_data = abnormal_data.astype('float32')\n",
        "#normal_data = normal_data.astype('float32')\n",
        "\n",
        "abnormal_data = abnormal_data / 255.0\n",
        "#normal_data = normal_data / 255.0"
      ],
      "execution_count": null,
      "outputs": []
    },
    {
      "cell_type": "code",
      "metadata": {
        "id": "V5-oEA2bd9IC"
      },
      "source": [
        ""
      ],
      "execution_count": null,
      "outputs": []
    },
    {
      "cell_type": "code",
      "metadata": {
        "id": "sSV0pNbeOv3M"
      },
      "source": [
        "X_test_abnormal = []\n",
        "X_test_normal = []\n",
        "\n",
        "# plot images from the training dataset\n",
        "for i in range(len(X_test)):\n",
        "  if X_test_label[i] == 0: # few abnormal samples\n",
        "    X_test_abnormal.append(X_test[i])\n",
        "  elif X_test_label[i] == 1:\n",
        "    X_test_normal.append(X_test[i])"
      ],
      "execution_count": null,
      "outputs": []
    },
    {
      "cell_type": "code",
      "metadata": {
        "id": "-IvGp4YLROqa"
      },
      "source": [
        "# expand to 3d, e.g. add channels dimension\n",
        "abnormal_data_test = np.expand_dims(X_test_abnormal, axis=0)"
      ],
      "execution_count": null,
      "outputs": []
    },
    {
      "cell_type": "code",
      "metadata": {
        "id": "JkwO2RDdOwDv"
      },
      "source": [
        "abnormal_data_test = abnormal_data_test.astype('float32')\n",
        "abnormal_data_test = abnormal_data_test / 255.0"
      ],
      "execution_count": null,
      "outputs": []
    },
    {
      "cell_type": "code",
      "metadata": {
        "id": "f4H4yhdJPYok"
      },
      "source": [
        "#abnormal_images = np.array(os.listdir(path_abnormal))\n",
        "np.random.shuffle(abnormal_data_test)\n",
        "BUFFER_SIZE = len(X_test_abnormal) #200000 # number of images in training i think\n",
        "BATCH_SIZE = 1#500 # This is just the standard number for batch size. Google for more info\n",
        "# shuffle and batch the data\n",
        "np.random.shuffle(abnormal_data_test)\n",
        "abnormal_data_test = np.split(abnormal_data_test[:BUFFER_SIZE],BATCH_SIZE)"
      ],
      "execution_count": null,
      "outputs": []
    },
    {
      "cell_type": "code",
      "metadata": {
        "id": "KPTvr3l8P_-8"
      },
      "source": [
        "X_test_normal = np.asarray(X_test_normal)"
      ],
      "execution_count": null,
      "outputs": []
    },
    {
      "cell_type": "code",
      "metadata": {
        "id": "5Grufe46QADl"
      },
      "source": [
        "test_normal_images = X_test_normal.reshape(X_test_normal.shape[0], 32, 32, 3).astype('float32')\n",
        "#train_images = (train_images - 127.5) / 127.5\n",
        "\n",
        "test_normal_images = (test_normal_images) / 255.0"
      ],
      "execution_count": null,
      "outputs": []
    },
    {
      "cell_type": "code",
      "metadata": {
        "id": "Jsx_LALn7zFI"
      },
      "source": [
        "test_normal_ds = tf.data.Dataset.from_tensor_slices(test_normal_images).shuffle(54077).batch(100000000)"
      ],
      "execution_count": null,
      "outputs": []
    },
    {
      "cell_type": "code",
      "metadata": {
        "id": "LgOVbw095qCd"
      },
      "source": [
        "# X_train_normal_np = X_train_normal_np.astype('float32') / 255.\n",
        "# X_train_abnormal_np = X_train_abnormal_np.astype('float32') / 255."
      ],
      "execution_count": null,
      "outputs": []
    },
    {
      "cell_type": "code",
      "metadata": {
        "id": "SFD4eRcvqTXH"
      },
      "source": [
        "# path = \"/content/gdrive/MyDrive/Anomaly_Detection_Videos/normal_frames/\""
      ],
      "execution_count": null,
      "outputs": []
    },
    {
      "cell_type": "code",
      "metadata": {
        "id": "A4pyk1fpg--V"
      },
      "source": [
        "# path_abnormal = \"/content/gdrive/MyDrive/Anomaly_Detection_Videos/abnormal_frames/\""
      ],
      "execution_count": null,
      "outputs": []
    },
    {
      "cell_type": "code",
      "metadata": {
        "id": "W2aq3snQqTXH"
      },
      "source": [
        "# def load_image( infilename ) :\n",
        "#     img = PIL.Image.open( infilename )\n",
        "#     #img = img.crop([25,65,153,193])\n",
        "#     #img = img.resize((64,64))\n",
        "#     img = img.resize((512,512))\n",
        "#     data = np.asarray( img, dtype=\"int32\" )\n",
        "#     return data"
      ],
      "execution_count": null,
      "outputs": []
    },
    {
      "cell_type": "code",
      "metadata": {
        "id": "uPu_SL8nscPu"
      },
      "source": [
        "latent_dim = 128\n",
        "C = 3\n",
        "img_width = img_height = 32"
      ],
      "execution_count": null,
      "outputs": []
    },
    {
      "cell_type": "code",
      "metadata": {
        "id": "zZnINbCQYiCj"
      },
      "source": [
        "IMG_SIZE = (32, 32)"
      ],
      "execution_count": null,
      "outputs": []
    },
    {
      "cell_type": "code",
      "metadata": {
        "id": "iyzrcusrYiH0"
      },
      "source": [
        "IMG_SHAPE = IMG_SIZE + (3,)"
      ],
      "execution_count": null,
      "outputs": []
    },
    {
      "cell_type": "code",
      "metadata": {
        "id": "dw5bZzws8fdZ"
      },
      "source": [
        ""
      ],
      "execution_count": null,
      "outputs": []
    },
    {
      "cell_type": "code",
      "metadata": {
        "id": "zfQKg-dhX8fW",
        "colab": {
          "base_uri": "https://localhost:8080/"
        },
        "outputId": "af5279aa-89c1-47ec-8fe7-fdb2b304f71b"
      },
      "source": [
        "base_model_encoder = tf.keras.applications.DenseNet121(input_shape=IMG_SHAPE,\n",
        "                                            include_top=False,\n",
        "                                            weights='imagenet')"
      ],
      "execution_count": null,
      "outputs": [
        {
          "output_type": "stream",
          "text": [
            "Downloading data from https://storage.googleapis.com/tensorflow/keras-applications/densenet/densenet121_weights_tf_dim_ordering_tf_kernels_notop.h5\n",
            "29089792/29084464 [==============================] - 1s 0us/step\n"
          ],
          "name": "stdout"
        }
      ]
    },
    {
      "cell_type": "code",
      "metadata": {
        "id": "HXuOE3mvX8ke"
      },
      "source": [
        "base_model_encoder.trainable = True"
      ],
      "execution_count": null,
      "outputs": []
    },
    {
      "cell_type": "code",
      "metadata": {
        "colab": {
          "base_uri": "https://localhost:8080/"
        },
        "id": "zpri_oGgYKUh",
        "outputId": "aae801a2-3271-4fb0-a9fa-7831e8bdd531"
      },
      "source": [
        "# Let's take a look to see how many layers are in the base model\n",
        "print(\"Number of layers in the base model: \", len(base_model_encoder.layers))\n",
        "\n",
        "# Fine-tune from this layer onwards\n",
        "fine_tune_at_encoder = 422\n",
        "\n",
        "# Freeze all the layers before the `fine_tune_at` layer\n",
        "for layer in base_model_encoder.layers[:fine_tune_at_encoder]:\n",
        "  layer.trainable =  False"
      ],
      "execution_count": null,
      "outputs": [
        {
          "output_type": "stream",
          "text": [
            "Number of layers in the base model:  427\n"
          ],
          "name": "stdout"
        }
      ]
    },
    {
      "cell_type": "code",
      "metadata": {
        "colab": {
          "base_uri": "https://localhost:8080/"
        },
        "id": "DLGyCBlppYCC",
        "outputId": "980fb7ff-f17d-436e-b1ba-340c66c7ad48"
      },
      "source": [
        "print(f'{len(base_model_encoder.layers) - fine_tune_at_encoder} layers fine-tuned at generator module')"
      ],
      "execution_count": null,
      "outputs": [
        {
          "output_type": "stream",
          "text": [
            "5 layers fine-tuned at generator module\n"
          ],
          "name": "stdout"
        }
      ]
    },
    {
      "cell_type": "code",
      "metadata": {
        "id": "JAYO2zxqpYJZ"
      },
      "source": [
        ""
      ],
      "execution_count": null,
      "outputs": []
    },
    {
      "cell_type": "code",
      "metadata": {
        "id": "bCZSULVkYKZL"
      },
      "source": [
        "global_average_layer = tf.keras.layers.GlobalAveragePooling2D()"
      ],
      "execution_count": null,
      "outputs": []
    },
    {
      "cell_type": "code",
      "metadata": {
        "id": "KdSPwz6GYKdj"
      },
      "source": [
        ""
      ],
      "execution_count": null,
      "outputs": []
    },
    {
      "cell_type": "code",
      "metadata": {
        "id": "nXUrrksy8fhs"
      },
      "source": [
        "def make_encoder_model():\n",
        "  inputs = layers.Input(shape=(img_width, img_height, C), name=\"inputs\")\n",
        "  x = inputs\n",
        "\n",
        "  # Fine-tuning the base layers\n",
        "\n",
        "  x = base_model_encoder(inputs, training=False)\n",
        "  x = global_average_layer(x)\n",
        "  #x = tf.keras.layers.Dropout(0.2)(x)\n",
        "\n",
        "\n",
        "\n",
        "\n",
        "  # x = layers.Conv2D(32, (3,3), padding=\"same\")(x)\n",
        "  # x = layers.BatchNormalization()(x)\n",
        "  # x = layers.LeakyReLU(alpha=0.2)(x)\n",
        "  # x = layers.MaxPool2D((2,2))(x)\n",
        "\n",
        "  # x = layers.Conv2D(32, (3,3), padding=\"same\")(x)\n",
        "  # x = layers.BatchNormalization()(x)\n",
        "  # x = layers.LeakyReLU(alpha=0.2)(x)\n",
        "  # x = layers.MaxPool2D((2,2))(x)\n",
        "\n",
        "  print('shape after encoder: ', x.shape)\n",
        "\n",
        "  # x = layers.Flatten()(x)\n",
        "  units = x.shape[1] * 2\n",
        "  x = layers.Dense(latent_dim, name=\"latent\")(x)\n",
        "\n",
        "  return (x, inputs, units)"
      ],
      "execution_count": null,
      "outputs": []
    },
    {
      "cell_type": "code",
      "metadata": {
        "id": "XNYtNMdF8fl6"
      },
      "source": [
        "def make_generator_model(x, units):\n",
        "  # Building the generator\n",
        "  x = layers.Dense(units)(x)\n",
        "  x = layers.LeakyReLU(alpha=0.2)(x)\n",
        "  x = layers.Reshape((8, 8, 32))(x) # reshape to shape after encoder\n",
        "\n",
        "  x = layers.Conv2DTranspose(64, (3, 3), strides=2, padding=\"same\")(x)\n",
        "  x = layers.BatchNormalization()(x)\n",
        "  x = layers.LeakyReLU(alpha=0.2)(x)\n",
        "\n",
        "  x = layers.Conv2DTranspose(C, (3,3), strides=2, padding='same')(x)\n",
        "  x = layers.BatchNormalization()(x)\n",
        "  x = layers.Activation(\"sigmoid\", name=\"outputs\")(x)\n",
        "\n",
        "  outputs = x\n",
        "\n",
        "  return outputs"
      ],
      "execution_count": null,
      "outputs": []
    },
    {
      "cell_type": "code",
      "metadata": {
        "colab": {
          "base_uri": "https://localhost:8080/"
        },
        "id": "Z0XkFJ1aCqB4",
        "outputId": "ba998c62-1613-4117-a0f5-03f6d9af534e"
      },
      "source": [
        "x, inputs, units = make_encoder_model()"
      ],
      "execution_count": null,
      "outputs": [
        {
          "output_type": "stream",
          "text": [
            "shape after encoder:  (None, 1024)\n"
          ],
          "name": "stdout"
        }
      ]
    },
    {
      "cell_type": "code",
      "metadata": {
        "id": "WlJxGlN8CwBv"
      },
      "source": [
        "outputs = make_generator_model(x=x, units=units)"
      ],
      "execution_count": null,
      "outputs": []
    },
    {
      "cell_type": "code",
      "metadata": {
        "id": "1lpD6HVQCLjP"
      },
      "source": [
        "encoder_generator_network = Model(inputs=inputs, outputs=outputs)"
      ],
      "execution_count": null,
      "outputs": []
    },
    {
      "cell_type": "code",
      "metadata": {
        "colab": {
          "base_uri": "https://localhost:8080/"
        },
        "id": "eVs7XgajsN5_",
        "outputId": "a5b4e1f1-9d2e-4273-d841-9860e2171b13"
      },
      "source": [
        "print(x.shape)"
      ],
      "execution_count": null,
      "outputs": [
        {
          "output_type": "stream",
          "text": [
            "(None, 128)\n"
          ],
          "name": "stdout"
        }
      ]
    },
    {
      "cell_type": "code",
      "metadata": {
        "colab": {
          "base_uri": "https://localhost:8080/"
        },
        "id": "4bNKAlYV_egO",
        "outputId": "ee231623-db29-45ee-e6b0-ccffa5c1e2fc"
      },
      "source": [
        "abnormal_data.shape"
      ],
      "execution_count": null,
      "outputs": [
        {
          "output_type": "execute_result",
          "data": {
            "text/plain": [
              "(5, 32, 32, 3)"
            ]
          },
          "metadata": {
            "tags": []
          },
          "execution_count": 55
        }
      ]
    },
    {
      "cell_type": "code",
      "metadata": {
        "id": "GhqB68KtCXjK"
      },
      "source": [
        ""
      ],
      "execution_count": null,
      "outputs": []
    },
    {
      "cell_type": "code",
      "metadata": {
        "id": "mH1fvSBtKEQG"
      },
      "source": [
        "#abnormal_images = np.array(os.listdir(path_abnormal))\n",
        "np.random.shuffle(abnormal_data)\n",
        "BUFFER_SIZE = len(X_train_abnormal) #200000 # number of images in training i think\n",
        "BATCH_SIZE = 1#500 # This is just the standard number for batch size. Google for more info\n",
        "# shuffle and batch the data\n",
        "np.random.shuffle(abnormal_data)\n",
        "# abnormal_data = np.split(abnormal_data[:BUFFER_SIZE],BATCH_SIZE)\n",
        "\n",
        "abnormal_data = np.split(abnormal_data[:2500], 1)"
      ],
      "execution_count": null,
      "outputs": []
    },
    {
      "cell_type": "code",
      "metadata": {
        "id": "d-vj7oPxKEVB"
      },
      "source": [
        "# #abnormal_images = np.array(os.listdir(path_abnormal))\n",
        "# np.random.shuffle(normal_data)\n",
        "# BUFFER_SIZE = 5#200000 # number of images in training i think\n",
        "# BATCH_SIZE = 1#500 # This is just the standard number for batch size. Google for more info\n",
        "# # shuffle and batch the data\n",
        "# np.random.shuffle(normal_data)\n",
        "# #normal_data = np.split(normal_data[:BUFFER_SIZE],BATCH_SIZE)"
      ],
      "execution_count": null,
      "outputs": []
    },
    {
      "cell_type": "code",
      "metadata": {
        "id": "rh-o7AjMV0yF"
      },
      "source": [
        "train_normal_dataset = tf.data.Dataset.from_tensor_slices(train_images).shuffle(54077).batch(128)"
      ],
      "execution_count": null,
      "outputs": []
    },
    {
      "cell_type": "code",
      "metadata": {
        "id": "COO4SI8nCXng"
      },
      "source": [
        "#len(abnormal_data[0][1])"
      ],
      "execution_count": null,
      "outputs": []
    },
    {
      "cell_type": "code",
      "metadata": {
        "id": "wrAL-SrYCXri"
      },
      "source": [
        ""
      ],
      "execution_count": null,
      "outputs": []
    },
    {
      "cell_type": "code",
      "metadata": {
        "id": "fWO5D3VhqTXJ",
        "colab": {
          "base_uri": "https://localhost:8080/",
          "height": 283
        },
        "outputId": "26248dd5-7c04-47f7-f5a6-2e4b8d324240"
      },
      "source": [
        "#generator = make_generator_model()\n",
        "\n",
        "#noise = tf.random.normal([1, img_width,img_height, 1]) # shape is 1, 100\n",
        "generated_image = encoder_generator_network(abnormal_data, training = True)\n",
        "#plt.imshow(generated_image[0], interpolation=\"nearest\" )\n",
        "plt.imshow(generated_image[0])"
      ],
      "execution_count": null,
      "outputs": [
        {
          "output_type": "execute_result",
          "data": {
            "text/plain": [
              "<matplotlib.image.AxesImage at 0x7f347810f150>"
            ]
          },
          "metadata": {
            "tags": []
          },
          "execution_count": 60
        },
        {
          "output_type": "display_data",
          "data": {
            "image/png": "[encoded data removed]",
            "text/plain": [
              "<Figure size 432x288 with 1 Axes>"
            ]
          },
          "metadata": {
            "tags": [],
            "needs_background": "light"
          }
        }
      ]
    },
    {
      "cell_type": "code",
      "metadata": {
        "colab": {
          "base_uri": "https://localhost:8080/"
        },
        "id": "RIS1LB3fEKge",
        "outputId": "e59f1aa2-f5a2-4ee6-c672-118334509d11"
      },
      "source": [
        "len(generated_image)"
      ],
      "execution_count": null,
      "outputs": [
        {
          "output_type": "execute_result",
          "data": {
            "text/plain": [
              "5"
            ]
          },
          "metadata": {
            "tags": []
          },
          "execution_count": 61
        }
      ]
    },
    {
      "cell_type": "code",
      "metadata": {
        "id": "2_JX0ygx1xSM"
      },
      "source": [
        "IMG_SIZE = (32, 32)"
      ],
      "execution_count": null,
      "outputs": []
    },
    {
      "cell_type": "code",
      "metadata": {
        "id": "s7BC5Ze0140V"
      },
      "source": [
        "IMG_SHAPE = IMG_SIZE + (3,)"
      ],
      "execution_count": null,
      "outputs": []
    },
    {
      "cell_type": "code",
      "metadata": {
        "id": "WLw6Wcgl1YZF"
      },
      "source": [
        "base_model_disc = tf.keras.applications.DenseNet121(input_shape=IMG_SHAPE,\n",
        "                                            include_top=False,\n",
        "                                            weights='imagenet')"
      ],
      "execution_count": null,
      "outputs": []
    },
    {
      "cell_type": "code",
      "metadata": {
        "id": "4CDCFe_I2X6V"
      },
      "source": [
        "base_model_disc.trainable = True"
      ],
      "execution_count": null,
      "outputs": []
    },
    {
      "cell_type": "code",
      "metadata": {
        "id": "AOq_9yDAMpt8"
      },
      "source": [
        "#base_model.summary()"
      ],
      "execution_count": null,
      "outputs": []
    },
    {
      "cell_type": "code",
      "metadata": {
        "id": "K0Lq2PKSMqr8",
        "colab": {
          "base_uri": "https://localhost:8080/"
        },
        "outputId": "a8d86c75-6cb4-4feb-8d13-9d545a86946e"
      },
      "source": [
        "# Let's take a look to see how many layers are in the base model\n",
        "print(\"Number of layers in the base model: \", len(base_model_disc.layers))\n",
        "\n",
        "# Fine-tune from this layer onwards\n",
        "fine_tune_at_disc = 422\n",
        "\n",
        "# Freeze all the layers before the `fine_tune_at` layer\n",
        "for layer in base_model_disc.layers[:fine_tune_at_disc]:\n",
        "  layer.trainable =  False"
      ],
      "execution_count": null,
      "outputs": [
        {
          "output_type": "stream",
          "text": [
            "Number of layers in the base model:  427\n"
          ],
          "name": "stdout"
        }
      ]
    },
    {
      "cell_type": "code",
      "metadata": {
        "id": "2FyOq3W320La",
        "colab": {
          "base_uri": "https://localhost:8080/"
        },
        "outputId": "15377017-2960-45a7-d0a4-69ecdc401ead"
      },
      "source": [
        "print(f'{len(base_model_disc.layers) - fine_tune_at_disc} layers fine-tuned at discriminator module')"
      ],
      "execution_count": null,
      "outputs": [
        {
          "output_type": "stream",
          "text": [
            "5 layers fine-tuned at discriminator module\n"
          ],
          "name": "stdout"
        }
      ]
    },
    {
      "cell_type": "code",
      "metadata": {
        "id": "0j63xQlYp0_6"
      },
      "source": [
        ""
      ],
      "execution_count": null,
      "outputs": []
    },
    {
      "cell_type": "code",
      "metadata": {
        "id": "gOUWK3mc4ASy"
      },
      "source": [
        "prediction_layer = tf.keras.layers.Dense(1)"
      ],
      "execution_count": null,
      "outputs": []
    },
    {
      "cell_type": "code",
      "metadata": {
        "id": "5ZIr4xHs4AW-"
      },
      "source": [
        "global_average_layer = tf.keras.layers.GlobalAveragePooling2D()"
      ],
      "execution_count": null,
      "outputs": []
    },
    {
      "cell_type": "code",
      "metadata": {
        "id": "cGkPavlnAVte"
      },
      "source": [
        ""
      ],
      "execution_count": null,
      "outputs": []
    },
    {
      "cell_type": "code",
      "metadata": {
        "id": "KhC_gomoZhwp",
        "colab": {
          "base_uri": "https://localhost:8080/",
          "height": 839
        },
        "outputId": "3c050872-f496-4561-c312-4a45398673df"
      },
      "source": [
        "# example of defining the discriminator model\n",
        "from keras.models import Sequential\n",
        "from keras.optimizers import Adam\n",
        "from keras.layers import Dense\n",
        "from keras.layers import Conv2D\n",
        "from keras.layers import Flatten\n",
        "from keras.layers import Dropout\n",
        "from keras.layers import LeakyReLU\n",
        "from keras.utils.vis_utils import plot_model\n",
        "\n",
        "\n",
        "def define_discriminator():\n",
        "  inputs = tf.keras.Input(shape=(32, 32, 3))\n",
        "  #x = data_augmentation(inputs)\n",
        "  #x = preprocess_input(x)\n",
        "  x = base_model_disc(inputs, training=False)\n",
        "  x = global_average_layer(x)\n",
        "  x = tf.keras.layers.Dropout(0.2)(x)\n",
        "  outputs = prediction_layer(x)\n",
        "  model = tf.keras.Model(inputs, outputs)\n",
        "\n",
        "  return model\n",
        "\n",
        "\n",
        " \n",
        "# define the standalone discriminator model\n",
        "def define_discriminator2(in_shape=(img_width, img_height, C)):\n",
        " model = Sequential()\n",
        " model.add(Conv2D(64, (5,5), strides=(2, 2), padding='same', input_shape=in_shape))\n",
        " model.add(LeakyReLU(alpha=0.2))\n",
        " model.add(Dropout(0.4))\n",
        " model.add(Conv2D(128, (5,5), strides=(2, 2), padding='same'))\n",
        " model.add(LeakyReLU(alpha=0.2))\n",
        " model.add(Dropout(0.4))\n",
        " model.add(Flatten())\n",
        " model.add(Dense(1, activation='sigmoid'))\n",
        " # compile model\n",
        " #opt = Adam(lr=0.0002, beta_1=0.5)\n",
        " #model.compile(loss='binary_crossentropy', optimizer=opt, metrics=['accuracy'])\n",
        " return model\n",
        " \n",
        "# define discriminator model\n",
        "discriminator = define_discriminator()\n",
        "# summarize the model\n",
        "discriminator.summary()\n",
        "# plot the model\n",
        "plot_model(discriminator, to_file='discriminator_plot.png', show_shapes=True, show_layer_names=True)"
      ],
      "execution_count": null,
      "outputs": [
        {
          "output_type": "stream",
          "text": [
            "Model: \"model_1\"\n",
            "_________________________________________________________________\n",
            "Layer (type)                 Output Shape              Param #   \n",
            "=================================================================\n",
            "input_3 (InputLayer)         [(None, 32, 32, 3)]       0         \n",
            "_________________________________________________________________\n",
            "densenet121 (Functional)     (None, 1, 1, 1024)        7037504   \n",
            "_________________________________________________________________\n",
            "global_average_pooling2d_1 ( (None, 1024)              0         \n",
            "_________________________________________________________________\n",
            "dropout (Dropout)            (None, 1024)              0         \n",
            "_________________________________________________________________\n",
            "dense_1 (Dense)              (None, 1)                 1025      \n",
            "=================================================================\n",
            "Total params: 7,038,529\n",
            "Trainable params: 39,937\n",
            "Non-trainable params: 6,998,592\n",
            "_________________________________________________________________\n"
          ],
          "name": "stdout"
        },
        {
          "output_type": "execute_result",
          "data": {
            "image/png": "[encoded data removed]",
            "text/plain": [
              "<IPython.core.display.Image object>"
            ]
          },
          "metadata": {
            "tags": []
          },
          "execution_count": 71
        }
      ]
    },
    {
      "cell_type": "code",
      "metadata": {
        "id": "u1lRmOOsbGh3"
      },
      "source": [
        ""
      ],
      "execution_count": null,
      "outputs": []
    },
    {
      "cell_type": "code",
      "metadata": {
        "id": "wHdpzCmbbGmF",
        "colab": {
          "base_uri": "https://localhost:8080/"
        },
        "outputId": "296f999a-7ff3-4514-8574-f5eb8f45b566"
      },
      "source": [
        "decision = discriminator(generated_image)\n",
        "print(decision)"
      ],
      "execution_count": null,
      "outputs": [
        {
          "output_type": "stream",
          "text": [
            "tf.Tensor(\n",
            "[[0.4612374 ]\n",
            " [0.49828053]\n",
            " [0.6430241 ]\n",
            " [0.8865961 ]\n",
            " [0.73089516]], shape=(5, 1), dtype=float32)\n"
          ],
          "name": "stdout"
        }
      ]
    },
    {
      "cell_type": "code",
      "metadata": {
        "id": "DB5sg7RXEZYj",
        "colab": {
          "base_uri": "https://localhost:8080/"
        },
        "outputId": "c605bbb7-51ec-4f08-ada5-63bf1d7972df"
      },
      "source": [
        "len(decision)"
      ],
      "execution_count": null,
      "outputs": [
        {
          "output_type": "execute_result",
          "data": {
            "text/plain": [
              "5"
            ]
          },
          "metadata": {
            "tags": []
          },
          "execution_count": 73
        }
      ]
    },
    {
      "cell_type": "markdown",
      "metadata": {
        "id": "Qs_S3MejNCHX"
      },
      "source": [
        "## Testing Abnormal data with discriminator ##"
      ]
    },
    {
      "cell_type": "code",
      "metadata": {
        "id": "5dlujBYpF-fW"
      },
      "source": [
        "abn_data = np.expand_dims(abnormal_data[0][-1], axis=0)"
      ],
      "execution_count": null,
      "outputs": []
    },
    {
      "cell_type": "code",
      "metadata": {
        "id": "2S2qAFqlEvzm",
        "colab": {
          "base_uri": "https://localhost:8080/"
        },
        "outputId": "a3c1680a-1a1a-4960-c962-7445697f0305"
      },
      "source": [
        "decision = discriminator(abn_data)\n",
        "print(decision) # discriminator decision should be close to 0"
      ],
      "execution_count": null,
      "outputs": [
        {
          "output_type": "stream",
          "text": [
            "tf.Tensor([[0.05303849]], shape=(1, 1), dtype=float32)\n"
          ],
          "name": "stdout"
        }
      ]
    },
    {
      "cell_type": "code",
      "metadata": {
        "id": "v8Wo5Nf5wCva",
        "colab": {
          "base_uri": "https://localhost:8080/"
        },
        "outputId": "eadf6116-8214-489a-8321-c183221e2342"
      },
      "source": [
        "type(abn_data)"
      ],
      "execution_count": null,
      "outputs": [
        {
          "output_type": "execute_result",
          "data": {
            "text/plain": [
              "numpy.ndarray"
            ]
          },
          "metadata": {
            "tags": []
          },
          "execution_count": 76
        }
      ]
    },
    {
      "cell_type": "code",
      "metadata": {
        "id": "28CZSdQzbGu3",
        "colab": {
          "base_uri": "https://localhost:8080/",
          "height": 283
        },
        "outputId": "738613fd-6500-47a3-c510-7a7dddbfcaa6"
      },
      "source": [
        "plt.imshow(tf.squeeze(abn_data))"
      ],
      "execution_count": null,
      "outputs": [
        {
          "output_type": "execute_result",
          "data": {
            "text/plain": [
              "<matplotlib.image.AxesImage at 0x7f3478271690>"
            ]
          },
          "metadata": {
            "tags": []
          },
          "execution_count": 77
        },
        {
          "output_type": "display_data",
          "data": {
            "image/png": "[encoded data removed]",
            "text/plain": [
              "<Figure size 432x288 with 1 Axes>"
            ]
          },
          "metadata": {
            "tags": [],
            "needs_background": "light"
          }
        }
      ]
    },
    {
      "cell_type": "code",
      "metadata": {
        "id": "S4DCvenAKh0x",
        "colab": {
          "base_uri": "https://localhost:8080/"
        },
        "outputId": "d12d4325-27fa-415e-a5ea-9c9bfa0c54df"
      },
      "source": [
        "train_images[0].shape"
      ],
      "execution_count": null,
      "outputs": [
        {
          "output_type": "execute_result",
          "data": {
            "text/plain": [
              "(32, 32, 3)"
            ]
          },
          "metadata": {
            "tags": []
          },
          "execution_count": 78
        }
      ]
    },
    {
      "cell_type": "markdown",
      "metadata": {
        "id": "jwJpR577MX0z"
      },
      "source": [
        "## Testing Normal data with discriminator ##"
      ]
    },
    {
      "cell_type": "code",
      "metadata": {
        "id": "AN_M5tHIKA2V"
      },
      "source": [
        "nor_data = np.expand_dims(train_images[2510], axis=0)"
      ],
      "execution_count": null,
      "outputs": []
    },
    {
      "cell_type": "code",
      "metadata": {
        "id": "JPd_QFwnKA6P",
        "colab": {
          "base_uri": "https://localhost:8080/"
        },
        "outputId": "90872b7a-39e0-4dd2-af54-a2658fa0e9c3"
      },
      "source": [
        "decision = discriminator(nor_data)\n",
        "print(decision) # discriminator decision should be close to 1"
      ],
      "execution_count": null,
      "outputs": [
        {
          "output_type": "stream",
          "text": [
            "tf.Tensor([[-0.58227444]], shape=(1, 1), dtype=float32)\n"
          ],
          "name": "stdout"
        }
      ]
    },
    {
      "cell_type": "code",
      "metadata": {
        "id": "UInXhBIZKA-f",
        "colab": {
          "base_uri": "https://localhost:8080/",
          "height": 283
        },
        "outputId": "e36963ed-2ee8-476c-d473-e832a7f634af"
      },
      "source": [
        "plt.imshow(tf.squeeze(nor_data))"
      ],
      "execution_count": null,
      "outputs": [
        {
          "output_type": "execute_result",
          "data": {
            "text/plain": [
              "<matplotlib.image.AxesImage at 0x7f347820fc90>"
            ]
          },
          "metadata": {
            "tags": []
          },
          "execution_count": 81
        },
        {
          "output_type": "display_data",
          "data": {
            "image/png": "[encoded data removed]",
            "text/plain": [
              "<Figure size 432x288 with 1 Axes>"
            ]
          },
          "metadata": {
            "tags": [],
            "needs_background": "light"
          }
        }
      ]
    },
    {
      "cell_type": "code",
      "metadata": {
        "id": "rhgWJhlpGzYI"
      },
      "source": [
        ""
      ],
      "execution_count": null,
      "outputs": []
    },
    {
      "cell_type": "code",
      "metadata": {
        "id": "tGgpbeW2qTXK"
      },
      "source": [
        "# This method returns a helper function to compute cross entropy loss\n",
        "cross_entropy = tf.keras.losses.BinaryCrossentropy(from_logits = True)\n",
        "\n",
        "\"\"\"\n",
        "Discriminator Loss\n",
        "\n",
        "This method quantifies how well the discriminator is able to distinguish real images from fakes. It compares the discriminator's predicitions on real images to an array of 1s\n",
        "and the dicriminator's predicitons on fake (generated) images to an array of 0s.\n",
        "\"\"\"\n",
        "@tf.function\n",
        "def discriminator_loss(real_output, fake_output):\n",
        "  real_loss = cross_entropy(tf.ones_like(real_output), real_output)\n",
        "  fake_loss = cross_entropy(tf.zeros_like(fake_output), fake_output)\n",
        "\n",
        "  #abnormal_loss = cross_entropy(tf.zeros_like(abnormal_output), abnormal_output)\n",
        "\n",
        "  #total_loss = real_loss + fake_loss + abnormal_loss\n",
        "  total_loss = real_loss + fake_loss\n",
        "  \n",
        "  return total_loss\n",
        "\n",
        "\"\"\"\n",
        "Generator Loss\n",
        "\n",
        "The generator's loss quantifies how well it was able to trick the discrimator. Intuitively, if the generator is performing well, the discriminator will classify the fake images as real (or 1).\n",
        "Here, we will compare the discriminators decisions on the generated images to an array of 1s.\n",
        "\"\"\"\n",
        "@tf.function\n",
        "def generator_loss(fake_output):\n",
        "  # pick abnormal image at random for optimization\n",
        "  i = random.randint(0, len(abnormal_data))\n",
        "  print(f'i = {i}')\n",
        "\n",
        "  loss_1 = cross_entropy(tf.ones_like(fake_output), fake_output)\n",
        "  #loss_2 = cross_entropy(tf.ones_like(abnormal_data[0][i]), abnormal_data[0][i])\n",
        "  #loss_2 = cross_entropy(tf.ones_like(generated_images[i]), abnormal_data[0][i])\n",
        "  #loss_2 = cross_entropy(tf.zeros_like(abnormal_output), abnormal_output)\n",
        "  total_loss = loss_1\n",
        "  return total_loss\n",
        "\n",
        "\"\"\"\n",
        "The discriminator and the generator optimizers are different since we will train two networks separately.\n",
        "The Adam optimization algorithm is an extension to stochastic gradient descent.\n",
        "Stochastic gradient descent maintains a single learning rate (termed alpha) for all weight updates and the learning rate does not change during training.\n",
        "A learning rate is maintained for each network weight (parameter) and separately adapted as learning unfolds.\n",
        "\n",
        "\"\"\"\n",
        "generator_optimizer = tf.keras.optimizers.Adam(1e-4)\n",
        "discriminator_optimizer = tf.keras.optimizers.Adam(1e-4)"
      ],
      "execution_count": null,
      "outputs": []
    },
    {
      "cell_type": "code",
      "metadata": {
        "id": "5XuWcKeCqTXL"
      },
      "source": [
        "checkpoint_dir = \"./training_checkpoints\"\n",
        "checkpoint_prefix = os.path.join(checkpoint_dir, \"ckpt\")\n",
        "checkpoint = tf.train.Checkpoint(generator_optimizer = generator_optimizer,\n",
        "                                 discriminator_optimizer = discriminator_optimizer,\n",
        "                                 generator = encoder_generator_network,\n",
        "                                 discriminator = discriminator)"
      ],
      "execution_count": null,
      "outputs": []
    },
    {
      "cell_type": "code",
      "metadata": {
        "id": "i6JEwKwVqTXM",
        "colab": {
          "base_uri": "https://localhost:8080/",
          "height": 35
        },
        "outputId": "a09a838b-3631-4e89-f9fd-e44123ecb966"
      },
      "source": [
        "checkpoint_prefix"
      ],
      "execution_count": null,
      "outputs": [
        {
          "output_type": "execute_result",
          "data": {
            "application/vnd.google.colaboratory.intrinsic+json": {
              "type": "string"
            },
            "text/plain": [
              "'./training_checkpoints/ckpt'"
            ]
          },
          "metadata": {
            "tags": []
          },
          "execution_count": 84
        }
      ]
    },
    {
      "cell_type": "code",
      "metadata": {
        "id": "8WQJ798IqTXM"
      },
      "source": [
        "# We will reuse this seed overtime (so it's easier) to visualize progress in the animated GIF\n",
        "#tf.random.set_seed(1234)\n",
        "noise_dim = 100\n",
        "num_examples_to_generate = 16\n",
        "#seed = tf.random.normal([num_examples_to_generate, noise_dim], seed=1)"
      ],
      "execution_count": null,
      "outputs": []
    },
    {
      "cell_type": "code",
      "metadata": {
        "id": "ZbdY3pjYqTXM"
      },
      "source": [
        "EPOCHS = 100"
      ],
      "execution_count": null,
      "outputs": []
    },
    {
      "cell_type": "code",
      "metadata": {
        "id": "M9rv9o_yqTXM"
      },
      "source": [
        "\"\"\"\n",
        "The training loop begins with generator receiving a random seed as input. \n",
        "That seed is used to produce an image. The discriminator is then used to classify real images (drawn from the training set) and fakes images (produced by the generator). \n",
        "The loss is calculated for each of these models, and the gradients are used to update the generator and discriminator.\n",
        "\"\"\"\n",
        "\n",
        "# Notice the use of tf.function\n",
        "# This annotation causes the function to be \"compiled\"\n",
        "def train_step(images):\n",
        "    #noise = tf.random.normal([BATCH_SIZE, noise_dim])\n",
        "    \n",
        "    # take the image links and return a cropped image\n",
        "    # new_images = []\n",
        "    # for file_name in images:\n",
        "    #     #new_pic = load_image( path + file_name)\n",
        "    #     #new_images.append(new_pic)\n",
        "    #     new_images.append(file_name)\n",
        "    \n",
        "    # images = np.array(new_images)\n",
        "    #images = images.reshape(images.shape[0], img_width, img_height, C).astype('float32') # puts each number in its own numpy array so instead of [1,2,3] gonna be [[1], [2], [3]]\n",
        "    #images = (images) / 255 # normalize to [0,1]\n",
        "    \n",
        "\n",
        "\n",
        "    \"\"\"\n",
        "GradientTape() Records operations for automatic differentiation. Operations are recorded if \n",
        "they are executed within this context manager and at least one of their inputs is being \"watched\".\n",
        "    \"\"\"\n",
        "    with tf.GradientTape() as gen_tape, tf.GradientTape() as disc_tape:\n",
        "      generated_images = encoder_generator_network(abnormal_data, training=True)\n",
        "\n",
        "      real_output = discriminator(images, training=True) # images constist of only normal samples\n",
        "      #abnormal_output = discriminator(abnormal_data, training=True) # abnormal_data constist of only abnormal samples\n",
        "      fake_output = discriminator(generated_images, training=True)\n",
        "\n",
        "      #gen_loss = generator_loss(generated_images=generated_images, fake_output=fake_output)\n",
        "      gen_loss = generator_loss(fake_output=fake_output)\n",
        "      disc_loss = discriminator_loss(real_output, fake_output)\n",
        "    \n",
        "    gradients_of_generator = gen_tape.gradient(gen_loss, encoder_generator_network.trainable_variables)\n",
        "    gradients_of_discriminator = disc_tape.gradient(disc_loss, discriminator.trainable_variables)\n",
        "\n",
        "    generator_optimizer.apply_gradients(zip(gradients_of_generator, encoder_generator_network.trainable_variables)) # The zip() function returns an iterator of tuples based on the iterable object.\n",
        "    discriminator_optimizer.apply_gradients(zip(gradients_of_discriminator, discriminator.trainable_variables))\n",
        "    \n",
        "    images = None"
      ],
      "execution_count": null,
      "outputs": []
    },
    {
      "cell_type": "code",
      "metadata": {
        "id": "oGKJlanCqTXN"
      },
      "source": [
        "# ended at 20 epocsh"
      ],
      "execution_count": null,
      "outputs": []
    },
    {
      "cell_type": "code",
      "metadata": {
        "id": "i5kQUhUCgQHZ"
      },
      "source": [
        ""
      ],
      "execution_count": null,
      "outputs": []
    },
    {
      "cell_type": "code",
      "metadata": {
        "id": "-agqOOiHgQL0"
      },
      "source": [
        "  # To plot model performance at various epochs on abnormal and normal samples\n",
        "  chart_abnormal = []\n",
        "  chart_normal = []\n",
        "  chart_epoch = []"
      ],
      "execution_count": null,
      "outputs": []
    },
    {
      "cell_type": "code",
      "metadata": {
        "id": "iPpId52ejiJG"
      },
      "source": [
        ""
      ],
      "execution_count": null,
      "outputs": []
    },
    {
      "cell_type": "code",
      "metadata": {
        "id": "Z4wqVQodTLi5"
      },
      "source": [
        "def discriminator_inference(X_test_abnormal, X_test_normal, epoch):\n",
        "  \"\"\"function to calculate discriminator score on text data\"\"\"\n",
        "  print(f'Abnormal-count{\"Normal-count\":>17}')\n",
        "  # print(f'{len(predictions_abnormal_test[0]):>14}{len(decision_test_normal[0]):>14}')\n",
        "\n",
        "  predictions_abnormal_test = []\n",
        "\n",
        "  # # To plot model performance at various epochs on abnormal and normal samples\n",
        "  # chart_abnormal = []\n",
        "  # chart_normal = []\n",
        "  # chart_epoch = []\n",
        "\n",
        "  for index, data in enumerate(abnormal_data_test[0]):\n",
        "    abn_data_2 = abnormal_data_test[0][index]\n",
        "    predictions_abnormal_test.append(discriminator(abn_data_2))\n",
        "\n",
        "\n",
        "  count_test_abnormal = 0\n",
        "\n",
        "  for ind, _ in enumerate(predictions_abnormal_test[0]):\n",
        "    if (tf.keras.backend.get_value(predictions_abnormal_test[0][ind])) < 0: # setting a threshold of 0.9\n",
        "      count_test_abnormal += 1\n",
        "\n",
        "  print('Abnormal correct count: ', count_test_abnormal)\n",
        "\n",
        "\n",
        "  decision_test_normal = []\n",
        "\n",
        "  for index, img in enumerate(test_normal_ds):\n",
        "    decision = discriminator(img)\n",
        "    decision_test_normal.append(decision)\n",
        "    #print(decision) # discriminator decision should be close to 1\n",
        "\n",
        "\n",
        "  count_test_normal = 0\n",
        "\n",
        "  for ind, _ in enumerate(decision_test_normal[0]):\n",
        "    if (tf.keras.backend.get_value(decision_test_normal[0][ind]))[0] >= 0: # setting a threshold of 0.9\n",
        "      #print(decision_test_normal[ind])\n",
        "      count_test_normal += 1\n",
        "  print('Normal correct count: ', count_test_normal)\n",
        "\n",
        "\n",
        "  chart_abnormal.append(count_test_abnormal)\n",
        "  chart_normal.append(count_test_normal)\n",
        "  chart_epoch.append(epoch)\n",
        "\n",
        "  # return (chart_abnormal, chart_normal, chart_epoch)"
      ],
      "execution_count": null,
      "outputs": []
    },
    {
      "cell_type": "code",
      "metadata": {
        "id": "dS4RhZzLgQQe"
      },
      "source": [
        ""
      ],
      "execution_count": null,
      "outputs": []
    },
    {
      "cell_type": "code",
      "metadata": {
        "id": "fOw6GeCPqTXN"
      },
      "source": [
        "#@tf.function\n",
        "def train(dataset, epochs):  \n",
        "  tf.print(\"Starting man!\")\n",
        "  for epoch in range(epochs):\n",
        "    start = time.time()\n",
        "    tf.print(\"Starting Epoch:\", epoch)\n",
        "    batch_count = 1\n",
        "    for image_batch in dataset:\n",
        "      #tf.print(\"Batch:\", batch_count)\n",
        "      train_step(image_batch)\n",
        "      #print(\"Batch:\", batch_count, \"Complete\")\n",
        "      batch_count += 1\n",
        "    \n",
        "\n",
        "    # Produce images for the GIF as we go\n",
        "    display.clear_output(wait=True)\n",
        "    generate_and_save_images(encoder_generator_network,\n",
        "                             epoch + 1,\n",
        "                             abnormal_data)\n",
        "    \n",
        "    tf.print(\"Epoch:\", epoch, \"finished\")\n",
        "    tf.print()\n",
        "    \n",
        "    # Save the model every epochs\n",
        "    #checkpoint.save(file_prefix = checkpoint_prefix)\n",
        "    \n",
        "    tf.print ('Time for epoch {} is {} sec'.format(epoch + 1, time.time()-start))\n",
        "    if epoch % EPOCHS == 0:\n",
        "       checkpoint.save(file_prefix = checkpoint_prefix)  \n",
        "  # Generate after the final epoch\n",
        "  display.clear_output(wait=True)\n",
        "  generate_and_save_images(encoder_generator_network,\n",
        "                           epochs,\n",
        "                           abnormal_data)"
      ],
      "execution_count": null,
      "outputs": []
    },
    {
      "cell_type": "code",
      "metadata": {
        "id": "x_SpCmhRqTXN"
      },
      "source": [
        "def generate_and_save_images(model, epoch, test_input):\n",
        "  # Notice `training` is set to False. \n",
        "  # This is so all layers run in inference mode (batchnorm).\n",
        "  predictions = model(abnormal_data, training=False).numpy()\n",
        "\n",
        "  fig = plt.figure(figsize=(150,150))\n",
        "  print(f'No of predictions: {predictions.shape[0]}')\n",
        "\n",
        "  #plt.imshow(tf.squeeze(predictions[0]), cmap='gray')\n",
        "\n",
        "  discriminator_inference(X_test_abnormal, X_test_normal, epoch)\n",
        "  \n",
        "  for i in range(4):\n",
        "      plt.subplot(2, 2, i+1)\n",
        "      plt.imshow(tf.squeeze(predictions[i]))\n",
        "      #plt.axis('off')\n",
        "\n",
        "      # discriminator_inference(X_test_abnormal, X_test_normal, epoch)\n",
        "      if epoch % 2 == 0:\n",
        "        pass\n",
        "        #discriminator_inference(X_test_abnormal, X_test_normal, epoch)\n",
        "        # plot_model_performance(ch_abnormal, ch_normal, ch_epoch)      \n",
        "         #plt.savefig('image_at_epoch_{:04d}.png'.format(epoch))\n",
        "  plt.show()"
      ],
      "execution_count": null,
      "outputs": []
    },
    {
      "cell_type": "code",
      "metadata": {
        "id": "Z3B269zHqTXN"
      },
      "source": [
        "from IPython.display import Image\n",
        "#Image(filename='image_at_epoch_0060.png') "
      ],
      "execution_count": null,
      "outputs": []
    },
    {
      "cell_type": "code",
      "metadata": {
        "id": "GXCpnJUAL7tV",
        "colab": {
          "base_uri": "https://localhost:8080/"
        },
        "outputId": "8ea91728-9215-45f8-874a-62fcc14e43df"
      },
      "source": [
        "type(train_normal_dataset)"
      ],
      "execution_count": null,
      "outputs": [
        {
          "output_type": "execute_result",
          "data": {
            "text/plain": [
              "tensorflow.python.data.ops.dataset_ops.BatchDataset"
            ]
          },
          "metadata": {
            "tags": []
          },
          "execution_count": 94
        }
      ]
    },
    {
      "cell_type": "code",
      "metadata": {
        "id": "uU8vILfOqTXO",
        "colab": {
          "base_uri": "https://localhost:8080/",
          "height": 1000
        },
        "outputId": "a7bdfef7-da40-404f-d91f-22d2c175eb52"
      },
      "source": [
        "%%time\n",
        "train(train_normal_dataset, EPOCHS)"
      ],
      "execution_count": null,
      "outputs": [
        {
          "output_type": "stream",
          "text": [
            "No of predictions: 5\n",
            "Abnormal-count     Normal-count\n",
            "Abnormal correct count:  279\n",
            "Normal correct count:  479\n"
          ],
          "name": "stdout"
        },
        {
          "output_type": "display_data",
          "data": {
            "image/png": "[encoded data removed]",
            "text/plain": [
              "<Figure size 10800x10800 with 4 Axes>"
            ]
          },
          "metadata": {
            "tags": [],
            "needs_background": "light"
          }
        },
        {
          "output_type": "stream",
          "text": [
            "CPU times: user 1h 3min 51s, sys: 23 s, total: 1h 4min 14s\n",
            "Wall time: 1h 3min 42s\n"
          ],
          "name": "stdout"
        }
      ]
    },
    {
      "cell_type": "code",
      "metadata": {
        "id": "V1KtwqNmqTXO",
        "colab": {
          "base_uri": "https://localhost:8080/"
        },
        "outputId": "cca85db9-bcf6-40b7-afe8-9aa87acb20f6"
      },
      "source": [
        "checkpoint.restore(tf.train.latest_checkpoint(checkpoint_dir))"
      ],
      "execution_count": null,
      "outputs": [
        {
          "output_type": "execute_result",
          "data": {
            "text/plain": [
              "<tensorflow.python.training.tracking.util.CheckpointLoadStatus at 0x7f3391a6dc10>"
            ]
          },
          "metadata": {
            "tags": []
          },
          "execution_count": 96
        }
      ]
    },
    {
      "cell_type": "code",
      "metadata": {
        "id": "ThrOF6wxqTXO",
        "colab": {
          "base_uri": "https://localhost:8080/"
        },
        "outputId": "89a542ff-7923-4dc8-d05c-06bf38cb93b3"
      },
      "source": [
        "!ls ../"
      ],
      "execution_count": null,
      "outputs": [
        {
          "output_type": "stream",
          "text": [
            "1616124476  1616164453\t1616475016\t\t  image_at_epoch_2000.png\n",
            "1616124794  1616164676\t1616475255\t\t  image_at_epoch_3000.png\n",
            "1616124815  1616168785\t1616475352\t\t  image_at_epoch_4000.png\n",
            "1616124882  1616171545\t1616475461\t\t  image_at_epoch_5000.png\n",
            "1616124989  1616254021\tabnormal_frames\t\t  image_at_epoch_6000.png\n",
            "1616125147  1616254241\tdisc_model\t\t  image_at_epoch_7000.png\n",
            "1616125433  1616255984\tdiscriminator.h5\t  image_at_epoch_8000.png\n",
            "1616127054  1616256105\tdiscriminator_plot.png\t  image_at_epoch_9000.png\n",
            "1616127125  1616296787\tencoder_generator.h5\t  normal_frames\n",
            "1616127177  1616296819\tgen_model\t\t  training_checkpoints\n",
            "1616127243  1616297787\timage_at_epoch_0002.png\n",
            "1616127285  1616298536\timage_at_epoch_10000.png\n",
            "1616142632  1616304751\timage_at_epoch_1000.png\n"
          ],
          "name": "stdout"
        }
      ]
    },
    {
      "cell_type": "markdown",
      "metadata": {
        "id": "Q5Pol3l_O5ma"
      },
      "source": [
        "## Inferencing Discriminator on X_test ##"
      ]
    },
    {
      "cell_type": "code",
      "metadata": {
        "id": "qBsAAeCRZISM"
      },
      "source": [
        ""
      ],
      "execution_count": null,
      "outputs": []
    },
    {
      "cell_type": "code",
      "metadata": {
        "id": "2mrlYSlXZIYM"
      },
      "source": [
        ""
      ],
      "execution_count": null,
      "outputs": []
    },
    {
      "cell_type": "code",
      "metadata": {
        "id": "mDoDkereTLre"
      },
      "source": [
        ""
      ],
      "execution_count": null,
      "outputs": []
    },
    {
      "cell_type": "code",
      "metadata": {
        "id": "NN8jt3PLaOyJ"
      },
      "source": [
        "def plot_model_performance(ch_abnormal, ch_normal, ch_epoch):\n",
        "  \"\"\" the function plots abnormal and normal model performance at varying epochs\"\"\"\n",
        "  plt.title('Model performance on test data')\n",
        "  plt.xlabel('epochs')\n",
        "  plt.ylabel('samples correctly classified')\n",
        "  plt.plot(ch_epoch, ch_abnormal, label='Abnormal')\n",
        "  plt.plot(ch_epoch, ch_normal, label='Normal')\n",
        "  plt.legend()\n",
        "  plt.grid()\n",
        "  plt.show()"
      ],
      "execution_count": null,
      "outputs": []
    },
    {
      "cell_type": "code",
      "metadata": {
        "id": "E7aLC6RPaO2K"
      },
      "source": [
        ""
      ],
      "execution_count": null,
      "outputs": []
    },
    {
      "cell_type": "code",
      "metadata": {
        "colab": {
          "base_uri": "https://localhost:8080/",
          "height": 295
        },
        "id": "liyUN2FRgmuZ",
        "outputId": "d3be22d2-1fa3-4f69-b6ab-1bbe5433e22c"
      },
      "source": [
        "plot_model_performance(chart_abnormal, chart_normal, chart_epoch)"
      ],
      "execution_count": null,
      "outputs": [
        {
          "output_type": "display_data",
          "data": {
            "image/png": "[encoded data removed]",
            "text/plain": [
              "<Figure size 432x288 with 1 Axes>"
            ]
          },
          "metadata": {
            "tags": [],
            "needs_background": "light"
          }
        }
      ]
    },
    {
      "cell_type": "code",
      "metadata": {
        "id": "nm00hQ0Bgm0N",
        "colab": {
          "base_uri": "https://localhost:8080/"
        },
        "outputId": "c41a31d0-5c2e-4827-9b89-7a2bc886b210"
      },
      "source": [
        " print(chart_abnormal)\n",
        "  "
      ],
      "execution_count": null,
      "outputs": [
        {
          "output_type": "stream",
          "text": [
            "[73, 130, 303, 411, 419, 469, 550, 581, 645, 638, 762, 904, 953, 986, 987, 970, 938, 870, 802, 796, 828, 901, 957, 981, 994, 987, 955, 867, 820, 858, 938, 944, 964, 930, 848, 855, 869, 940, 974, 976, 871, 865, 901, 931, 930, 948, 921, 919, 922, 881, 714, 760, 899, 931, 938, 758, 566, 555, 739, 662, 784, 843, 902, 932, 971, 927, 951, 805, 631, 500, 730, 846, 810, 743, 765, 761, 868, 718, 724, 833, 819, 573, 758, 787, 627, 903, 462, 592, 429, 813, 921, 732, 801, 243, 628, 661, 622, 587, 444, 279, 279]\n"
          ],
          "name": "stdout"
        }
      ]
    },
    {
      "cell_type": "code",
      "metadata": {
        "colab": {
          "base_uri": "https://localhost:8080/"
        },
        "id": "pLrolxcurDWy",
        "outputId": "0389aea1-4552-40a4-d3bf-d8b3b0f27713"
      },
      "source": [
        "print(chart_normal)\n"
      ],
      "execution_count": null,
      "outputs": [
        {
          "output_type": "stream",
          "text": [
            "[946, 924, 854, 767, 750, 705, 634, 605, 571, 634, 555, 291, 168, 100, 128, 178, 178, 197, 208, 191, 210, 195, 136, 101, 77, 84, 139, 208, 252, 233, 162, 191, 168, 217, 331, 315, 187, 73, 85, 45, 192, 189, 142, 124, 170, 150, 177, 202, 121, 165, 322, 166, 162, 195, 83, 183, 314, 357, 213, 283, 227, 260, 288, 357, 242, 238, 96, 172, 330, 498, 321, 176, 297, 263, 229, 306, 406, 515, 367, 200, 265, 456, 297, 248, 506, 95, 530, 296, 553, 242, 72, 417, 178, 618, 213, 191, 283, 264, 371, 479, 479]\n"
          ],
          "name": "stdout"
        }
      ]
    },
    {
      "cell_type": "code",
      "metadata": {
        "colab": {
          "base_uri": "https://localhost:8080/"
        },
        "id": "fDaAyZI4rDa7",
        "outputId": "bf150715-b2ad-4e20-cb67-f6b2c3ce717d"
      },
      "source": [
        "print(chart_epoch)"
      ],
      "execution_count": null,
      "outputs": [
        {
          "output_type": "stream",
          "text": [
            "[1, 2, 3, 4, 5, 6, 7, 8, 9, 10, 11, 12, 13, 14, 15, 16, 17, 18, 19, 20, 21, 22, 23, 24, 25, 26, 27, 28, 29, 30, 31, 32, 33, 34, 35, 36, 37, 38, 39, 40, 41, 42, 43, 44, 45, 46, 47, 48, 49, 50, 51, 52, 53, 54, 55, 56, 57, 58, 59, 60, 61, 62, 63, 64, 65, 66, 67, 68, 69, 70, 71, 72, 73, 74, 75, 76, 77, 78, 79, 80, 81, 82, 83, 84, 85, 86, 87, 88, 89, 90, 91, 92, 93, 94, 95, 96, 97, 98, 99, 100, 100]\n"
          ],
          "name": "stdout"
        }
      ]
    },
    {
      "cell_type": "code",
      "metadata": {
        "id": "IPJErxl2rDen"
      },
      "source": [
        ""
      ],
      "execution_count": null,
      "outputs": []
    },
    {
      "cell_type": "code",
      "metadata": {
        "id": "Zaa0g9G5dZtE"
      },
      "source": [
        "ch_minority = [73, 130, 303, 411, 419, 469, 550, 581, 645, 638, 762, 904, 953, 986, 987, 970, 938, 870, 802, 796, 828, 901, 957, 981, 994, 987, 955, 867, 820, 858, 938, 944, 964, 930, 848, 855, 869, 940, 974, 976, 871, 865, 901, 931, 930, 948, 921, 919, 922, 881, 714, 760, 899, 931, 938, 758, 566, 555, 739, 662, 784, 843, 902, 932, 971, 927, 951, 805, 631, 500, 730, 846, 810, 743, 765, 761, 868, 718, 724, 833, 819, 573, 758, 787, 627, 903, 462, 592, 429, 813, 921, 732, 801, 243, 628, 661, 622, 587, 444, 279, 279]"
      ],
      "execution_count": null,
      "outputs": []
    },
    {
      "cell_type": "code",
      "metadata": {
        "id": "EwXD4qbZdZzu"
      },
      "source": [
        "ch_majority = [946, 924, 854, 767, 750, 705, 634, 605, 571, 634, 555, 291, 168, 100, 128, 178, 178, 197, 208, 191, 210, 195, 136, 101, 77, 84, 139, 208, 252, 233, 162, 191, 168, 217, 331, 315, 187, 73, 85, 45, 192, 189, 142, 124, 170, 150, 177, 202, 121, 165, 322, 166, 162, 195, 83, 183, 314, 357, 213, 283, 227, 260, 288, 357, 242, 238, 96, 172, 330, 498, 321, 176, 297, 263, 229, 306, 406, 515, 367, 200, 265, 456, 297, 248, 506, 95, 530, 296, 553, 242, 72, 417, 178, 618, 213, 191, 283, 264, 371, 479, 479]"
      ],
      "execution_count": null,
      "outputs": []
    },
    {
      "cell_type": "code",
      "metadata": {
        "id": "i8nFqnstdjEj"
      },
      "source": [
        "ch_epoch = [1, 2, 3, 4, 5, 6, 7, 8, 9, 10, 11, 12, 13, 14, 15, 16, 17, 18, 19, 20, 21, 22, 23, 24, 25, 26, 27, 28, 29, 30, 31, 32, 33, 34, 35, 36, 37, 38, 39, 40, 41, 42, 43, 44, 45, 46, 47, 48, 49, 50, 51, 52, 53, 54, 55, 56, 57, 58, 59, 60, 61, 62, 63, 64, 65, 66, 67, 68, 69, 70, 71, 72, 73, 74, 75, 76, 77, 78, 79, 80, 81, 82, 83, 84, 85, 86, 87, 88, 89, 90, 91, 92, 93, 94, 95, 96, 97, 98, 99, 100, 100]"
      ],
      "execution_count": null,
      "outputs": []
    },
    {
      "cell_type": "code",
      "metadata": {
        "id": "yWp-chdekI8O"
      },
      "source": [
        ""
      ],
      "execution_count": null,
      "outputs": []
    },
    {
      "cell_type": "code",
      "metadata": {
        "colab": {
          "base_uri": "https://localhost:8080/"
        },
        "id": "PGQW8L2nkJBA",
        "outputId": "0e0d1320-81c7-436c-addd-082ecc5d3838"
      },
      "source": [
        "# print(f'EPOCH{\"PRECISION\":>12}{\"RECALL\":>7}{\"F1-SCORE\":>9}')\n",
        "print(f'EPOCH{\"PRECISION\":>12}{\"RECALL\":>7}{\"F1-SCORE\":>9}')\n",
        "\n",
        "precision_list = []\n",
        "recall_list = []\n",
        "f1_score_list = []\n",
        "\n",
        "\n",
        "epoch = 0\n",
        "while epoch < len(ch_minority):\n",
        "  true_positive = ch_minority[epoch]\n",
        "  true_negative = ch_majority[epoch]\n",
        "\n",
        "  false_positive = 1000 - true_negative\n",
        "  false_negative = 1000 - true_positive\n",
        "\n",
        "  precision = true_positive / (true_positive + false_positive)\n",
        "  recall = true_positive / (true_positive + false_negative)\n",
        "\n",
        "  f1_score = 2 * ((precision * recall) / (precision + recall))\n",
        "  precision_list.append(round(precision,2))\n",
        "  recall_list.append(round(recall, 2))\n",
        "  f1_score_list.append(round(f1_score, 2))\n",
        "\n",
        "  # print(f'{epoch+1:>5}{precision:.2f>14}{recall:.2f>9}{f1_score:.2f>11}')\n",
        "  print(f'{epoch+1:>5}  {precision:.2f}  {recall:.2f}  {f1_score:.2f}')\n",
        "  epoch += 1"
      ],
      "execution_count": null,
      "outputs": [
        {
          "output_type": "stream",
          "text": [
            "EPOCH   PRECISION RECALL F1-SCORE\n",
            "    1  0.57  0.07  0.13\n",
            "    2  0.63  0.13  0.22\n",
            "    3  0.67  0.30  0.42\n",
            "    4  0.64  0.41  0.50\n",
            "    5  0.63  0.42  0.50\n",
            "    6  0.61  0.47  0.53\n",
            "    7  0.60  0.55  0.57\n",
            "    8  0.60  0.58  0.59\n",
            "    9  0.60  0.65  0.62\n",
            "   10  0.64  0.64  0.64\n",
            "   11  0.63  0.76  0.69\n",
            "   12  0.56  0.90  0.69\n",
            "   13  0.53  0.95  0.68\n",
            "   14  0.52  0.99  0.68\n",
            "   15  0.53  0.99  0.69\n",
            "   16  0.54  0.97  0.69\n",
            "   17  0.53  0.94  0.68\n",
            "   18  0.52  0.87  0.65\n",
            "   19  0.50  0.80  0.62\n",
            "   20  0.50  0.80  0.61\n",
            "   21  0.51  0.83  0.63\n",
            "   22  0.53  0.90  0.67\n",
            "   23  0.53  0.96  0.68\n",
            "   24  0.52  0.98  0.68\n",
            "   25  0.52  0.99  0.68\n",
            "   26  0.52  0.99  0.68\n",
            "   27  0.53  0.95  0.68\n",
            "   28  0.52  0.87  0.65\n",
            "   29  0.52  0.82  0.64\n",
            "   30  0.53  0.86  0.65\n",
            "   31  0.53  0.94  0.68\n",
            "   32  0.54  0.94  0.69\n",
            "   33  0.54  0.96  0.69\n",
            "   34  0.54  0.93  0.69\n",
            "   35  0.56  0.85  0.67\n",
            "   36  0.56  0.85  0.67\n",
            "   37  0.52  0.87  0.65\n",
            "   38  0.50  0.94  0.66\n",
            "   39  0.52  0.97  0.67\n",
            "   40  0.51  0.98  0.67\n",
            "   41  0.52  0.87  0.65\n",
            "   42  0.52  0.86  0.65\n",
            "   43  0.51  0.90  0.65\n",
            "   44  0.52  0.93  0.66\n",
            "   45  0.53  0.93  0.67\n",
            "   46  0.53  0.95  0.68\n",
            "   47  0.53  0.92  0.67\n",
            "   48  0.54  0.92  0.68\n",
            "   49  0.51  0.92  0.66\n",
            "   50  0.51  0.88  0.65\n",
            "   51  0.51  0.71  0.60\n",
            "   52  0.48  0.76  0.59\n",
            "   53  0.52  0.90  0.66\n",
            "   54  0.54  0.93  0.68\n",
            "   55  0.51  0.94  0.66\n",
            "   56  0.48  0.76  0.59\n",
            "   57  0.45  0.57  0.50\n",
            "   58  0.46  0.56  0.51\n",
            "   59  0.48  0.74  0.59\n",
            "   60  0.48  0.66  0.56\n",
            "   61  0.50  0.78  0.61\n",
            "   62  0.53  0.84  0.65\n",
            "   63  0.56  0.90  0.69\n",
            "   64  0.59  0.93  0.72\n",
            "   65  0.56  0.97  0.71\n",
            "   66  0.55  0.93  0.69\n",
            "   67  0.51  0.95  0.67\n",
            "   68  0.49  0.81  0.61\n",
            "   69  0.49  0.63  0.55\n",
            "   70  0.50  0.50  0.50\n",
            "   71  0.52  0.73  0.61\n",
            "   72  0.51  0.85  0.63\n",
            "   73  0.54  0.81  0.64\n",
            "   74  0.50  0.74  0.60\n",
            "   75  0.50  0.77  0.60\n",
            "   76  0.52  0.76  0.62\n",
            "   77  0.59  0.87  0.71\n",
            "   78  0.60  0.72  0.65\n",
            "   79  0.53  0.72  0.61\n",
            "   80  0.51  0.83  0.63\n",
            "   81  0.53  0.82  0.64\n",
            "   82  0.51  0.57  0.54\n",
            "   83  0.52  0.76  0.62\n",
            "   84  0.51  0.79  0.62\n",
            "   85  0.56  0.63  0.59\n",
            "   86  0.50  0.90  0.64\n",
            "   87  0.50  0.46  0.48\n",
            "   88  0.46  0.59  0.52\n",
            "   89  0.49  0.43  0.46\n",
            "   90  0.52  0.81  0.63\n",
            "   91  0.50  0.92  0.65\n",
            "   92  0.56  0.73  0.63\n",
            "   93  0.49  0.80  0.61\n",
            "   94  0.39  0.24  0.30\n",
            "   95  0.44  0.63  0.52\n",
            "   96  0.45  0.66  0.54\n",
            "   97  0.46  0.62  0.53\n",
            "   98  0.44  0.59  0.51\n",
            "   99  0.41  0.44  0.43\n",
            "  100  0.35  0.28  0.31\n",
            "  101  0.35  0.28  0.31\n"
          ],
          "name": "stdout"
        }
      ]
    },
    {
      "cell_type": "code",
      "metadata": {
        "id": "FNpiL4jeFzRJ"
      },
      "source": [
        ""
      ],
      "execution_count": null,
      "outputs": []
    },
    {
      "cell_type": "code",
      "metadata": {
        "id": "EQTciySjF4rL"
      },
      "source": [
        "precision_list = []\n",
        "recall_list = []\n",
        "f1_score_list = []"
      ],
      "execution_count": null,
      "outputs": []
    },
    {
      "cell_type": "code",
      "metadata": {
        "colab": {
          "base_uri": "https://localhost:8080/"
        },
        "id": "1HVcUUTJF4vF",
        "outputId": "5ff256f5-e4a8-4d54-ad60-bf3dd4f92a07"
      },
      "source": [
        "print(precision_list)"
      ],
      "execution_count": null,
      "outputs": [
        {
          "output_type": "stream",
          "text": [
            "[0.57, 0.63, 0.67, 0.64, 0.63, 0.61, 0.6, 0.6, 0.6, 0.64, 0.63, 0.56, 0.53, 0.52, 0.53, 0.54, 0.53, 0.52, 0.5, 0.5, 0.51, 0.53, 0.53, 0.52, 0.52, 0.52, 0.53, 0.52, 0.52, 0.53, 0.53, 0.54, 0.54, 0.54, 0.56, 0.56, 0.52, 0.5, 0.52, 0.51, 0.52, 0.52, 0.51, 0.52, 0.53, 0.53, 0.53, 0.54, 0.51, 0.51, 0.51, 0.48, 0.52, 0.54, 0.51, 0.48, 0.45, 0.46, 0.48, 0.48, 0.5, 0.53, 0.56, 0.59, 0.56, 0.55, 0.51, 0.49, 0.49, 0.5, 0.52, 0.51, 0.54, 0.5, 0.5, 0.52, 0.59, 0.6, 0.53, 0.51, 0.53, 0.51, 0.52, 0.51, 0.56, 0.5, 0.5, 0.46, 0.49, 0.52, 0.5, 0.56, 0.49, 0.39, 0.44, 0.45, 0.46, 0.44, 0.41, 0.35, 0.35]\n"
          ],
          "name": "stdout"
        }
      ]
    },
    {
      "cell_type": "code",
      "metadata": {
        "id": "9_t7jwJHkJFL",
        "colab": {
          "base_uri": "https://localhost:8080/"
        },
        "outputId": "6a2d6465-ea4e-44bf-c92d-1dd3de19b045"
      },
      "source": [
        "print(recall_list)"
      ],
      "execution_count": null,
      "outputs": [
        {
          "output_type": "stream",
          "text": [
            "[0.07, 0.13, 0.3, 0.41, 0.42, 0.47, 0.55, 0.58, 0.65, 0.64, 0.76, 0.9, 0.95, 0.99, 0.99, 0.97, 0.94, 0.87, 0.8, 0.8, 0.83, 0.9, 0.96, 0.98, 0.99, 0.99, 0.95, 0.87, 0.82, 0.86, 0.94, 0.94, 0.96, 0.93, 0.85, 0.85, 0.87, 0.94, 0.97, 0.98, 0.87, 0.86, 0.9, 0.93, 0.93, 0.95, 0.92, 0.92, 0.92, 0.88, 0.71, 0.76, 0.9, 0.93, 0.94, 0.76, 0.57, 0.56, 0.74, 0.66, 0.78, 0.84, 0.9, 0.93, 0.97, 0.93, 0.95, 0.81, 0.63, 0.5, 0.73, 0.85, 0.81, 0.74, 0.77, 0.76, 0.87, 0.72, 0.72, 0.83, 0.82, 0.57, 0.76, 0.79, 0.63, 0.9, 0.46, 0.59, 0.43, 0.81, 0.92, 0.73, 0.8, 0.24, 0.63, 0.66, 0.62, 0.59, 0.44, 0.28, 0.28]\n"
          ],
          "name": "stdout"
        }
      ]
    },
    {
      "cell_type": "code",
      "metadata": {
        "colab": {
          "base_uri": "https://localhost:8080/"
        },
        "id": "HX4dDB1zF9IO",
        "outputId": "4e2a1a2e-29b5-484a-da99-3cd3b9d066c0"
      },
      "source": [
        "print(f1_score_list)"
      ],
      "execution_count": null,
      "outputs": [
        {
          "output_type": "stream",
          "text": [
            "[0.13, 0.22, 0.42, 0.5, 0.5, 0.53, 0.57, 0.59, 0.62, 0.64, 0.69, 0.69, 0.68, 0.68, 0.69, 0.69, 0.68, 0.65, 0.62, 0.61, 0.63, 0.67, 0.68, 0.68, 0.68, 0.68, 0.68, 0.65, 0.64, 0.65, 0.68, 0.69, 0.69, 0.69, 0.67, 0.67, 0.65, 0.66, 0.67, 0.67, 0.65, 0.65, 0.65, 0.66, 0.67, 0.68, 0.67, 0.68, 0.66, 0.65, 0.6, 0.59, 0.66, 0.68, 0.66, 0.59, 0.5, 0.51, 0.59, 0.56, 0.61, 0.65, 0.69, 0.72, 0.71, 0.69, 0.67, 0.61, 0.55, 0.5, 0.61, 0.63, 0.64, 0.6, 0.6, 0.62, 0.71, 0.65, 0.61, 0.63, 0.64, 0.54, 0.62, 0.62, 0.59, 0.64, 0.48, 0.52, 0.46, 0.63, 0.65, 0.63, 0.61, 0.3, 0.52, 0.54, 0.53, 0.51, 0.43, 0.31, 0.31]\n"
          ],
          "name": "stdout"
        }
      ]
    },
    {
      "cell_type": "code",
      "metadata": {
        "id": "qWmDVs0QGD14"
      },
      "source": [
        ""
      ],
      "execution_count": null,
      "outputs": []
    },
    {
      "cell_type": "code",
      "metadata": {
        "id": "TYUI7yxUGD66"
      },
      "source": [
        ""
      ],
      "execution_count": null,
      "outputs": []
    },
    {
      "cell_type": "code",
      "metadata": {
        "id": "BcXxTJKaF9Nn"
      },
      "source": [
        ""
      ],
      "execution_count": null,
      "outputs": []
    },
    {
      "cell_type": "code",
      "metadata": {
        "id": "c9kcbnnJkgby"
      },
      "source": [
        "from matplotlib import pyplot as plt"
      ],
      "execution_count": null,
      "outputs": []
    },
    {
      "cell_type": "code",
      "metadata": {
        "colab": {
          "base_uri": "https://localhost:8080/",
          "height": 295
        },
        "id": "p7ZaPObXkJJE",
        "outputId": "1717703b-f8d5-4d60-abb0-35b0509ea80c"
      },
      "source": [
        "plt.title('Model performance on CIFAR10 test data - imbalance ratio 1:1000')\n",
        "plt.xlabel('epochs')\n",
        "plt.ylabel('samples correctly classified')\n",
        "plt.plot(ch_epoch, precision_list, label='Precision')\n",
        "plt.plot(ch_epoch, recall_list, label='Recall')\n",
        "plt.plot(ch_epoch, f1_score_list, label='F1-Score')\n",
        "plt.legend()\n",
        "plt.grid()\n",
        "plt.show()"
      ],
      "execution_count": null,
      "outputs": [
        {
          "output_type": "display_data",
          "data": {
            "image/png": "[encoded data removed]",
            "text/plain": [
              "<Figure size 432x288 with 1 Axes>"
            ]
          },
          "metadata": {
            "tags": [],
            "needs_background": "light"
          }
        }
      ]
    },
    {
      "cell_type": "code",
      "metadata": {
        "id": "UUi1N6OQkJND"
      },
      "source": [
        ""
      ],
      "execution_count": null,
      "outputs": []
    },
    {
      "cell_type": "code",
      "metadata": {
        "id": "MDqD-7rFkJRB"
      },
      "source": [
        ""
      ],
      "execution_count": null,
      "outputs": []
    },
    {
      "cell_type": "code",
      "metadata": {
        "colab": {
          "base_uri": "https://localhost:8080/"
        },
        "id": "uW_9f-jdkJVH",
        "outputId": "f9471ebf-951f-4fdc-e82b-fcc059c43e5f"
      },
      "source": [
        "max(f1_score_list)"
      ],
      "execution_count": null,
      "outputs": [
        {
          "output_type": "execute_result",
          "data": {
            "text/plain": [
              "0.72"
            ]
          },
          "metadata": {
            "tags": []
          },
          "execution_count": 7
        }
      ]
    },
    {
      "cell_type": "code",
      "metadata": {
        "colab": {
          "base_uri": "https://localhost:8080/"
        },
        "id": "DR4Qq7pRlHqA",
        "outputId": "185550fb-b1d6-42f3-f2d3-b5c0527a5101"
      },
      "source": [
        "print(f'maximum F1-score of {max(f1_score_list)} obtained at epoch {1 + (f1_score_list.index(0.72))}')"
      ],
      "execution_count": null,
      "outputs": [
        {
          "output_type": "stream",
          "text": [
            "maximum F1-score of 0.72 obtained at epoch 64\n"
          ],
          "name": "stdout"
        }
      ]
    },
    {
      "cell_type": "code",
      "metadata": {
        "id": "QPY2iv8ylHyL"
      },
      "source": [
        ""
      ],
      "execution_count": null,
      "outputs": []
    },
    {
      "cell_type": "code",
      "metadata": {
        "colab": {
          "base_uri": "https://localhost:8080/"
        },
        "id": "cZJf0dBZkJYg",
        "outputId": "6f2a61cd-c50b-4929-92fe-8e781f610e2f"
      },
      "source": [
        "max(recall_list)"
      ],
      "execution_count": null,
      "outputs": [
        {
          "output_type": "execute_result",
          "data": {
            "text/plain": [
              "0.99"
            ]
          },
          "metadata": {
            "tags": []
          },
          "execution_count": 9
        }
      ]
    },
    {
      "cell_type": "code",
      "metadata": {
        "colab": {
          "base_uri": "https://localhost:8080/"
        },
        "id": "GBDQmsrEl0wc",
        "outputId": "f500ecdb-8480-497f-8952-eae13a5be61f"
      },
      "source": [
        "print(f'maximum recall of {max(recall_list)} obtained at epoch {1 + (recall_list.index(0.99))}')"
      ],
      "execution_count": null,
      "outputs": [
        {
          "output_type": "stream",
          "text": [
            "maximum recall of 0.99 obtained at epoch 14\n"
          ],
          "name": "stdout"
        }
      ]
    },
    {
      "cell_type": "code",
      "metadata": {
        "colab": {
          "base_uri": "https://localhost:8080/"
        },
        "id": "i2hEgUdXkJcq",
        "outputId": "37601933-4f13-4129-87c5-d6873913b304"
      },
      "source": [
        "max(precision_list)"
      ],
      "execution_count": null,
      "outputs": [
        {
          "output_type": "execute_result",
          "data": {
            "text/plain": [
              "0.67"
            ]
          },
          "metadata": {
            "tags": []
          },
          "execution_count": 11
        }
      ]
    },
    {
      "cell_type": "code",
      "metadata": {
        "colab": {
          "base_uri": "https://localhost:8080/"
        },
        "id": "VYlPMPbKk9o_",
        "outputId": "e3edbe77-16b5-4cbf-e8fd-95fd7bcb570c"
      },
      "source": [
        "print(f'maximum precision of {max(precision_list)} obtained at epoch {1 + (precision_list.index(0.67))}')"
      ],
      "execution_count": null,
      "outputs": [
        {
          "output_type": "stream",
          "text": [
            "maximum precision of 0.67 obtained at epoch 3\n"
          ],
          "name": "stdout"
        }
      ]
    },
    {
      "cell_type": "code",
      "metadata": {
        "id": "yqMXnRgJk9uA"
      },
      "source": [
        ""
      ],
      "execution_count": null,
      "outputs": []
    },
    {
      "cell_type": "code",
      "metadata": {
        "id": "qiS_QXbWk9zD"
      },
      "source": [
        ""
      ],
      "execution_count": null,
      "outputs": []
    },
    {
      "cell_type": "code",
      "metadata": {
        "id": "bNI3A1m4kJg3"
      },
      "source": [
        ""
      ],
      "execution_count": null,
      "outputs": []
    },
    {
      "cell_type": "code",
      "metadata": {
        "id": "YAQbmPVTdjKW"
      },
      "source": [
        "from matplotlib import pyplot as plt"
      ],
      "execution_count": null,
      "outputs": []
    },
    {
      "cell_type": "code",
      "metadata": {
        "id": "Jr-9_8sRdCEz"
      },
      "source": [
        "def plot_model_performance(ch_minority, ch_majority, ch_epoch):\n",
        "  \"\"\" the function plots abnormal and normal model performance at varying epochs\"\"\"\n",
        "  plt.title('Model performance on test data - imbalance ratio 1:1000')\n",
        "  plt.xlabel('epochs')\n",
        "  plt.ylabel('samples correctly classified')\n",
        "  plt.plot(ch_epoch[:8], ch_minority[:8], label='Minority class')\n",
        "  plt.plot(ch_epoch[:8], ch_majority[:8], label='Majority class')\n",
        "  plt.legend()\n",
        "  plt.grid()\n",
        "  plt.show()"
      ],
      "execution_count": null,
      "outputs": []
    },
    {
      "cell_type": "code",
      "metadata": {
        "colab": {
          "base_uri": "https://localhost:8080/",
          "height": 295
        },
        "id": "lyZ1Oo7BdCI0",
        "outputId": "49260217-c589-4776-d473-e1ac764443a5"
      },
      "source": [
        "plot_model_performance(ch_minority, ch_majority, ch_epoch)"
      ],
      "execution_count": null,
      "outputs": [
        {
          "output_type": "display_data",
          "data": {
            "image/png": "[encoded data removed]",
            "text/plain": [
              "<Figure size 432x288 with 1 Axes>"
            ]
          },
          "metadata": {
            "tags": [],
            "needs_background": "light"
          }
        }
      ]
    },
    {
      "cell_type": "code",
      "metadata": {
        "id": "mq_j6acidCSl"
      },
      "source": [
        ""
      ],
      "execution_count": null,
      "outputs": []
    },
    {
      "cell_type": "code",
      "metadata": {
        "id": "HLpXP2FOdCU7"
      },
      "source": [
        ""
      ],
      "execution_count": null,
      "outputs": []
    },
    {
      "cell_type": "code",
      "metadata": {
        "id": "vcfqWFdUdCXX"
      },
      "source": [
        ""
      ],
      "execution_count": null,
      "outputs": []
    },
    {
      "cell_type": "code",
      "metadata": {
        "id": "xLYgg7jbdCZ_"
      },
      "source": [
        ""
      ],
      "execution_count": null,
      "outputs": []
    },
    {
      "cell_type": "code",
      "metadata": {
        "id": "JKRB4t9TdCcK"
      },
      "source": [
        ""
      ],
      "execution_count": null,
      "outputs": []
    },
    {
      "cell_type": "code",
      "metadata": {
        "colab": {
          "base_uri": "https://localhost:8080/",
          "height": 163
        },
        "id": "v9qvKFrrJ5dt",
        "outputId": "24563f8d-5248-4c76-d08a-e52545bec6df"
      },
      "source": [
        "tf.keras.utils.plot_model(discriminator)"
      ],
      "execution_count": null,
      "outputs": [
        {
          "output_type": "error",
          "ename": "NameError",
          "evalue": "ignored",
          "traceback": [
            "\u001b[0;31m---------------------------------------------------------------------------\u001b[0m",
            "\u001b[0;31mNameError\u001b[0m                                 Traceback (most recent call last)",
            "\u001b[0;32m<ipython-input-16-d02fbf0f3d1b>\u001b[0m in \u001b[0;36m<module>\u001b[0;34m()\u001b[0m\n\u001b[0;32m----> 1\u001b[0;31m \u001b[0mtf\u001b[0m\u001b[0;34m.\u001b[0m\u001b[0mkeras\u001b[0m\u001b[0;34m.\u001b[0m\u001b[0mutils\u001b[0m\u001b[0;34m.\u001b[0m\u001b[0mplot_model\u001b[0m\u001b[0;34m(\u001b[0m\u001b[0mdiscriminator\u001b[0m\u001b[0;34m)\u001b[0m\u001b[0;34m\u001b[0m\u001b[0;34m\u001b[0m\u001b[0m\n\u001b[0m",
            "\u001b[0;31mNameError\u001b[0m: name 'tf' is not defined"
          ]
        }
      ]
    },
    {
      "cell_type": "code",
      "metadata": {
        "id": "ngpbYYBjJ5i2"
      },
      "source": [
        "tf.keras.utils.plot_model(encoder_generator_network)"
      ],
      "execution_count": null,
      "outputs": []
    },
    {
      "cell_type": "code",
      "metadata": {
        "id": "6VD2mENPKQnR"
      },
      "source": [
        ""
      ],
      "execution_count": null,
      "outputs": []
    },
    {
      "cell_type": "code",
      "metadata": {
        "id": "zuIOkrvtLlLW"
      },
      "source": [
        "tf.keras.utils.plot_model(encoder_generator_network, show_shapes=True)"
      ],
      "execution_count": null,
      "outputs": []
    },
    {
      "cell_type": "code",
      "metadata": {
        "id": "YX-1RCgNKQrF"
      },
      "source": [
        "tf.keras.utils.plot_model(encoder_generator_network, show_shapes=True, rankdir='LR')"
      ],
      "execution_count": null,
      "outputs": []
    },
    {
      "cell_type": "code",
      "metadata": {
        "id": "BA9QBgg9J5lw"
      },
      "source": [
        "tf.keras.utils.plot_model(encoder_generator_network, rankdir='LR')"
      ],
      "execution_count": null,
      "outputs": []
    },
    {
      "cell_type": "code",
      "metadata": {
        "id": "VK6NpQSzXSkW"
      },
      "source": [
        "tf.keras.utils.plot_model(discriminator, show_shapes=True, rankdir='LR')"
      ],
      "execution_count": null,
      "outputs": []
    },
    {
      "cell_type": "code",
      "metadata": {
        "id": "Qbm_dS-IOmXN"
      },
      "source": [
        ""
      ],
      "execution_count": null,
      "outputs": []
    },
    {
      "cell_type": "code",
      "metadata": {
        "id": "lHTC3TLrOmbd"
      },
      "source": [
        ""
      ],
      "execution_count": null,
      "outputs": []
    },
    {
      "cell_type": "code",
      "metadata": {
        "id": "FzfjTgm1bVqg"
      },
      "source": [
        "---"
      ],
      "execution_count": null,
      "outputs": []
    },
    {
      "cell_type": "code",
      "metadata": {
        "id": "oRDNTaakbVvc"
      },
      "source": [
        ""
      ],
      "execution_count": null,
      "outputs": []
    },
    {
      "cell_type": "code",
      "metadata": {
        "id": "nSYtq2PFXSoV"
      },
      "source": [
        ""
      ],
      "execution_count": null,
      "outputs": []
    },
    {
      "cell_type": "code",
      "metadata": {
        "id": "iDf0I5qoOv7k"
      },
      "source": [
        ""
      ],
      "execution_count": null,
      "outputs": []
    },
    {
      "cell_type": "markdown",
      "metadata": {
        "id": "zqBOvtScPQqQ"
      },
      "source": [
        "## Discriminator score on abnormal images ##"
      ]
    },
    {
      "cell_type": "code",
      "metadata": {
        "id": "BTsekFBGROhQ"
      },
      "source": [
        ""
      ],
      "execution_count": null,
      "outputs": []
    },
    {
      "cell_type": "code",
      "metadata": {
        "id": "g9vmVycpPYsc"
      },
      "source": [
        "# predictions_abnormal_test = []\n",
        "\n",
        "# for index, data in enumerate(abnormal_data_test[0]):\n",
        "#   #abn_data_2 = np.expand_dims(abnormal_data_test[0][index], axis=0)\n",
        "#   abn_data_2 = abnormal_data_test[0][index]\n",
        "#   predictions_abnormal_test.append(discriminator(abn_data_2))\n",
        "#   #print(discriminator(abn_data_2))"
      ],
      "execution_count": null,
      "outputs": []
    },
    {
      "cell_type": "code",
      "metadata": {
        "id": "kmOPws6WPYwj"
      },
      "source": [
        ""
      ],
      "execution_count": null,
      "outputs": []
    },
    {
      "cell_type": "code",
      "metadata": {
        "id": "cw01xd487YDj"
      },
      "source": [
        "# len(predictions_abnormal_test[0])"
      ],
      "execution_count": null,
      "outputs": []
    },
    {
      "cell_type": "code",
      "metadata": {
        "id": "1mxYf1k67YHo"
      },
      "source": [
        ""
      ],
      "execution_count": null,
      "outputs": []
    },
    {
      "cell_type": "code",
      "metadata": {
        "id": "MdP44vOMPY0x"
      },
      "source": [
        "# count_test_abnormal = 0\n",
        "\n",
        "# for ind, _ in enumerate(predictions_abnormal_test[0]):\n",
        "#   if (tf.keras.backend.get_value(predictions_abnormal_test[0][ind])) < 0: # setting a threshold of 0.9\n",
        "#     count_test_abnormal += 1\n",
        "# print('Abnormal correct count: ', count_test_abnormal)"
      ],
      "execution_count": null,
      "outputs": []
    },
    {
      "cell_type": "code",
      "metadata": {
        "id": "s5KjXGkSP_6M"
      },
      "source": [
        "# print(f'{count_test_abnormal} abnormal missed' )"
      ],
      "execution_count": null,
      "outputs": []
    },
    {
      "cell_type": "code",
      "metadata": {
        "id": "WH5AsOnu7zK_"
      },
      "source": [
        ""
      ],
      "execution_count": null,
      "outputs": []
    },
    {
      "cell_type": "code",
      "metadata": {
        "id": "nA3l6nKJQAIf"
      },
      "source": [
        "# decision_test_normal = []\n",
        "\n",
        "# for index, img in enumerate(test_normal_ds):\n",
        "#   #nor_data_test = np.expand_dims(test_normal_images[int(index)], axis=0)\n",
        "#   #nor_data_test = test_normal_ds\n",
        "\n",
        "#   decision = discriminator(img)\n",
        "#   decision_test_normal.append(decision)\n",
        "#   #print(decision) # discriminator decision should be close to 1"
      ],
      "execution_count": null,
      "outputs": []
    },
    {
      "cell_type": "code",
      "metadata": {
        "id": "w4aZ_ISm8Wen"
      },
      "source": [
        "# len(decision_test_normal[0])"
      ],
      "execution_count": null,
      "outputs": []
    },
    {
      "cell_type": "code",
      "metadata": {
        "id": "PqOhLt708WkQ"
      },
      "source": [
        "(tf.keras.backend.get_value(decision_test_normal[0][0]))[0]"
      ],
      "execution_count": null,
      "outputs": []
    },
    {
      "cell_type": "code",
      "metadata": {
        "id": "2PleFlO7-qFq"
      },
      "source": [
        ""
      ],
      "execution_count": null,
      "outputs": []
    },
    {
      "cell_type": "code",
      "metadata": {
        "id": "pmTD-pfxOwJJ"
      },
      "source": [
        "# count_test_normal = 0\n",
        "\n",
        "# for ind, _ in enumerate(decision_test_normal[0]):\n",
        "#   if (tf.keras.backend.get_value(decision_test_normal[0][ind]))[0] >= 0: # setting a threshold of 0.9\n",
        "#     #print(decision_test_normal[ind])\n",
        "#     count_test_normal += 1\n",
        "# print('Normal correct count: ', count_test_normal)"
      ],
      "execution_count": null,
      "outputs": []
    },
    {
      "cell_type": "code",
      "metadata": {
        "id": "5W91-FB6QO9C"
      },
      "source": [
        ""
      ],
      "execution_count": null,
      "outputs": []
    },
    {
      "cell_type": "code",
      "metadata": {
        "id": "EeWZjvSiQPBm"
      },
      "source": [
        "# print(f'{len(decision_test_normal[0]) - count_test_normal} normal missed' )"
      ],
      "execution_count": null,
      "outputs": []
    },
    {
      "cell_type": "code",
      "metadata": {
        "id": "5UKStuWMzYl2"
      },
      "source": [
        ""
      ],
      "execution_count": null,
      "outputs": []
    },
    {
      "cell_type": "markdown",
      "metadata": {
        "id": "tMUAgYtSzaaQ"
      },
      "source": [
        "## Save models ##"
      ]
    },
    {
      "cell_type": "code",
      "metadata": {
        "id": "wnKqi1WzzYpu"
      },
      "source": [
        "#encoder_generator_network.save('encoder_generator.h5')"
      ],
      "execution_count": null,
      "outputs": []
    },
    {
      "cell_type": "code",
      "metadata": {
        "id": "TWzLlJNwzYt-"
      },
      "source": [
        "#discriminator.save('discriminator.h5')"
      ],
      "execution_count": null,
      "outputs": []
    },
    {
      "cell_type": "code",
      "metadata": {
        "id": "XnLpC7j0zYyV"
      },
      "source": [
        ""
      ],
      "execution_count": null,
      "outputs": []
    },
    {
      "cell_type": "code",
      "metadata": {
        "id": "CQkgjRQ9OwVx"
      },
      "source": [
        ""
      ],
      "execution_count": null,
      "outputs": []
    },
    {
      "cell_type": "code",
      "metadata": {
        "id": "05BWB3UudiOV"
      },
      "source": [
        "----"
      ],
      "execution_count": null,
      "outputs": []
    },
    {
      "cell_type": "code",
      "metadata": {
        "id": "a2ZEnw_4diSL"
      },
      "source": [
        ""
      ],
      "execution_count": null,
      "outputs": []
    },
    {
      "cell_type": "code",
      "metadata": {
        "id": "20JbJG04diVx"
      },
      "source": [
        ""
      ],
      "execution_count": null,
      "outputs": []
    },
    {
      "cell_type": "code",
      "metadata": {
        "id": "_IEuzUGEdiZc"
      },
      "source": [
        ""
      ],
      "execution_count": null,
      "outputs": []
    },
    {
      "cell_type": "code",
      "metadata": {
        "id": "FfIY85GGdic_"
      },
      "source": [
        ""
      ],
      "execution_count": null,
      "outputs": []
    },
    {
      "cell_type": "code",
      "metadata": {
        "id": "VhZAPDBsdigs"
      },
      "source": [
        ""
      ],
      "execution_count": null,
      "outputs": []
    },
    {
      "cell_type": "code",
      "metadata": {
        "id": "7cR_hacOdikI"
      },
      "source": [
        ""
      ],
      "execution_count": null,
      "outputs": []
    },
    {
      "cell_type": "code",
      "metadata": {
        "id": "TLeFSa0pdiqp"
      },
      "source": [
        ""
      ],
      "execution_count": null,
      "outputs": []
    },
    {
      "cell_type": "code",
      "metadata": {
        "id": "AAG0sVv4qTXO"
      },
      "source": [
        "fig = plt.figure(figsize=(4,4))\n",
        "predictions = checkpoint.generator(x_abnormal, training = False).numpy()\n",
        "for i in range(seed.shape[0]):\n",
        "    plt.subplot(4,4,i+1)\n",
        "    plt.imshow(predictions[i], interpolation=\"nearest\")\n",
        "    plt.axis('off')\n",
        "    \n",
        "plt.show()"
      ],
      "execution_count": null,
      "outputs": []
    },
    {
      "cell_type": "code",
      "metadata": {
        "id": "A4CFypo3qTXO"
      },
      "source": [
        "noise = tf.random.normal([1,100]) # shape is 1, 100\n",
        "random_face = checkpoint.generator(noise, training = False).numpy()[0]\n",
        "plt.imshow(random_face, interpolation='nearest')\n",
        "plt.axis(\"off\")\n",
        "plt.show()"
      ],
      "execution_count": null,
      "outputs": []
    },
    {
      "cell_type": "code",
      "metadata": {
        "id": "oAv-nJefqTXP"
      },
      "source": [
        "%ls"
      ],
      "execution_count": null,
      "outputs": []
    },
    {
      "cell_type": "code",
      "metadata": {
        "id": "I-9ma3QYqTXP"
      },
      "source": [
        "with imageio.get_writer('dcgan.gif', mode='I') as writer:\n",
        "  filenames = glob.glob('image*.png')\n",
        "  filenames = sorted(filenames)\n",
        "  last = -1\n",
        "  for i,filename in enumerate(filenames):\n",
        "    frame = 2*(i**0.5)\n",
        "    if round(frame) > round(last):\n",
        "      last = frame\n",
        "    else:\n",
        "      continue\n",
        "    image = imageio.imread(filename)\n",
        "    writer.append_data(image)\n",
        "  image = imageio.imread(filename)\n",
        "  writer.append_data(image)\n",
        "    \n",
        "# A hack to display the GIF inside this notebook\n",
        "os.rename('dcgan.gif', 'dcgan_celebA.gif.png')"
      ],
      "execution_count": null,
      "outputs": []
    },
    {
      "cell_type": "code",
      "metadata": {
        "id": "_xCmpVSVqTXP"
      },
      "source": [
        "display.Image(filename=\"dcgan_celebA.gif.png\")"
      ],
      "execution_count": null,
      "outputs": []
    },
    {
      "cell_type": "code",
      "metadata": {
        "id": "CBAw_wc4qTXP"
      },
      "source": [
        "%ls training_checkpoints/"
      ],
      "execution_count": null,
      "outputs": []
    },
    {
      "cell_type": "markdown",
      "metadata": {
        "id": "u4VcjW7TqTXP"
      },
      "source": [
        "%cp image_at_epoch_0001.png play-with-faces/"
      ]
    }
  ]
}