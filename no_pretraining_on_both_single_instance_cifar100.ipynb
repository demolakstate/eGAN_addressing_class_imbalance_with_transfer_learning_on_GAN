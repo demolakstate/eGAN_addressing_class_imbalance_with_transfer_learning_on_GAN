{
  "nbformat": 4,
  "nbformat_minor": 0,
  "metadata": {
    "kernelspec": {
      "display_name": "Python 3",
      "language": "python",
      "name": "python3"
    },
    "language_info": {
      "codemirror_mode": {
        "name": "ipython",
        "version": 3
      },
      "file_extension": ".py",
      "mimetype": "text/x-python",
      "name": "python",
      "nbconvert_exporter": "python",
      "pygments_lexer": "ipython3",
      "version": "3.6.7"
    },
    "colab": {
      "name": "no_pretraining_on both_single_instance_cifar100.ipynb",
      "provenance": [],
      "machine_shape": "hm",
      "include_colab_link": true
    },
    "accelerator": "GPU"
  },
  "cells": [
    {
      "cell_type": "markdown",
      "metadata": {
        "id": "view-in-github",
        "colab_type": "text"
      },
      "source": [
        "<a href=\"https://colab.research.google.com/github/demolakstate/eGAN_addressing_class_imbalance_with_transfer_learning_on_GAN/blob/main/no_pretraining_on_both_single_instance_cifar100.ipynb\" target=\"_parent\"><img src=\"https://colab.research.google.com/assets/colab-badge.svg\" alt=\"Open In Colab\"/></a>"
      ]
    },
    {
      "cell_type": "code",
      "metadata": {
        "id": "HD4bIjg6qYkH"
      },
      "source": [
        ""
      ],
      "execution_count": null,
      "outputs": []
    },
    {
      "cell_type": "markdown",
      "metadata": {
        "id": "YN_2kXCOiDUB"
      },
      "source": [
        "### Here, we train the discriminator on samples from normal frames ###"
      ]
    },
    {
      "cell_type": "code",
      "metadata": {
        "id": "IHvSaXl0Y6n7",
        "colab": {
          "base_uri": "https://localhost:8080/"
        },
        "outputId": "1a4de333-9854-43e1-eaeb-3afdc44996c2"
      },
      "source": [
        "from google.colab import drive\n",
        "\n",
        "drive.mount('/content/gdrive')"
      ],
      "execution_count": null,
      "outputs": [
        {
          "output_type": "stream",
          "text": [
            "Mounted at /content/gdrive\n"
          ],
          "name": "stdout"
        }
      ]
    },
    {
      "cell_type": "code",
      "metadata": {
        "id": "ELynCH1g6iD2"
      },
      "source": [
        "import time, os"
      ],
      "execution_count": null,
      "outputs": []
    },
    {
      "cell_type": "code",
      "metadata": {
        "colab": {
          "base_uri": "https://localhost:8080/"
        },
        "id": "apdqasPQ6iJh",
        "outputId": "2e6002bc-2ebd-4527-ecbd-3042cd1bebdc"
      },
      "source": [
        "print(round(time.time()))"
      ],
      "execution_count": null,
      "outputs": [
        {
          "output_type": "stream",
          "text": [
            "1616898030\n"
          ],
          "name": "stdout"
        }
      ]
    },
    {
      "cell_type": "code",
      "metadata": {
        "id": "6_v8eHk57lnc"
      },
      "source": [
        "time_stamp = round(time.time())"
      ],
      "execution_count": null,
      "outputs": []
    },
    {
      "cell_type": "code",
      "metadata": {
        "id": "OpUZtHhJ1DlL",
        "colab": {
          "base_uri": "https://localhost:8080/"
        },
        "outputId": "0b82af1d-a881-4b93-e9e9-2401c611135f"
      },
      "source": [
        "cd /content/gdrive/MyDrive/Anomaly_Detection_Videos/"
      ],
      "execution_count": null,
      "outputs": [
        {
          "output_type": "stream",
          "text": [
            "/content/gdrive/MyDrive/Anomaly_Detection_Videos\n"
          ],
          "name": "stdout"
        }
      ]
    },
    {
      "cell_type": "code",
      "metadata": {
        "id": "WhLsERzw7TPa"
      },
      "source": [
        "os.mkdir(str(time_stamp))\n"
      ],
      "execution_count": null,
      "outputs": []
    },
    {
      "cell_type": "code",
      "metadata": {
        "id": "uVicr1ug85Yp"
      },
      "source": [
        "os.chdir(str(time_stamp))"
      ],
      "execution_count": null,
      "outputs": []
    },
    {
      "cell_type": "code",
      "metadata": {
        "id": "665wj8vx76Nq",
        "colab": {
          "base_uri": "https://localhost:8080/"
        },
        "outputId": "ffa46f1c-8d1d-4d21-acdf-ad1e7a384902"
      },
      "source": [
        "time_stamp"
      ],
      "execution_count": null,
      "outputs": [
        {
          "output_type": "execute_result",
          "data": {
            "text/plain": [
              "1616898030"
            ]
          },
          "metadata": {
            "tags": []
          },
          "execution_count": 8
        }
      ]
    },
    {
      "cell_type": "code",
      "metadata": {
        "id": "5A5KLSqY76RH"
      },
      "source": [
        ""
      ],
      "execution_count": null,
      "outputs": []
    },
    {
      "cell_type": "code",
      "metadata": {
        "id": "CPoIbnzQqTXC",
        "colab": {
          "base_uri": "https://localhost:8080/",
          "height": 35
        },
        "outputId": "d7458a7e-a4f4-4d98-b2dc-398e8c9f0413"
      },
      "source": [
        "#!pip install -q tensorflow-gpu==2.0.0-alpha0\n",
        "import tensorflow as tf\n",
        "tf.__version__"
      ],
      "execution_count": null,
      "outputs": [
        {
          "output_type": "execute_result",
          "data": {
            "application/vnd.google.colaboratory.intrinsic+json": {
              "type": "string"
            },
            "text/plain": [
              "'2.4.1'"
            ]
          },
          "metadata": {
            "tags": []
          },
          "execution_count": 9
        }
      ]
    },
    {
      "cell_type": "code",
      "metadata": {
        "id": "UUdnxrdkqTXE"
      },
      "source": [
        "import tensorflow as tf"
      ],
      "execution_count": null,
      "outputs": []
    },
    {
      "cell_type": "code",
      "metadata": {
        "id": "1p2aUw0gpbVp"
      },
      "source": [
        "physical_devices =tf.config.list_physical_devices('GPU')\n",
        "tf.config.experimental.set_memory_growth(physical_devices[0], True)"
      ],
      "execution_count": null,
      "outputs": []
    },
    {
      "cell_type": "code",
      "metadata": {
        "id": "dw_b6GnEp1vK"
      },
      "source": [
        ""
      ],
      "execution_count": null,
      "outputs": []
    },
    {
      "cell_type": "code",
      "metadata": {
        "id": "o8Po8E1bp196"
      },
      "source": [
        ""
      ],
      "execution_count": null,
      "outputs": []
    },
    {
      "cell_type": "code",
      "metadata": {
        "id": "PDQHjRVIqTXF"
      },
      "source": [
        "from tensorflow.python.client import device_lib\n",
        "\n",
        "# \"GPU\" + device_lib.list_local_devices()[-1].physical_device_desc.split(\",\")[1]"
      ],
      "execution_count": null,
      "outputs": []
    },
    {
      "cell_type": "code",
      "metadata": {
        "id": "R5ASv7D0qTXG",
        "colab": {
          "base_uri": "https://localhost:8080/",
          "height": 35
        },
        "outputId": "943ef94c-4f7b-49c7-c026-3263b822b5f3"
      },
      "source": [
        "tf.__version__"
      ],
      "execution_count": null,
      "outputs": [
        {
          "output_type": "execute_result",
          "data": {
            "application/vnd.google.colaboratory.intrinsic+json": {
              "type": "string"
            },
            "text/plain": [
              "'2.4.1'"
            ]
          },
          "metadata": {
            "tags": []
          },
          "execution_count": 13
        }
      ]
    },
    {
      "cell_type": "code",
      "metadata": {
        "id": "OzjXZHG4qTXG"
      },
      "source": [
        "import glob # The glob module finds all the pathnames matching a specified pattern according to the rules used by the Unix shell, although results are returned in arbitrary order. \n",
        "import imageio # Imageio is a Python library that provides an easy interface to read and write a wide range of image data, including animated images, volumetric data, and scientific formats. \n",
        "%matplotlib inline \n",
        "import matplotlib.pyplot as plt \n",
        "import tensorflow.keras.layers as layers # Keras layers API\n",
        "import time\n",
        "from IPython import display # For displaying image"
      ],
      "execution_count": null,
      "outputs": []
    },
    {
      "cell_type": "code",
      "metadata": {
        "id": "wN1HuYsUs_JS"
      },
      "source": [
        "from tensorflow.keras.models import Model"
      ],
      "execution_count": null,
      "outputs": []
    },
    {
      "cell_type": "code",
      "metadata": {
        "_cell_guid": "b1076dfc-b9ad-4769-8c92-a6c4dae69d19",
        "_uuid": "8f2839f25d086af736a60e9eeb907d3b93b6e0e5",
        "id": "ZiFlOzTtqTXG"
      },
      "source": [
        "import numpy as np # linear algebra\n",
        "import pandas as pd # data processing, CSV file I/O (e.g. pd.read_csv)\n",
        "\n",
        "# Input data files are available in the \"../input/\" directory.\n",
        "# For example, running this (by clicking run or pressing Shift+Enter) will list the files in the input directory\n",
        "import os\n",
        "import PIL\n",
        "import random"
      ],
      "execution_count": null,
      "outputs": []
    },
    {
      "cell_type": "code",
      "metadata": {
        "id": "72JdEgtVr59A"
      },
      "source": [
        ""
      ],
      "execution_count": null,
      "outputs": []
    },
    {
      "cell_type": "markdown",
      "metadata": {
        "id": "uAJDx8Pu5jKv"
      },
      "source": [
        "## Load dataset ##"
      ]
    },
    {
      "cell_type": "code",
      "metadata": {
        "id": "MwYwvVXM5lvY",
        "colab": {
          "base_uri": "https://localhost:8080/"
        },
        "outputId": "9ee28efa-e7c3-4d52-aa1a-025d5b04cbbb"
      },
      "source": [
        "# example of loading the cifar10 dataset\n",
        "from keras.datasets.cifar100 import load_data\n",
        "from matplotlib import pyplot\n",
        "# load the images into memory\n",
        "(X_train, X_train_label), (X_test, X_test_label) = load_data()\n",
        "X_train_abnormal = []\n",
        "X_train_normal = []\n",
        "\n",
        "# plot images from the training dataset\n",
        "for i in range(len(X_train)):\n",
        "  if X_train_label[i] == 0 and len(X_train_abnormal) < 1: # few abnormal samples\n",
        "    X_train_abnormal.append(X_train[i])\n",
        "  elif X_train_label[i] == 1 and len(X_train_normal) < 1:\n",
        "    X_train_normal.append(X_train[i])"
      ],
      "execution_count": null,
      "outputs": [
        {
          "output_type": "stream",
          "text": [
            "Downloading data from https://www.cs.toronto.edu/~kriz/cifar-100-python.tar.gz\n",
            "169009152/169001437 [==============================] - 6s 0us/step\n"
          ],
          "name": "stdout"
        }
      ]
    },
    {
      "cell_type": "code",
      "metadata": {
        "id": "nrfEhCYMDMPl"
      },
      "source": [
        ""
      ],
      "execution_count": null,
      "outputs": []
    },
    {
      "cell_type": "code",
      "metadata": {
        "id": "j1T2GaFa5lzX"
      },
      "source": [
        "X_train_normal = np.asarray(X_train_normal)\n",
        "X_train_abnormal = np.asarray(X_train_abnormal)"
      ],
      "execution_count": null,
      "outputs": []
    },
    {
      "cell_type": "code",
      "metadata": {
        "id": "DmNb2CxTYMsv",
        "colab": {
          "base_uri": "https://localhost:8080/"
        },
        "outputId": "cec1ab27-ff1f-4c71-efb5-38fff8cfc6c4"
      },
      "source": [
        "len(X_train_normal)"
      ],
      "execution_count": null,
      "outputs": [
        {
          "output_type": "execute_result",
          "data": {
            "text/plain": [
              "1"
            ]
          },
          "metadata": {
            "tags": []
          },
          "execution_count": 19
        }
      ]
    },
    {
      "cell_type": "code",
      "metadata": {
        "id": "Q31rPvRRYMwn",
        "colab": {
          "base_uri": "https://localhost:8080/"
        },
        "outputId": "c9791da0-5cc2-405c-a693-dfe04fcb6c62"
      },
      "source": [
        "len(X_train_abnormal[-1:])"
      ],
      "execution_count": null,
      "outputs": [
        {
          "output_type": "execute_result",
          "data": {
            "text/plain": [
              "1"
            ]
          },
          "metadata": {
            "tags": []
          },
          "execution_count": 20
        }
      ]
    },
    {
      "cell_type": "code",
      "metadata": {
        "id": "YktWeLdCDMdi"
      },
      "source": [
        "# expand to 3d, e.g. add channels dimension\n",
        "#abnormal_data = np.expand_dims(X_train_abnormal, axis=-1)\n",
        "#normal_data = np.expand_dims(X_train_normal, axis=-1)\n"
      ],
      "execution_count": null,
      "outputs": []
    },
    {
      "cell_type": "code",
      "metadata": {
        "id": "G8coq_DioOfW"
      },
      "source": [
        "abnormal_data = X_train_abnormal[-1:]"
      ],
      "execution_count": null,
      "outputs": []
    },
    {
      "cell_type": "code",
      "metadata": {
        "id": "6FK4KbQEWTXj"
      },
      "source": [
        "train_images = X_train_normal.reshape(X_train_normal.shape[0], 32, 32, 3).astype('float32')\n",
        "#train_images = (train_images - 127.5) / 127.5\n",
        "\n",
        "train_images = (train_images) / 255.0\n"
      ],
      "execution_count": null,
      "outputs": []
    },
    {
      "cell_type": "code",
      "metadata": {
        "id": "9nWGeHknZqWi",
        "colab": {
          "base_uri": "https://localhost:8080/"
        },
        "outputId": "b58659c6-4944-4bb6-a3db-34ca6da930da"
      },
      "source": [
        "X_train_normal.shape[0]"
      ],
      "execution_count": null,
      "outputs": [
        {
          "output_type": "execute_result",
          "data": {
            "text/plain": [
              "1"
            ]
          },
          "metadata": {
            "tags": []
          },
          "execution_count": 24
        }
      ]
    },
    {
      "cell_type": "code",
      "metadata": {
        "id": "CYwdQfEKZqbY"
      },
      "source": [
        ""
      ],
      "execution_count": null,
      "outputs": []
    },
    {
      "cell_type": "code",
      "metadata": {
        "id": "ol3vSNgFDhpl"
      },
      "source": [
        "abnormal_data = abnormal_data.astype('float32')\n",
        "#normal_data = normal_data.astype('float32')\n",
        "\n",
        "abnormal_data = abnormal_data / 255.0\n",
        "#normal_data = normal_data / 255.0"
      ],
      "execution_count": null,
      "outputs": []
    },
    {
      "cell_type": "code",
      "metadata": {
        "id": "V5-oEA2bd9IC"
      },
      "source": [
        ""
      ],
      "execution_count": null,
      "outputs": []
    },
    {
      "cell_type": "code",
      "metadata": {
        "id": "sSV0pNbeOv3M"
      },
      "source": [
        "X_test_abnormal = []\n",
        "X_test_normal = []\n",
        "\n",
        "# plot images from the training dataset\n",
        "for i in range(len(X_test)):\n",
        "  if X_test_label[i] == 0: # few abnormal samples\n",
        "    X_test_abnormal.append(X_test[i])\n",
        "  elif X_test_label[i] == 1:\n",
        "    X_test_normal.append(X_test[i])"
      ],
      "execution_count": null,
      "outputs": []
    },
    {
      "cell_type": "code",
      "metadata": {
        "id": "-IvGp4YLROqa"
      },
      "source": [
        "# expand to 3d, e.g. add channels dimension\n",
        "abnormal_data_test = np.expand_dims(X_test_abnormal, axis=0)"
      ],
      "execution_count": null,
      "outputs": []
    },
    {
      "cell_type": "code",
      "metadata": {
        "id": "JkwO2RDdOwDv"
      },
      "source": [
        "abnormal_data_test = abnormal_data_test.astype('float32')\n",
        "abnormal_data_test = abnormal_data_test / 255.0"
      ],
      "execution_count": null,
      "outputs": []
    },
    {
      "cell_type": "code",
      "metadata": {
        "id": "f4H4yhdJPYok"
      },
      "source": [
        "#abnormal_images = np.array(os.listdir(path_abnormal))\n",
        "np.random.shuffle(abnormal_data_test)\n",
        "BUFFER_SIZE = len(X_test_abnormal) #200000 # number of images in training i think\n",
        "BATCH_SIZE = 1#500 # This is just the standard number for batch size. Google for more info\n",
        "# shuffle and batch the data\n",
        "np.random.shuffle(abnormal_data_test)\n",
        "abnormal_data_test = np.split(abnormal_data_test[:BUFFER_SIZE],BATCH_SIZE)"
      ],
      "execution_count": null,
      "outputs": []
    },
    {
      "cell_type": "code",
      "metadata": {
        "id": "KPTvr3l8P_-8"
      },
      "source": [
        "X_test_normal = np.asarray(X_test_normal)"
      ],
      "execution_count": null,
      "outputs": []
    },
    {
      "cell_type": "code",
      "metadata": {
        "id": "5Grufe46QADl"
      },
      "source": [
        "test_normal_images = X_test_normal.reshape(X_test_normal.shape[0], 32, 32, 3).astype('float32')\n",
        "#train_images = (train_images - 127.5) / 127.5\n",
        "\n",
        "test_normal_images = (test_normal_images) / 255.0"
      ],
      "execution_count": null,
      "outputs": []
    },
    {
      "cell_type": "code",
      "metadata": {
        "id": "Jsx_LALn7zFI"
      },
      "source": [
        "test_normal_ds = tf.data.Dataset.from_tensor_slices(test_normal_images).shuffle(54077).batch(100000000)"
      ],
      "execution_count": null,
      "outputs": []
    },
    {
      "cell_type": "code",
      "metadata": {
        "id": "LgOVbw095qCd"
      },
      "source": [
        "# X_train_normal_np = X_train_normal_np.astype('float32') / 255.\n",
        "# X_train_abnormal_np = X_train_abnormal_np.astype('float32') / 255."
      ],
      "execution_count": null,
      "outputs": []
    },
    {
      "cell_type": "code",
      "metadata": {
        "id": "SFD4eRcvqTXH"
      },
      "source": [
        "# path = \"/content/gdrive/MyDrive/Anomaly_Detection_Videos/normal_frames/\""
      ],
      "execution_count": null,
      "outputs": []
    },
    {
      "cell_type": "code",
      "metadata": {
        "id": "A4pyk1fpg--V"
      },
      "source": [
        "# path_abnormal = \"/content/gdrive/MyDrive/Anomaly_Detection_Videos/abnormal_frames/\""
      ],
      "execution_count": null,
      "outputs": []
    },
    {
      "cell_type": "code",
      "metadata": {
        "id": "W2aq3snQqTXH"
      },
      "source": [
        "# def load_image( infilename ) :\n",
        "#     img = PIL.Image.open( infilename )\n",
        "#     #img = img.crop([25,65,153,193])\n",
        "#     #img = img.resize((64,64))\n",
        "#     img = img.resize((512,512))\n",
        "#     data = np.asarray( img, dtype=\"int32\" )\n",
        "#     return data"
      ],
      "execution_count": null,
      "outputs": []
    },
    {
      "cell_type": "code",
      "metadata": {
        "id": "uPu_SL8nscPu"
      },
      "source": [
        "latent_dim = 128\n",
        "C = 3\n",
        "img_width = img_height = 32"
      ],
      "execution_count": null,
      "outputs": []
    },
    {
      "cell_type": "code",
      "metadata": {
        "id": "zZnINbCQYiCj"
      },
      "source": [
        "IMG_SIZE = (32, 32)"
      ],
      "execution_count": null,
      "outputs": []
    },
    {
      "cell_type": "code",
      "metadata": {
        "id": "iyzrcusrYiH0"
      },
      "source": [
        "IMG_SHAPE = IMG_SIZE + (3,)"
      ],
      "execution_count": null,
      "outputs": []
    },
    {
      "cell_type": "code",
      "metadata": {
        "id": "dw5bZzws8fdZ"
      },
      "source": [
        ""
      ],
      "execution_count": null,
      "outputs": []
    },
    {
      "cell_type": "code",
      "metadata": {
        "id": "zfQKg-dhX8fW",
        "colab": {
          "base_uri": "https://localhost:8080/"
        },
        "outputId": "0ae90439-e6be-4900-a8b6-79310ad138db"
      },
      "source": [
        "base_model_encoder = tf.keras.applications.DenseNet121(input_shape=IMG_SHAPE,\n",
        "                                            include_top=False,\n",
        "                                            weights='imagenet')"
      ],
      "execution_count": null,
      "outputs": [
        {
          "output_type": "stream",
          "text": [
            "Downloading data from https://storage.googleapis.com/tensorflow/keras-applications/densenet/densenet121_weights_tf_dim_ordering_tf_kernels_notop.h5\n",
            "29089792/29084464 [==============================] - 1s 0us/step\n"
          ],
          "name": "stdout"
        }
      ]
    },
    {
      "cell_type": "code",
      "metadata": {
        "id": "HXuOE3mvX8ke"
      },
      "source": [
        "base_model_encoder.trainable = True"
      ],
      "execution_count": null,
      "outputs": []
    },
    {
      "cell_type": "code",
      "metadata": {
        "id": "zpri_oGgYKUh",
        "colab": {
          "base_uri": "https://localhost:8080/"
        },
        "outputId": "b0e97793-60ee-46b7-ff8d-c57fe48a8513"
      },
      "source": [
        "# Let's take a look to see how many layers are in the base model\n",
        "print(\"Number of layers in the base model: \", len(base_model_encoder.layers))\n",
        "\n",
        "# Fine-tune from this layer onwards\n",
        "fine_tune_at_encoder = 422\n",
        "\n",
        "# Freeze all the layers before the `fine_tune_at` layer\n",
        "for layer in base_model_encoder.layers[:fine_tune_at_encoder]:\n",
        "  layer.trainable =  False"
      ],
      "execution_count": null,
      "outputs": [
        {
          "output_type": "stream",
          "text": [
            "Number of layers in the base model:  427\n"
          ],
          "name": "stdout"
        }
      ]
    },
    {
      "cell_type": "code",
      "metadata": {
        "id": "DLGyCBlppYCC",
        "colab": {
          "base_uri": "https://localhost:8080/"
        },
        "outputId": "101b4cb1-fe2b-4f8c-a488-c94e22498a68"
      },
      "source": [
        "print(f'{len(base_model_encoder.layers) - fine_tune_at_encoder} layers fine-tuned at generator module')"
      ],
      "execution_count": null,
      "outputs": [
        {
          "output_type": "stream",
          "text": [
            "5 layers fine-tuned at generator module\n"
          ],
          "name": "stdout"
        }
      ]
    },
    {
      "cell_type": "code",
      "metadata": {
        "id": "JAYO2zxqpYJZ"
      },
      "source": [
        ""
      ],
      "execution_count": null,
      "outputs": []
    },
    {
      "cell_type": "code",
      "metadata": {
        "id": "bCZSULVkYKZL"
      },
      "source": [
        "global_average_layer = tf.keras.layers.GlobalAveragePooling2D()"
      ],
      "execution_count": null,
      "outputs": []
    },
    {
      "cell_type": "code",
      "metadata": {
        "id": "KdSPwz6GYKdj"
      },
      "source": [
        ""
      ],
      "execution_count": null,
      "outputs": []
    },
    {
      "cell_type": "code",
      "metadata": {
        "id": "nXUrrksy8fhs"
      },
      "source": [
        "def make_encoder_model():\n",
        "  inputs = layers.Input(shape=(img_width, img_height, C), name=\"inputs\")\n",
        "  x = inputs\n",
        "\n",
        "  # Fine-tuning the base layers\n",
        "\n",
        "  x = base_model_encoder(inputs, training=False)\n",
        "  x = global_average_layer(x)\n",
        "  #x = tf.keras.layers.Dropout(0.2)(x)\n",
        "\n",
        "\n",
        "\n",
        "\n",
        "  # x = layers.Conv2D(32, (3,3), padding=\"same\")(x)\n",
        "  # x = layers.BatchNormalization()(x)\n",
        "  # x = layers.LeakyReLU(alpha=0.2)(x)\n",
        "  # x = layers.MaxPool2D((2,2))(x)\n",
        "\n",
        "  # x = layers.Conv2D(32, (3,3), padding=\"same\")(x)\n",
        "  # x = layers.BatchNormalization()(x)\n",
        "  # x = layers.LeakyReLU(alpha=0.2)(x)\n",
        "  # x = layers.MaxPool2D((2,2))(x)\n",
        "\n",
        "  print('shape after encoder: ', x.shape)\n",
        "\n",
        "  # x = layers.Flatten()(x)\n",
        "  units = x.shape[1] * 2\n",
        "  x = layers.Dense(latent_dim, name=\"latent\")(x)\n",
        "\n",
        "  return (x, inputs, units)"
      ],
      "execution_count": null,
      "outputs": []
    },
    {
      "cell_type": "code",
      "metadata": {
        "id": "cKnrLJOYnwP9"
      },
      "source": [
        "def make_encoder_model_not_pretrain():\n",
        "  inputs = layers.Input(shape=(img_width, img_height, C), name=\"inputs\")\n",
        "  x = inputs\n",
        "\n",
        "  # Fine-tuning the base layers\n",
        "\n",
        "  #x = base_model_encoder(inputs, training=False)\n",
        "  #x = global_average_layer(x)\n",
        "  #x = tf.keras.layers.Dropout(0.2)(x)\n",
        "\n",
        "\n",
        "\n",
        "\n",
        "  x = layers.Conv2D(32, (3,3), padding=\"same\")(x)\n",
        "  x = layers.BatchNormalization()(x)\n",
        "  x = layers.LeakyReLU(alpha=0.2)(x)\n",
        "  x = layers.MaxPool2D((2,2))(x)\n",
        "\n",
        "  x = layers.Conv2D(32, (3,3), padding=\"same\")(x)\n",
        "  x = layers.BatchNormalization()(x)\n",
        "  x = layers.LeakyReLU(alpha=0.2)(x)\n",
        "  x = layers.MaxPool2D((2,2))(x)\n",
        "\n",
        "  print('shape after encoder: ', x.shape)\n",
        "\n",
        "  x = layers.Flatten()(x)\n",
        "  units = x.shape[1]\n",
        "  x = layers.Dense(latent_dim, name=\"latent\")(x)\n",
        "\n",
        "  return (x, inputs, units)"
      ],
      "execution_count": null,
      "outputs": []
    },
    {
      "cell_type": "code",
      "metadata": {
        "id": "XN7eWskTnwt8"
      },
      "source": [
        ""
      ],
      "execution_count": null,
      "outputs": []
    },
    {
      "cell_type": "code",
      "metadata": {
        "id": "XNYtNMdF8fl6"
      },
      "source": [
        "def make_generator_model(x, units):\n",
        "  # Building the generator\n",
        "  x = layers.Dense(units)(x)\n",
        "  x = layers.LeakyReLU(alpha=0.2)(x)\n",
        "  x = layers.Reshape((8, 8, 32))(x) # reshape to shape after encoder\n",
        "\n",
        "  x = layers.Conv2DTranspose(64, (3, 3), strides=2, padding=\"same\")(x)\n",
        "  x = layers.BatchNormalization()(x)\n",
        "  x = layers.LeakyReLU(alpha=0.2)(x)\n",
        "\n",
        "  x = layers.Conv2DTranspose(C, (3,3), strides=2, padding='same')(x)\n",
        "  x = layers.BatchNormalization()(x)\n",
        "  x = layers.Activation(\"sigmoid\", name=\"outputs\")(x)\n",
        "\n",
        "  outputs = x\n",
        "\n",
        "  return outputs"
      ],
      "execution_count": null,
      "outputs": []
    },
    {
      "cell_type": "code",
      "metadata": {
        "id": "Z0XkFJ1aCqB4",
        "colab": {
          "base_uri": "https://localhost:8080/"
        },
        "outputId": "4340ba04-b2ca-45bd-b996-85acbc8de6d7"
      },
      "source": [
        "x, inputs, units = make_encoder_model_not_pretrain()"
      ],
      "execution_count": null,
      "outputs": [
        {
          "output_type": "stream",
          "text": [
            "shape after encoder:  (None, 8, 8, 32)\n"
          ],
          "name": "stdout"
        }
      ]
    },
    {
      "cell_type": "code",
      "metadata": {
        "id": "WlJxGlN8CwBv"
      },
      "source": [
        "outputs = make_generator_model(x=x, units=units)"
      ],
      "execution_count": null,
      "outputs": []
    },
    {
      "cell_type": "code",
      "metadata": {
        "id": "1lpD6HVQCLjP"
      },
      "source": [
        "encoder_generator_network = Model(inputs=inputs, outputs=outputs)"
      ],
      "execution_count": null,
      "outputs": []
    },
    {
      "cell_type": "code",
      "metadata": {
        "id": "eVs7XgajsN5_",
        "colab": {
          "base_uri": "https://localhost:8080/"
        },
        "outputId": "7a990845-556c-41e8-d564-f30dfc795dad"
      },
      "source": [
        "print(x.shape)"
      ],
      "execution_count": null,
      "outputs": [
        {
          "output_type": "stream",
          "text": [
            "(None, 128)\n"
          ],
          "name": "stdout"
        }
      ]
    },
    {
      "cell_type": "code",
      "metadata": {
        "id": "4bNKAlYV_egO",
        "colab": {
          "base_uri": "https://localhost:8080/"
        },
        "outputId": "f53bb885-7faf-4507-c975-9e97a129c887"
      },
      "source": [
        "abnormal_data.shape"
      ],
      "execution_count": null,
      "outputs": [
        {
          "output_type": "execute_result",
          "data": {
            "text/plain": [
              "(1, 32, 32, 3)"
            ]
          },
          "metadata": {
            "tags": []
          },
          "execution_count": 52
        }
      ]
    },
    {
      "cell_type": "code",
      "metadata": {
        "id": "GhqB68KtCXjK"
      },
      "source": [
        ""
      ],
      "execution_count": null,
      "outputs": []
    },
    {
      "cell_type": "code",
      "metadata": {
        "id": "mH1fvSBtKEQG"
      },
      "source": [
        "#abnormal_images = np.array(os.listdir(path_abnormal))\n",
        "np.random.shuffle(abnormal_data)\n",
        "BUFFER_SIZE = len(X_train_abnormal) #200000 # number of images in training i think\n",
        "BATCH_SIZE = 1#500 # This is just the standard number for batch size. Google for more info\n",
        "# shuffle and batch the data\n",
        "np.random.shuffle(abnormal_data)\n",
        "# abnormal_data = np.split(abnormal_data[:BUFFER_SIZE],BATCH_SIZE)\n",
        "\n",
        "abnormal_data = np.split(abnormal_data[:2500], 1)"
      ],
      "execution_count": null,
      "outputs": []
    },
    {
      "cell_type": "code",
      "metadata": {
        "id": "d-vj7oPxKEVB"
      },
      "source": [
        "# #abnormal_images = np.array(os.listdir(path_abnormal))\n",
        "# np.random.shuffle(normal_data)\n",
        "# BUFFER_SIZE = 5#200000 # number of images in training i think\n",
        "# BATCH_SIZE = 1#500 # This is just the standard number for batch size. Google for more info\n",
        "# # shuffle and batch the data\n",
        "# np.random.shuffle(normal_data)\n",
        "# #normal_data = np.split(normal_data[:BUFFER_SIZE],BATCH_SIZE)"
      ],
      "execution_count": null,
      "outputs": []
    },
    {
      "cell_type": "code",
      "metadata": {
        "id": "rh-o7AjMV0yF"
      },
      "source": [
        "train_normal_dataset = tf.data.Dataset.from_tensor_slices(train_images).shuffle(54077).batch(128)"
      ],
      "execution_count": null,
      "outputs": []
    },
    {
      "cell_type": "code",
      "metadata": {
        "id": "COO4SI8nCXng"
      },
      "source": [
        "#len(abnormal_data[0][1])"
      ],
      "execution_count": null,
      "outputs": []
    },
    {
      "cell_type": "code",
      "metadata": {
        "id": "wrAL-SrYCXri"
      },
      "source": [
        ""
      ],
      "execution_count": null,
      "outputs": []
    },
    {
      "cell_type": "code",
      "metadata": {
        "id": "fWO5D3VhqTXJ",
        "colab": {
          "base_uri": "https://localhost:8080/",
          "height": 283
        },
        "outputId": "87fe20a7-3512-4eba-ccda-4fed00dc5b83"
      },
      "source": [
        "#generator = make_generator_model()\n",
        "\n",
        "#noise = tf.random.normal([1, img_width,img_height, 1]) # shape is 1, 100\n",
        "generated_image = encoder_generator_network(abnormal_data, training = True)\n",
        "#plt.imshow(generated_image[0], interpolation=\"nearest\" )\n",
        "plt.imshow(generated_image[0])"
      ],
      "execution_count": null,
      "outputs": [
        {
          "output_type": "execute_result",
          "data": {
            "text/plain": [
              "<matplotlib.image.AxesImage at 0x7f2c423f5650>"
            ]
          },
          "metadata": {
            "tags": []
          },
          "execution_count": 57
        },
        {
          "output_type": "display_data",
          "data": {
            "image/png": "[encoded data removed]",
            "text/plain": [
              "<Figure size 432x288 with 1 Axes>"
            ]
          },
          "metadata": {
            "tags": [],
            "needs_background": "light"
          }
        }
      ]
    },
    {
      "cell_type": "code",
      "metadata": {
        "id": "RIS1LB3fEKge",
        "colab": {
          "base_uri": "https://localhost:8080/"
        },
        "outputId": "c31cda1e-38d8-4d40-dbd0-d48dbe18a9da"
      },
      "source": [
        "len(generated_image)"
      ],
      "execution_count": null,
      "outputs": [
        {
          "output_type": "execute_result",
          "data": {
            "text/plain": [
              "1"
            ]
          },
          "metadata": {
            "tags": []
          },
          "execution_count": 58
        }
      ]
    },
    {
      "cell_type": "code",
      "metadata": {
        "id": "2_JX0ygx1xSM"
      },
      "source": [
        "IMG_SIZE = (32, 32)"
      ],
      "execution_count": null,
      "outputs": []
    },
    {
      "cell_type": "code",
      "metadata": {
        "id": "s7BC5Ze0140V"
      },
      "source": [
        "IMG_SHAPE = IMG_SIZE + (3,)"
      ],
      "execution_count": null,
      "outputs": []
    },
    {
      "cell_type": "code",
      "metadata": {
        "id": "WLw6Wcgl1YZF"
      },
      "source": [
        "base_model_disc = tf.keras.applications.DenseNet121(input_shape=IMG_SHAPE,\n",
        "                                            include_top=False,\n",
        "                                            weights='imagenet')"
      ],
      "execution_count": null,
      "outputs": []
    },
    {
      "cell_type": "code",
      "metadata": {
        "id": "4CDCFe_I2X6V"
      },
      "source": [
        "base_model_disc.trainable = True"
      ],
      "execution_count": null,
      "outputs": []
    },
    {
      "cell_type": "code",
      "metadata": {
        "id": "AOq_9yDAMpt8"
      },
      "source": [
        "#base_model.summary()"
      ],
      "execution_count": null,
      "outputs": []
    },
    {
      "cell_type": "code",
      "metadata": {
        "id": "K0Lq2PKSMqr8",
        "colab": {
          "base_uri": "https://localhost:8080/"
        },
        "outputId": "15b5f4b5-d00a-4518-a452-e09ee3a7b24f"
      },
      "source": [
        "# Let's take a look to see how many layers are in the base model\n",
        "print(\"Number of layers in the base model: \", len(base_model_disc.layers))\n",
        "\n",
        "# Fine-tune from this layer onwards\n",
        "fine_tune_at_disc = 422\n",
        "\n",
        "# Freeze all the layers before the `fine_tune_at` layer\n",
        "for layer in base_model_disc.layers[:fine_tune_at_disc]:\n",
        "  layer.trainable =  False"
      ],
      "execution_count": null,
      "outputs": [
        {
          "output_type": "stream",
          "text": [
            "Number of layers in the base model:  427\n"
          ],
          "name": "stdout"
        }
      ]
    },
    {
      "cell_type": "code",
      "metadata": {
        "id": "2FyOq3W320La",
        "colab": {
          "base_uri": "https://localhost:8080/"
        },
        "outputId": "cdff45b2-5b13-41c1-ebad-687c5991129a"
      },
      "source": [
        "print(f'{len(base_model_disc.layers) - fine_tune_at_disc} layers fine-tuned at discriminator module')"
      ],
      "execution_count": null,
      "outputs": [
        {
          "output_type": "stream",
          "text": [
            "5 layers fine-tuned at discriminator module\n"
          ],
          "name": "stdout"
        }
      ]
    },
    {
      "cell_type": "code",
      "metadata": {
        "id": "0j63xQlYp0_6"
      },
      "source": [
        ""
      ],
      "execution_count": null,
      "outputs": []
    },
    {
      "cell_type": "code",
      "metadata": {
        "id": "gOUWK3mc4ASy"
      },
      "source": [
        "prediction_layer = tf.keras.layers.Dense(1)"
      ],
      "execution_count": null,
      "outputs": []
    },
    {
      "cell_type": "code",
      "metadata": {
        "id": "5ZIr4xHs4AW-"
      },
      "source": [
        "global_average_layer = tf.keras.layers.GlobalAveragePooling2D()"
      ],
      "execution_count": null,
      "outputs": []
    },
    {
      "cell_type": "code",
      "metadata": {
        "id": "cGkPavlnAVte"
      },
      "source": [
        ""
      ],
      "execution_count": null,
      "outputs": []
    },
    {
      "cell_type": "code",
      "metadata": {
        "id": "KhC_gomoZhwp",
        "colab": {
          "base_uri": "https://localhost:8080/",
          "height": 1000
        },
        "outputId": "6376aec5-196c-4e58-a152-0f692db45384"
      },
      "source": [
        "# example of defining the discriminator model\n",
        "from keras.models import Sequential\n",
        "from keras.optimizers import Adam\n",
        "from keras.layers import Dense\n",
        "from keras.layers import Conv2D\n",
        "from keras.layers import Flatten\n",
        "from keras.layers import Dropout\n",
        "from keras.layers import LeakyReLU\n",
        "from keras.utils.vis_utils import plot_model\n",
        "\n",
        "\n",
        "def define_discriminator():\n",
        "  inputs = tf.keras.Input(shape=(32, 32, 3))\n",
        "  #x = data_augmentation(inputs)\n",
        "  #x = preprocess_input(x)\n",
        "  x = base_model_disc(inputs, training=False)\n",
        "  x = global_average_layer(x)\n",
        "  x = tf.keras.layers.Dropout(0.2)(x)\n",
        "  outputs = prediction_layer(x)\n",
        "  model = tf.keras.Model(inputs, outputs)\n",
        "\n",
        "  return model\n",
        "\n",
        "\n",
        " \n",
        "# define the standalone discriminator model\n",
        "def define_discriminator_not_pretrain(in_shape=(img_width, img_height, C)):\n",
        " model = Sequential()\n",
        " model.add(Conv2D(64, (5,5), strides=(2, 2), padding='same', input_shape=in_shape))\n",
        " model.add(LeakyReLU(alpha=0.2))\n",
        " model.add(Dropout(0.4))\n",
        " model.add(Conv2D(128, (5,5), strides=(2, 2), padding='same'))\n",
        " model.add(LeakyReLU(alpha=0.2))\n",
        " model.add(Dropout(0.4))\n",
        " model.add(Flatten())\n",
        " model.add(Dense(1, activation='sigmoid'))\n",
        " # compile model\n",
        " #opt = Adam(lr=0.0002, beta_1=0.5)\n",
        " #model.compile(loss='binary_crossentropy', optimizer=opt, metrics=['accuracy'])\n",
        " return model\n",
        " \n",
        "# define discriminator model\n",
        "discriminator = define_discriminator_not_pretrain()\n",
        "# summarize the model\n",
        "discriminator.summary()\n",
        "# plot the model\n",
        "plot_model(discriminator, to_file='discriminator_plot.png', show_shapes=True, show_layer_names=True)"
      ],
      "execution_count": null,
      "outputs": [
        {
          "output_type": "stream",
          "text": [
            "Model: \"sequential\"\n",
            "_________________________________________________________________\n",
            "Layer (type)                 Output Shape              Param #   \n",
            "=================================================================\n",
            "conv2d_2 (Conv2D)            (None, 16, 16, 64)        4864      \n",
            "_________________________________________________________________\n",
            "leaky_re_lu_4 (LeakyReLU)    (None, 16, 16, 64)        0         \n",
            "_________________________________________________________________\n",
            "dropout (Dropout)            (None, 16, 16, 64)        0         \n",
            "_________________________________________________________________\n",
            "conv2d_3 (Conv2D)            (None, 8, 8, 128)         204928    \n",
            "_________________________________________________________________\n",
            "leaky_re_lu_5 (LeakyReLU)    (None, 8, 8, 128)         0         \n",
            "_________________________________________________________________\n",
            "dropout_1 (Dropout)          (None, 8, 8, 128)         0         \n",
            "_________________________________________________________________\n",
            "flatten_1 (Flatten)          (None, 8192)              0         \n",
            "_________________________________________________________________\n",
            "dense_2 (Dense)              (None, 1)                 8193      \n",
            "=================================================================\n",
            "Total params: 217,985\n",
            "Trainable params: 217,985\n",
            "Non-trainable params: 0\n",
            "_________________________________________________________________\n"
          ],
          "name": "stdout"
        },
        {
          "output_type": "execute_result",
          "data": {
            "image/png": "[encoded data removed]",
            "text/plain": [
              "<IPython.core.display.Image object>"
            ]
          },
          "metadata": {
            "tags": []
          },
          "execution_count": 68
        }
      ]
    },
    {
      "cell_type": "code",
      "metadata": {
        "id": "u1lRmOOsbGh3"
      },
      "source": [
        ""
      ],
      "execution_count": null,
      "outputs": []
    },
    {
      "cell_type": "code",
      "metadata": {
        "id": "wHdpzCmbbGmF",
        "colab": {
          "base_uri": "https://localhost:8080/"
        },
        "outputId": "dcae2c7a-bde0-4d3f-ae69-ce88dcab76ae"
      },
      "source": [
        "decision = discriminator(generated_image)\n",
        "print(decision)"
      ],
      "execution_count": null,
      "outputs": [
        {
          "output_type": "stream",
          "text": [
            "tf.Tensor([[0.5232948]], shape=(1, 1), dtype=float32)\n"
          ],
          "name": "stdout"
        }
      ]
    },
    {
      "cell_type": "code",
      "metadata": {
        "id": "DB5sg7RXEZYj",
        "colab": {
          "base_uri": "https://localhost:8080/"
        },
        "outputId": "ae3dc947-eb29-491a-f35a-211e11d06508"
      },
      "source": [
        "len(decision)"
      ],
      "execution_count": null,
      "outputs": [
        {
          "output_type": "execute_result",
          "data": {
            "text/plain": [
              "1"
            ]
          },
          "metadata": {
            "tags": []
          },
          "execution_count": 70
        }
      ]
    },
    {
      "cell_type": "markdown",
      "metadata": {
        "id": "Qs_S3MejNCHX"
      },
      "source": [
        "## Testing Abnormal data with discriminator ##"
      ]
    },
    {
      "cell_type": "code",
      "metadata": {
        "id": "5dlujBYpF-fW"
      },
      "source": [
        "abn_data = np.expand_dims(abnormal_data[0][-1], axis=0)"
      ],
      "execution_count": null,
      "outputs": []
    },
    {
      "cell_type": "code",
      "metadata": {
        "id": "2S2qAFqlEvzm",
        "colab": {
          "base_uri": "https://localhost:8080/"
        },
        "outputId": "414a3028-821b-4cff-9980-b2ccf1f59350"
      },
      "source": [
        "decision = discriminator(abn_data)\n",
        "print(decision) # discriminator decision should be close to 0"
      ],
      "execution_count": null,
      "outputs": [
        {
          "output_type": "stream",
          "text": [
            "tf.Tensor([[0.5159702]], shape=(1, 1), dtype=float32)\n"
          ],
          "name": "stdout"
        }
      ]
    },
    {
      "cell_type": "code",
      "metadata": {
        "id": "v8Wo5Nf5wCva",
        "colab": {
          "base_uri": "https://localhost:8080/"
        },
        "outputId": "09f16eb0-fcbf-4b9d-b8a6-83fb405f5ff4"
      },
      "source": [
        "type(abn_data)"
      ],
      "execution_count": null,
      "outputs": [
        {
          "output_type": "execute_result",
          "data": {
            "text/plain": [
              "numpy.ndarray"
            ]
          },
          "metadata": {
            "tags": []
          },
          "execution_count": 73
        }
      ]
    },
    {
      "cell_type": "code",
      "metadata": {
        "id": "28CZSdQzbGu3",
        "colab": {
          "base_uri": "https://localhost:8080/",
          "height": 283
        },
        "outputId": "1fcac886-bdad-448c-fe3e-adf10eed3979"
      },
      "source": [
        "plt.imshow(tf.squeeze(abn_data))"
      ],
      "execution_count": null,
      "outputs": [
        {
          "output_type": "execute_result",
          "data": {
            "text/plain": [
              "<matplotlib.image.AxesImage at 0x7f2c2a854690>"
            ]
          },
          "metadata": {
            "tags": []
          },
          "execution_count": 74
        },
        {
          "output_type": "display_data",
          "data": {
            "image/png": "[encoded data removed]",
            "text/plain": [
              "<Figure size 432x288 with 1 Axes>"
            ]
          },
          "metadata": {
            "tags": [],
            "needs_background": "light"
          }
        }
      ]
    },
    {
      "cell_type": "code",
      "metadata": {
        "id": "S4DCvenAKh0x",
        "colab": {
          "base_uri": "https://localhost:8080/"
        },
        "outputId": "5d28ed49-66ae-41d7-96e4-379720cbbee3"
      },
      "source": [
        "train_images[0].shape"
      ],
      "execution_count": null,
      "outputs": [
        {
          "output_type": "execute_result",
          "data": {
            "text/plain": [
              "(32, 32, 3)"
            ]
          },
          "metadata": {
            "tags": []
          },
          "execution_count": 75
        }
      ]
    },
    {
      "cell_type": "markdown",
      "metadata": {
        "id": "jwJpR577MX0z"
      },
      "source": [
        "## Testing Normal data with discriminator ##"
      ]
    },
    {
      "cell_type": "code",
      "metadata": {
        "id": "AN_M5tHIKA2V"
      },
      "source": [
        "nor_data = np.expand_dims(train_images[0], axis=0)"
      ],
      "execution_count": null,
      "outputs": []
    },
    {
      "cell_type": "code",
      "metadata": {
        "id": "JPd_QFwnKA6P",
        "colab": {
          "base_uri": "https://localhost:8080/"
        },
        "outputId": "62af6bb1-122f-4483-c8ba-ada22c983014"
      },
      "source": [
        "decision = discriminator(nor_data)\n",
        "print(decision) # discriminator decision should be close to 1"
      ],
      "execution_count": null,
      "outputs": [
        {
          "output_type": "stream",
          "text": [
            "tf.Tensor([[0.5128943]], shape=(1, 1), dtype=float32)\n"
          ],
          "name": "stdout"
        }
      ]
    },
    {
      "cell_type": "code",
      "metadata": {
        "id": "UInXhBIZKA-f",
        "colab": {
          "base_uri": "https://localhost:8080/",
          "height": 283
        },
        "outputId": "25d56a13-67da-4d6a-9e8c-e10cc75e73f7"
      },
      "source": [
        "plt.imshow(tf.squeeze(nor_data))"
      ],
      "execution_count": null,
      "outputs": [
        {
          "output_type": "execute_result",
          "data": {
            "text/plain": [
              "<matplotlib.image.AxesImage at 0x7f2c2a7ee250>"
            ]
          },
          "metadata": {
            "tags": []
          },
          "execution_count": 78
        },
        {
          "output_type": "display_data",
          "data": {
            "image/png": "[encoded data removed]",
            "text/plain": [
              "<Figure size 432x288 with 1 Axes>"
            ]
          },
          "metadata": {
            "tags": [],
            "needs_background": "light"
          }
        }
      ]
    },
    {
      "cell_type": "code",
      "metadata": {
        "id": "rhgWJhlpGzYI"
      },
      "source": [
        ""
      ],
      "execution_count": null,
      "outputs": []
    },
    {
      "cell_type": "code",
      "metadata": {
        "id": "tGgpbeW2qTXK"
      },
      "source": [
        "# This method returns a helper function to compute cross entropy loss\n",
        "cross_entropy = tf.keras.losses.BinaryCrossentropy(from_logits = True)\n",
        "\n",
        "\"\"\"\n",
        "Discriminator Loss\n",
        "\n",
        "This method quantifies how well the discriminator is able to distinguish real images from fakes. It compares the discriminator's predicitions on real images to an array of 1s\n",
        "and the dicriminator's predicitons on fake (generated) images to an array of 0s.\n",
        "\"\"\"\n",
        "@tf.function\n",
        "def discriminator_loss(real_output, fake_output):\n",
        "  real_loss = cross_entropy(tf.ones_like(real_output), real_output)\n",
        "  fake_loss = cross_entropy(tf.zeros_like(fake_output), fake_output)\n",
        "\n",
        "  #abnormal_loss = cross_entropy(tf.zeros_like(abnormal_output), abnormal_output)\n",
        "\n",
        "  #total_loss = real_loss + fake_loss + abnormal_loss\n",
        "  total_loss = real_loss + fake_loss\n",
        "  \n",
        "  return total_loss\n",
        "\n",
        "\"\"\"\n",
        "Generator Loss\n",
        "\n",
        "The generator's loss quantifies how well it was able to trick the discrimator. Intuitively, if the generator is performing well, the discriminator will classify the fake images as real (or 1).\n",
        "Here, we will compare the discriminators decisions on the generated images to an array of 1s.\n",
        "\"\"\"\n",
        "@tf.function\n",
        "def generator_loss(fake_output):\n",
        "  # pick abnormal image at random for optimization\n",
        "  i = random.randint(0, len(abnormal_data))\n",
        "  print(f'i = {i}')\n",
        "\n",
        "  loss_1 = cross_entropy(tf.ones_like(fake_output), fake_output)\n",
        "  #loss_2 = cross_entropy(tf.ones_like(abnormal_data[0][i]), abnormal_data[0][i])\n",
        "  #loss_2 = cross_entropy(tf.ones_like(generated_images[i]), abnormal_data[0][i])\n",
        "  #loss_2 = cross_entropy(tf.zeros_like(abnormal_output), abnormal_output)\n",
        "  total_loss = loss_1\n",
        "  return total_loss\n",
        "\n",
        "\"\"\"\n",
        "The discriminator and the generator optimizers are different since we will train two networks separately.\n",
        "The Adam optimization algorithm is an extension to stochastic gradient descent.\n",
        "Stochastic gradient descent maintains a single learning rate (termed alpha) for all weight updates and the learning rate does not change during training.\n",
        "A learning rate is maintained for each network weight (parameter) and separately adapted as learning unfolds.\n",
        "\n",
        "\"\"\"\n",
        "generator_optimizer = tf.keras.optimizers.Adam(1e-4)\n",
        "discriminator_optimizer = tf.keras.optimizers.Adam(1e-4)"
      ],
      "execution_count": null,
      "outputs": []
    },
    {
      "cell_type": "code",
      "metadata": {
        "id": "5XuWcKeCqTXL"
      },
      "source": [
        "checkpoint_dir = \"./training_checkpoints\"\n",
        "checkpoint_prefix = os.path.join(checkpoint_dir, \"ckpt\")\n",
        "checkpoint = tf.train.Checkpoint(generator_optimizer = generator_optimizer,\n",
        "                                 discriminator_optimizer = discriminator_optimizer,\n",
        "                                 generator = encoder_generator_network,\n",
        "                                 discriminator = discriminator)"
      ],
      "execution_count": null,
      "outputs": []
    },
    {
      "cell_type": "code",
      "metadata": {
        "id": "i6JEwKwVqTXM",
        "colab": {
          "base_uri": "https://localhost:8080/",
          "height": 35
        },
        "outputId": "833bf1ea-8659-4c5c-afc1-c7079c429152"
      },
      "source": [
        "checkpoint_prefix"
      ],
      "execution_count": null,
      "outputs": [
        {
          "output_type": "execute_result",
          "data": {
            "application/vnd.google.colaboratory.intrinsic+json": {
              "type": "string"
            },
            "text/plain": [
              "'./training_checkpoints/ckpt'"
            ]
          },
          "metadata": {
            "tags": []
          },
          "execution_count": 81
        }
      ]
    },
    {
      "cell_type": "code",
      "metadata": {
        "id": "8WQJ798IqTXM"
      },
      "source": [
        "# We will reuse this seed overtime (so it's easier) to visualize progress in the animated GIF\n",
        "#tf.random.set_seed(1234)\n",
        "noise_dim = 100\n",
        "num_examples_to_generate = 16\n",
        "#seed = tf.random.normal([num_examples_to_generate, noise_dim], seed=1)"
      ],
      "execution_count": null,
      "outputs": []
    },
    {
      "cell_type": "code",
      "metadata": {
        "id": "ZbdY3pjYqTXM"
      },
      "source": [
        "EPOCHS = 100"
      ],
      "execution_count": null,
      "outputs": []
    },
    {
      "cell_type": "code",
      "metadata": {
        "id": "M9rv9o_yqTXM"
      },
      "source": [
        "\"\"\"\n",
        "The training loop begins with generator receiving a random seed as input. \n",
        "That seed is used to produce an image. The discriminator is then used to classify real images (drawn from the training set) and fakes images (produced by the generator). \n",
        "The loss is calculated for each of these models, and the gradients are used to update the generator and discriminator.\n",
        "\"\"\"\n",
        "\n",
        "# Notice the use of tf.function\n",
        "# This annotation causes the function to be \"compiled\"\n",
        "def train_step(images):\n",
        "    #noise = tf.random.normal([BATCH_SIZE, noise_dim])\n",
        "    \n",
        "    # take the image links and return a cropped image\n",
        "    # new_images = []\n",
        "    # for file_name in images:\n",
        "    #     #new_pic = load_image( path + file_name)\n",
        "    #     #new_images.append(new_pic)\n",
        "    #     new_images.append(file_name)\n",
        "    \n",
        "    # images = np.array(new_images)\n",
        "    #images = images.reshape(images.shape[0], img_width, img_height, C).astype('float32') # puts each number in its own numpy array so instead of [1,2,3] gonna be [[1], [2], [3]]\n",
        "    #images = (images) / 255 # normalize to [0,1]\n",
        "    \n",
        "\n",
        "\n",
        "    \"\"\"\n",
        "GradientTape() Records operations for automatic differentiation. Operations are recorded if \n",
        "they are executed within this context manager and at least one of their inputs is being \"watched\".\n",
        "    \"\"\"\n",
        "    with tf.GradientTape() as gen_tape, tf.GradientTape() as disc_tape:\n",
        "      generated_images = encoder_generator_network(abnormal_data, training=True)\n",
        "\n",
        "      real_output = discriminator(images, training=True) # images constist of only normal samples\n",
        "      #abnormal_output = discriminator(abnormal_data, training=True) # abnormal_data constist of only abnormal samples\n",
        "      fake_output = discriminator(generated_images, training=True)\n",
        "\n",
        "      #gen_loss = generator_loss(generated_images=generated_images, fake_output=fake_output)\n",
        "      gen_loss = generator_loss(fake_output=fake_output)\n",
        "      disc_loss = discriminator_loss(real_output, fake_output)\n",
        "    \n",
        "    gradients_of_generator = gen_tape.gradient(gen_loss, encoder_generator_network.trainable_variables)\n",
        "    gradients_of_discriminator = disc_tape.gradient(disc_loss, discriminator.trainable_variables)\n",
        "\n",
        "    generator_optimizer.apply_gradients(zip(gradients_of_generator, encoder_generator_network.trainable_variables)) # The zip() function returns an iterator of tuples based on the iterable object.\n",
        "    discriminator_optimizer.apply_gradients(zip(gradients_of_discriminator, discriminator.trainable_variables))\n",
        "    \n",
        "    images = None"
      ],
      "execution_count": null,
      "outputs": []
    },
    {
      "cell_type": "code",
      "metadata": {
        "id": "oGKJlanCqTXN"
      },
      "source": [
        "# ended at 20 epocsh"
      ],
      "execution_count": null,
      "outputs": []
    },
    {
      "cell_type": "code",
      "metadata": {
        "id": "i5kQUhUCgQHZ"
      },
      "source": [
        ""
      ],
      "execution_count": null,
      "outputs": []
    },
    {
      "cell_type": "code",
      "metadata": {
        "id": "-agqOOiHgQL0"
      },
      "source": [
        "  # To plot model performance at various epochs on abnormal and normal samples\n",
        "  chart_abnormal = []\n",
        "  chart_normal = []\n",
        "  chart_epoch = []"
      ],
      "execution_count": null,
      "outputs": []
    },
    {
      "cell_type": "code",
      "metadata": {
        "id": "iPpId52ejiJG"
      },
      "source": [
        ""
      ],
      "execution_count": null,
      "outputs": []
    },
    {
      "cell_type": "code",
      "metadata": {
        "id": "Z4wqVQodTLi5"
      },
      "source": [
        "def discriminator_inference(X_test_abnormal, X_test_normal, epoch):\n",
        "  \"\"\"function to calculate discriminator score on text data\"\"\"\n",
        "  print(f'Abnormal-count{\"Normal-count\":>17}')\n",
        "  # print(f'{len(predictions_abnormal_test[0]):>14}{len(decision_test_normal[0]):>14}')\n",
        "\n",
        "  predictions_abnormal_test = []\n",
        "\n",
        "  # # To plot model performance at various epochs on abnormal and normal samples\n",
        "  # chart_abnormal = []\n",
        "  # chart_normal = []\n",
        "  # chart_epoch = []\n",
        "\n",
        "  for index, data in enumerate(abnormal_data_test[0]):\n",
        "    abn_data_2 = abnormal_data_test[0][index]\n",
        "    predictions_abnormal_test.append(discriminator(abn_data_2))\n",
        "\n",
        "\n",
        "  count_test_abnormal = 0\n",
        "\n",
        "  for ind, _ in enumerate(predictions_abnormal_test[0]):\n",
        "    if (tf.keras.backend.get_value(predictions_abnormal_test[0][ind])) < 0: # setting a threshold of 0.9\n",
        "      count_test_abnormal += 1\n",
        "\n",
        "  print('Abnormal correct count: ', count_test_abnormal)\n",
        "\n",
        "\n",
        "  decision_test_normal = []\n",
        "\n",
        "  for index, img in enumerate(test_normal_ds):\n",
        "    decision = discriminator(img)\n",
        "    decision_test_normal.append(decision)\n",
        "    #print(decision) # discriminator decision should be close to 1\n",
        "\n",
        "\n",
        "  count_test_normal = 0\n",
        "\n",
        "  for ind, _ in enumerate(decision_test_normal[0]):\n",
        "    if (tf.keras.backend.get_value(decision_test_normal[0][ind]))[0] >= 0: # setting a threshold of 0.9\n",
        "      #print(decision_test_normal[ind])\n",
        "      count_test_normal += 1\n",
        "  print('Normal correct count: ', count_test_normal)\n",
        "\n",
        "\n",
        "  chart_abnormal.append(count_test_abnormal)\n",
        "  chart_normal.append(count_test_normal)\n",
        "  chart_epoch.append(epoch)\n",
        "\n",
        "  # return (chart_abnormal, chart_normal, chart_epoch)"
      ],
      "execution_count": null,
      "outputs": []
    },
    {
      "cell_type": "code",
      "metadata": {
        "id": "dS4RhZzLgQQe"
      },
      "source": [
        ""
      ],
      "execution_count": null,
      "outputs": []
    },
    {
      "cell_type": "code",
      "metadata": {
        "id": "fOw6GeCPqTXN"
      },
      "source": [
        "#@tf.function\n",
        "def train(dataset, epochs):  \n",
        "  tf.print(\"Starting man!\")\n",
        "  for epoch in range(epochs):\n",
        "    start = time.time()\n",
        "    tf.print(\"Starting Epoch:\", epoch)\n",
        "    batch_count = 1\n",
        "    for image_batch in dataset:\n",
        "      #tf.print(\"Batch:\", batch_count)\n",
        "      train_step(image_batch)\n",
        "      #print(\"Batch:\", batch_count, \"Complete\")\n",
        "      batch_count += 1\n",
        "    \n",
        "\n",
        "    # Produce images for the GIF as we go\n",
        "    display.clear_output(wait=True)\n",
        "    generate_and_save_images(encoder_generator_network,\n",
        "                             epoch + 1,\n",
        "                             abnormal_data)\n",
        "    \n",
        "    tf.print(\"Epoch:\", epoch, \"finished\")\n",
        "    tf.print()\n",
        "    \n",
        "    # Save the model every epochs\n",
        "    #checkpoint.save(file_prefix = checkpoint_prefix)\n",
        "    \n",
        "    tf.print ('Time for epoch {} is {} sec'.format(epoch + 1, time.time()-start))\n",
        "    if epoch % EPOCHS == 0:\n",
        "       checkpoint.save(file_prefix = checkpoint_prefix)  \n",
        "  # Generate after the final epoch\n",
        "  display.clear_output(wait=True)\n",
        "  generate_and_save_images(encoder_generator_network,\n",
        "                           epochs,\n",
        "                           abnormal_data)"
      ],
      "execution_count": null,
      "outputs": []
    },
    {
      "cell_type": "code",
      "metadata": {
        "id": "x_SpCmhRqTXN"
      },
      "source": [
        "def generate_and_save_images(model, epoch, test_input):\n",
        "  # Notice `training` is set to False. \n",
        "  # This is so all layers run in inference mode (batchnorm).\n",
        "  predictions = model(abnormal_data, training=False).numpy()\n",
        "\n",
        "  fig = plt.figure(figsize=(150,150))\n",
        "  print(f'No of predictions: {predictions.shape[0]}')\n",
        "\n",
        "  #plt.imshow(tf.squeeze(predictions[0]), cmap='gray')\n",
        "\n",
        "  discriminator_inference(X_test_abnormal, X_test_normal, epoch)\n",
        "  \n",
        "  for i in range(1):\n",
        "      plt.subplot(1, 1, i+1)\n",
        "      plt.imshow(tf.squeeze(predictions[i]))\n",
        "      #plt.axis('off')\n",
        "\n",
        "      # discriminator_inference(X_test_abnormal, X_test_normal, epoch)\n",
        "      if epoch % 2 == 0:\n",
        "        pass\n",
        "        #discriminator_inference(X_test_abnormal, X_test_normal, epoch)\n",
        "        # plot_model_performance(ch_abnormal, ch_normal, ch_epoch)      \n",
        "         #plt.savefig('image_at_epoch_{:04d}.png'.format(epoch))\n",
        "  plt.show()"
      ],
      "execution_count": null,
      "outputs": []
    },
    {
      "cell_type": "code",
      "metadata": {
        "id": "Z3B269zHqTXN"
      },
      "source": [
        "from IPython.display import Image\n",
        "#Image(filename='image_at_epoch_0060.png') "
      ],
      "execution_count": null,
      "outputs": []
    },
    {
      "cell_type": "code",
      "metadata": {
        "id": "GXCpnJUAL7tV",
        "colab": {
          "base_uri": "https://localhost:8080/"
        },
        "outputId": "b8f67717-bbd1-4641-c2db-a670498cac52"
      },
      "source": [
        "type(train_normal_dataset)"
      ],
      "execution_count": null,
      "outputs": [
        {
          "output_type": "execute_result",
          "data": {
            "text/plain": [
              "tensorflow.python.data.ops.dataset_ops.BatchDataset"
            ]
          },
          "metadata": {
            "tags": []
          },
          "execution_count": 91
        }
      ]
    },
    {
      "cell_type": "code",
      "metadata": {
        "id": "uU8vILfOqTXO",
        "colab": {
          "base_uri": "https://localhost:8080/",
          "height": 1000
        },
        "outputId": "a3adafb0-e8e4-4612-bce3-6a8ff4a14725"
      },
      "source": [
        "%%time\n",
        "train(train_normal_dataset, EPOCHS)"
      ],
      "execution_count": null,
      "outputs": [
        {
          "output_type": "stream",
          "text": [
            "No of predictions: 1\n",
            "Abnormal-count     Normal-count\n",
            "Abnormal correct count:  0\n",
            "Normal correct count:  100\n"
          ],
          "name": "stdout"
        },
        {
          "output_type": "display_data",
          "data": {
            "image/png": "[encoded data removed]",
            "text/plain": [
              "<Figure size 10800x10800 with 1 Axes>"
            ]
          },
          "metadata": {
            "tags": [],
            "needs_background": "light"
          }
        },
        {
          "output_type": "stream",
          "text": [
            "CPU times: user 20min 22s, sys: 9.07 s, total: 20min 31s\n",
            "Wall time: 20min 24s\n"
          ],
          "name": "stdout"
        }
      ]
    },
    {
      "cell_type": "code",
      "metadata": {
        "id": "V1KtwqNmqTXO",
        "colab": {
          "base_uri": "https://localhost:8080/"
        },
        "outputId": "8f052443-fc97-49bc-e314-044a974a63b8"
      },
      "source": [
        "checkpoint.restore(tf.train.latest_checkpoint(checkpoint_dir))"
      ],
      "execution_count": null,
      "outputs": [
        {
          "output_type": "execute_result",
          "data": {
            "text/plain": [
              "<tensorflow.python.training.tracking.util.CheckpointLoadStatus at 0x7f2bc2abfd90>"
            ]
          },
          "metadata": {
            "tags": []
          },
          "execution_count": 93
        }
      ]
    },
    {
      "cell_type": "code",
      "metadata": {
        "id": "ThrOF6wxqTXO",
        "colab": {
          "base_uri": "https://localhost:8080/"
        },
        "outputId": "f7c30de3-a0ab-4846-d284-140b40392910"
      },
      "source": [
        "!ls ../"
      ],
      "execution_count": null,
      "outputs": [
        {
          "output_type": "stream",
          "text": [
            "1616124476  1616296787\t1616551037  1616765504\t1616898446\n",
            "1616124794  1616296819\t1616591160  1616765603\tabnormal_frames\n",
            "1616124815  1616297787\t1616591315  1616781796\tdisc_model\n",
            "1616124882  1616298536\t1616591772  1616782588\tdiscriminator.h5\n",
            "1616124989  1616304751\t1616605774  1616810533\tdiscriminator_plot.png\n",
            "1616125147  1616475016\t1616605888  1616878575\tencoder_generator.h5\n",
            "1616125433  1616475255\t1616640147  1616878654\tgen_model\n",
            "1616127054  1616475352\t1616640545  1616878794\timage_at_epoch_0002.png\n",
            "1616127125  1616475461\t1616642093  1616878839\timage_at_epoch_10000.png\n",
            "1616127177  1616480691\t1616642238  1616889958\timage_at_epoch_1000.png\n",
            "1616127243  1616523430\t1616645184  1616890050\timage_at_epoch_2000.png\n",
            "1616127285  1616523453\t1616699750  1616891352\timage_at_epoch_3000.png\n",
            "1616142632  1616523645\t1616699771  1616891423\timage_at_epoch_4000.png\n",
            "1616164453  1616523825\t1616723456  1616891626\timage_at_epoch_5000.png\n",
            "1616164676  1616524089\t1616723547  1616891633\timage_at_epoch_6000.png\n",
            "1616168785  1616524346\t1616727559  1616891712\timage_at_epoch_7000.png\n",
            "1616171545  1616527431\t1616727618  1616891806\timage_at_epoch_8000.png\n",
            "1616254021  1616527456\t1616727684  1616895057\timage_at_epoch_9000.png\n",
            "1616254241  1616528961\t1616727792  1616895133\tnormal_frames\n",
            "1616255984  1616529492\t1616728040  1616895178\ttraining_checkpoints\n",
            "1616256105  1616545149\t1616765460  1616898030\n"
          ],
          "name": "stdout"
        }
      ]
    },
    {
      "cell_type": "markdown",
      "metadata": {
        "id": "Q5Pol3l_O5ma"
      },
      "source": [
        "## Inferencing Discriminator on X_test ##"
      ]
    },
    {
      "cell_type": "code",
      "metadata": {
        "id": "qBsAAeCRZISM"
      },
      "source": [
        ""
      ],
      "execution_count": null,
      "outputs": []
    },
    {
      "cell_type": "code",
      "metadata": {
        "id": "2mrlYSlXZIYM"
      },
      "source": [
        ""
      ],
      "execution_count": null,
      "outputs": []
    },
    {
      "cell_type": "code",
      "metadata": {
        "id": "mDoDkereTLre"
      },
      "source": [
        ""
      ],
      "execution_count": null,
      "outputs": []
    },
    {
      "cell_type": "code",
      "metadata": {
        "id": "NN8jt3PLaOyJ"
      },
      "source": [
        "def plot_model_performance(ch_abnormal, ch_normal, ch_epoch):\n",
        "  \"\"\" the function plots abnormal and normal model performance at varying epochs\"\"\"\n",
        "  plt.title('Model performance on test data')\n",
        "  plt.xlabel('epochs')\n",
        "  plt.ylabel('samples correctly classified')\n",
        "  plt.plot(ch_epoch, ch_abnormal, label='Abnormal')\n",
        "  plt.plot(ch_epoch, ch_normal, label='Normal')\n",
        "  plt.legend()\n",
        "  plt.grid()\n",
        "  plt.show()"
      ],
      "execution_count": null,
      "outputs": []
    },
    {
      "cell_type": "code",
      "metadata": {
        "id": "E7aLC6RPaO2K"
      },
      "source": [
        ""
      ],
      "execution_count": null,
      "outputs": []
    },
    {
      "cell_type": "code",
      "metadata": {
        "id": "liyUN2FRgmuZ",
        "colab": {
          "base_uri": "https://localhost:8080/",
          "height": 295
        },
        "outputId": "5dbc2cc0-1e0d-4a9c-c254-4df76dda3762"
      },
      "source": [
        "plot_model_performance(chart_abnormal, chart_normal, chart_epoch)"
      ],
      "execution_count": null,
      "outputs": [
        {
          "output_type": "display_data",
          "data": {
            "image/png": "[encoded data removed]",
            "text/plain": [
              "<Figure size 432x288 with 1 Axes>"
            ]
          },
          "metadata": {
            "tags": [],
            "needs_background": "light"
          }
        }
      ]
    },
    {
      "cell_type": "code",
      "metadata": {
        "id": "nm00hQ0Bgm0N",
        "colab": {
          "base_uri": "https://localhost:8080/"
        },
        "outputId": "76ef5efc-c81c-4ae8-c650-abaed123502f"
      },
      "source": [
        " print(chart_abnormal)\n",
        "  "
      ],
      "execution_count": null,
      "outputs": [
        {
          "output_type": "stream",
          "text": [
            "[0, 0, 0, 0, 0, 0, 0, 0, 0, 0, 0, 0, 0, 0, 0, 0, 0, 0, 0, 0, 0, 0, 0, 0, 0, 0, 0, 0, 0, 0, 0, 0, 0, 0, 0, 0, 0, 0, 0, 0, 0, 0, 0, 0, 0, 0, 0, 0, 0, 0, 0, 0, 0, 0, 0, 0, 0, 0, 0, 0, 0, 0, 0, 0, 0, 0, 0, 0, 0, 0, 0, 0, 0, 0, 0, 0, 0, 0, 0, 0, 0, 0, 0, 0, 0, 0, 0, 0, 0, 0, 0, 0, 0, 0, 0, 0, 0, 0, 0, 0, 0]\n"
          ],
          "name": "stdout"
        }
      ]
    },
    {
      "cell_type": "code",
      "metadata": {
        "id": "pLrolxcurDWy",
        "colab": {
          "base_uri": "https://localhost:8080/"
        },
        "outputId": "50c1bd7c-30ce-4dff-a4ca-9cd911e7374a"
      },
      "source": [
        "print(chart_normal)\n"
      ],
      "execution_count": null,
      "outputs": [
        {
          "output_type": "stream",
          "text": [
            "[100, 100, 100, 100, 100, 100, 100, 100, 100, 100, 100, 100, 100, 100, 100, 100, 100, 100, 100, 100, 100, 100, 100, 100, 100, 100, 100, 100, 100, 100, 100, 100, 100, 100, 100, 100, 100, 100, 100, 100, 100, 100, 100, 100, 100, 100, 100, 100, 100, 100, 100, 100, 100, 100, 100, 100, 100, 100, 100, 100, 100, 100, 100, 100, 100, 100, 100, 100, 100, 100, 100, 100, 100, 100, 100, 100, 100, 100, 100, 100, 100, 100, 100, 100, 100, 100, 100, 100, 100, 100, 100, 100, 100, 100, 100, 100, 100, 100, 100, 100, 100]\n"
          ],
          "name": "stdout"
        }
      ]
    },
    {
      "cell_type": "code",
      "metadata": {
        "id": "fDaAyZI4rDa7",
        "colab": {
          "base_uri": "https://localhost:8080/"
        },
        "outputId": "6e426699-e1ee-4760-9d3c-6ef149aae566"
      },
      "source": [
        "print(chart_epoch)"
      ],
      "execution_count": null,
      "outputs": [
        {
          "output_type": "stream",
          "text": [
            "[1, 2, 3, 4, 5, 6, 7, 8, 9, 10, 11, 12, 13, 14, 15, 16, 17, 18, 19, 20, 21, 22, 23, 24, 25, 26, 27, 28, 29, 30, 31, 32, 33, 34, 35, 36, 37, 38, 39, 40, 41, 42, 43, 44, 45, 46, 47, 48, 49, 50, 51, 52, 53, 54, 55, 56, 57, 58, 59, 60, 61, 62, 63, 64, 65, 66, 67, 68, 69, 70, 71, 72, 73, 74, 75, 76, 77, 78, 79, 80, 81, 82, 83, 84, 85, 86, 87, 88, 89, 90, 91, 92, 93, 94, 95, 96, 97, 98, 99, 100, 100]\n"
          ],
          "name": "stdout"
        }
      ]
    },
    {
      "cell_type": "code",
      "metadata": {
        "id": "IPJErxl2rDen"
      },
      "source": [
        ""
      ],
      "execution_count": null,
      "outputs": []
    },
    {
      "cell_type": "code",
      "metadata": {
        "id": "EsT9Gdi-I39f"
      },
      "source": [
        "ch_majority = chart_normal\n",
        "ch_minority = chart_abnormal"
      ],
      "execution_count": null,
      "outputs": []
    },
    {
      "cell_type": "code",
      "metadata": {
        "id": "fOLHHjgQInnt"
      },
      "source": [
        "ch_epoch = chart_epoch"
      ],
      "execution_count": null,
      "outputs": []
    },
    {
      "cell_type": "code",
      "metadata": {
        "id": "w6ISpyVkIn7a"
      },
      "source": [
        ""
      ],
      "execution_count": null,
      "outputs": []
    },
    {
      "cell_type": "code",
      "metadata": {
        "id": "AdQukmPgEP3_",
        "colab": {
          "base_uri": "https://localhost:8080/",
          "height": 248
        },
        "outputId": "ffce45fb-1f14-4b0f-dbad-166cc6e88921"
      },
      "source": [
        "# print(f'EPOCH{\"PRECISION\":>12}{\"RECALL\":>7}{\"F1-SCORE\":>9}')\n",
        "print(f'EPOCH{\"PRECISION\":>12}{\"RECALL\":>7}{\"F1-SCORE\":>9}')\n",
        "\n",
        "precision_list = []\n",
        "recall_list = []\n",
        "f1_score_list = []\n",
        "\n",
        "\n",
        "epoch = 0\n",
        "while epoch < len(ch_minority):\n",
        "  true_positive = ch_minority[epoch]\n",
        "  true_negative = ch_majority[epoch]\n",
        "\n",
        "  false_positive = 100 - true_negative\n",
        "  false_negative = 100 - true_positive\n",
        "\n",
        "  \n",
        "  precision = true_positive / (true_positive + false_positive)\n",
        "  recall = true_positive / (true_positive + false_negative)\n",
        "\n",
        "  f1_score = 2 * ((precision * recall) / (precision + recall))\n",
        "  precision_list.append(round(precision,2))\n",
        "  recall_list.append(round(recall, 2))\n",
        "  f1_score_list.append(round(f1_score, 2))\n",
        "\n",
        "  # print(f'{epoch+1:>5}{precision:.2f>14}{recall:.2f>9}{f1_score:.2f>11}')\n",
        "  print(f'{epoch+1:>5}  {precision:.2f}  {recall:.2f}  {f1_score:.2f}')\n",
        "  epoch += 1"
      ],
      "execution_count": null,
      "outputs": [
        {
          "output_type": "stream",
          "text": [
            "EPOCH   PRECISION RECALL F1-SCORE\n"
          ],
          "name": "stdout"
        },
        {
          "output_type": "error",
          "ename": "ZeroDivisionError",
          "evalue": "ignored",
          "traceback": [
            "\u001b[0;31m---------------------------------------------------------------------------\u001b[0m",
            "\u001b[0;31mZeroDivisionError\u001b[0m                         Traceback (most recent call last)",
            "\u001b[0;32m<ipython-input-102-e8cf2e8c9c3d>\u001b[0m in \u001b[0;36m<module>\u001b[0;34m()\u001b[0m\n\u001b[1;32m     15\u001b[0m   \u001b[0mfalse_negative\u001b[0m \u001b[0;34m=\u001b[0m \u001b[0;36m100\u001b[0m \u001b[0;34m-\u001b[0m \u001b[0mtrue_positive\u001b[0m\u001b[0;34m\u001b[0m\u001b[0;34m\u001b[0m\u001b[0m\n\u001b[1;32m     16\u001b[0m \u001b[0;34m\u001b[0m\u001b[0m\n\u001b[0;32m---> 17\u001b[0;31m   \u001b[0mprecision\u001b[0m \u001b[0;34m=\u001b[0m \u001b[0mtrue_positive\u001b[0m \u001b[0;34m/\u001b[0m \u001b[0;34m(\u001b[0m\u001b[0mtrue_positive\u001b[0m \u001b[0;34m+\u001b[0m \u001b[0mfalse_positive\u001b[0m\u001b[0;34m)\u001b[0m\u001b[0;34m\u001b[0m\u001b[0;34m\u001b[0m\u001b[0m\n\u001b[0m\u001b[1;32m     18\u001b[0m   \u001b[0mrecall\u001b[0m \u001b[0;34m=\u001b[0m \u001b[0mtrue_positive\u001b[0m \u001b[0;34m/\u001b[0m \u001b[0;34m(\u001b[0m\u001b[0mtrue_positive\u001b[0m \u001b[0;34m+\u001b[0m \u001b[0mfalse_negative\u001b[0m\u001b[0;34m)\u001b[0m\u001b[0;34m\u001b[0m\u001b[0;34m\u001b[0m\u001b[0m\n\u001b[1;32m     19\u001b[0m \u001b[0;34m\u001b[0m\u001b[0m\n",
            "\u001b[0;31mZeroDivisionError\u001b[0m: division by zero"
          ]
        }
      ]
    },
    {
      "cell_type": "code",
      "metadata": {
        "id": "Y1bAYKGwEP7z"
      },
      "source": [
        "plt.title('Model performance on CIFAR100 test data - imbalance ratio 1:50')\n",
        "plt.xlabel('epochs')\n",
        "plt.ylabel('samples correctly classified')\n",
        "plt.plot(ch_epoch, precision_list, label='Precision')\n",
        "plt.plot(ch_epoch, recall_list, label='Recall')\n",
        "plt.plot(ch_epoch, f1_score_list, label='F1-Score')\n",
        "plt.legend()\n",
        "plt.grid()\n",
        "plt.show()"
      ],
      "execution_count": null,
      "outputs": []
    },
    {
      "cell_type": "code",
      "metadata": {
        "id": "DH9KCIJWEP_i"
      },
      "source": [
        "print(precision_list)\n"
      ],
      "execution_count": null,
      "outputs": []
    },
    {
      "cell_type": "code",
      "metadata": {
        "id": "RoIsXrBodWrv"
      },
      "source": [
        "print(recall_list)\n"
      ],
      "execution_count": null,
      "outputs": []
    },
    {
      "cell_type": "code",
      "metadata": {
        "id": "5dXGTT5CdWwh"
      },
      "source": [
        "print(f1_score_list)"
      ],
      "execution_count": null,
      "outputs": []
    },
    {
      "cell_type": "code",
      "metadata": {
        "id": "QNYG1bRnEQDN"
      },
      "source": [
        "max(f1_score_list)"
      ],
      "execution_count": null,
      "outputs": []
    },
    {
      "cell_type": "code",
      "metadata": {
        "id": "c2pK6mdxpZES"
      },
      "source": [
        "print(f'maximum F1-score of {max(f1_score_list)} obtained at epoch {1 + (f1_score_list.index(max(f1_score_list)))}')"
      ],
      "execution_count": null,
      "outputs": []
    },
    {
      "cell_type": "code",
      "metadata": {
        "id": "w48nm7Mjd5jg"
      },
      "source": [
        "max(recall_list)"
      ],
      "execution_count": null,
      "outputs": []
    },
    {
      "cell_type": "code",
      "metadata": {
        "id": "DVKeabvDpgQl"
      },
      "source": [
        "print(f'maximum recall of {max(recall_list)} obtained at epoch {1 + (recall_list.index(max(recall_list)))}')"
      ],
      "execution_count": null,
      "outputs": []
    },
    {
      "cell_type": "code",
      "metadata": {
        "id": "mBnoGVSgpkCw"
      },
      "source": [
        ""
      ],
      "execution_count": null,
      "outputs": []
    },
    {
      "cell_type": "code",
      "metadata": {
        "id": "jfJHUlDZeEMw"
      },
      "source": [
        "max(precision_list)"
      ],
      "execution_count": null,
      "outputs": []
    },
    {
      "cell_type": "code",
      "metadata": {
        "id": "_huQ3wa7d5oS"
      },
      "source": [
        "print(f'maximum precision of {max(precision_list)} obtained at epoch {1 + (precision_list.index(max(precision_list)))}')"
      ],
      "execution_count": null,
      "outputs": []
    },
    {
      "cell_type": "code",
      "metadata": {
        "id": "JMgWJRB0ptlx"
      },
      "source": [
        ""
      ],
      "execution_count": null,
      "outputs": []
    },
    {
      "cell_type": "code",
      "metadata": {
        "id": "HnjOP-2Xptqd"
      },
      "source": [
        ""
      ],
      "execution_count": null,
      "outputs": []
    },
    {
      "cell_type": "code",
      "metadata": {
        "id": "YVUdXKM2EQIJ"
      },
      "source": [
        ""
      ],
      "execution_count": null,
      "outputs": []
    },
    {
      "cell_type": "code",
      "metadata": {
        "id": "unSoyuiSH9CN"
      },
      "source": [
        "from matplotlib import pyplot as plt"
      ],
      "execution_count": null,
      "outputs": []
    },
    {
      "cell_type": "code",
      "metadata": {
        "id": "jlPRa1TSHm8K"
      },
      "source": [
        "def plot_model_performance(ch_minority, ch_majority, ch_epoch):\n",
        "  \"\"\" the function plots abnormal and normal model performance at varying epochs\"\"\"\n",
        "  plt.title('Model performance on test data - imbalance ratio 1:50')\n",
        "  plt.xlabel('epochs')\n",
        "  plt.ylabel('samples correctly classified')\n",
        "  plt.plot(ch_epoch[60:70], ch_minority[60:70], label='Minority class')\n",
        "  plt.plot(ch_epoch[60:70], ch_majority[60:70], label='Majority class')\n",
        "  plt.legend()\n",
        "  plt.grid()\n",
        "  plt.show()"
      ],
      "execution_count": null,
      "outputs": []
    },
    {
      "cell_type": "code",
      "metadata": {
        "id": "EKbtpu2VHnAP"
      },
      "source": [
        "plot_model_performance(ch_minority, ch_majority, ch_epoch)"
      ],
      "execution_count": null,
      "outputs": []
    },
    {
      "cell_type": "code",
      "metadata": {
        "id": "4gFdKI8YHnFC"
      },
      "source": [
        "i = 0\n",
        "while i < len(ch_minority):\n",
        "  if  0 <= abs(ch_minority[i] - ch_majority[i]) <= 0:\n",
        "    print(f'minority: {ch_minority[i]} majority: {ch_majority[i]} i: {i+1}')\n",
        "  i += 1"
      ],
      "execution_count": null,
      "outputs": []
    },
    {
      "cell_type": "code",
      "metadata": {
        "id": "9wwY78iIJyMn"
      },
      "source": [
        ""
      ],
      "execution_count": null,
      "outputs": []
    },
    {
      "cell_type": "code",
      "metadata": {
        "id": "vfkOum7lJyQl"
      },
      "source": [
        "i = 0\n",
        "while i < len(ch_minority):\n",
        "  if  0 <= abs(ch_minority[i] - ch_majority[i]) <= 5:\n",
        "    print(f'minority: {ch_minority[i]} majority: {ch_majority[i]} i: {i+1}')\n",
        "  i += 1"
      ],
      "execution_count": null,
      "outputs": []
    },
    {
      "cell_type": "code",
      "metadata": {
        "id": "4v73xTMcJyU5"
      },
      "source": [
        ""
      ],
      "execution_count": null,
      "outputs": []
    },
    {
      "cell_type": "code",
      "metadata": {
        "id": "S_OmM8ddJygH"
      },
      "source": [
        ""
      ],
      "execution_count": null,
      "outputs": []
    },
    {
      "cell_type": "code",
      "metadata": {
        "id": "Uu5jJZ1sHnI4"
      },
      "source": [
        "def plot_model_performance(ch_minority, ch_majority, ch_epoch):\n",
        "  \"\"\" the function plots abnormal and normal model performance at varying epochs\"\"\"\n",
        "  plt.title('Model performance on test data - imbalance ratio 1:50')\n",
        "  plt.xlabel('epochs')\n",
        "  plt.ylabel('samples correctly classified')\n",
        "  plt.plot(ch_epoch, ch_minority, label='Minority class')\n",
        "  plt.plot(ch_epoch, ch_majority, label='Majority class')\n",
        "  plt.legend()\n",
        "  plt.grid()\n",
        "  plt.show()"
      ],
      "execution_count": null,
      "outputs": []
    },
    {
      "cell_type": "code",
      "metadata": {
        "id": "cZWRYc-THeUM"
      },
      "source": [
        "plot_model_performance(ch_minority, ch_majority, ch_epoch)"
      ],
      "execution_count": null,
      "outputs": []
    },
    {
      "cell_type": "code",
      "metadata": {
        "id": "4ExCfzxfHeY4"
      },
      "source": [
        ""
      ],
      "execution_count": null,
      "outputs": []
    },
    {
      "cell_type": "code",
      "metadata": {
        "id": "aPDRNlnxHejb"
      },
      "source": [
        "ch_minority[63]"
      ],
      "execution_count": null,
      "outputs": []
    },
    {
      "cell_type": "code",
      "metadata": {
        "id": "qpeYnegiJBQO"
      },
      "source": [
        "ch_majority[63]"
      ],
      "execution_count": null,
      "outputs": []
    },
    {
      "cell_type": "code",
      "metadata": {
        "id": "L9ZMOCFaHelc"
      },
      "source": [
        "ch_minority[64]"
      ],
      "execution_count": null,
      "outputs": []
    },
    {
      "cell_type": "code",
      "metadata": {
        "id": "cDzShb-zJHW9"
      },
      "source": [
        "ch_majority[64]"
      ],
      "execution_count": null,
      "outputs": []
    },
    {
      "cell_type": "code",
      "metadata": {
        "id": "I0RWyvXxJHcH"
      },
      "source": [
        ""
      ],
      "execution_count": null,
      "outputs": []
    },
    {
      "cell_type": "code",
      "metadata": {
        "id": "87vUcFDBJHgV"
      },
      "source": [
        ""
      ],
      "execution_count": null,
      "outputs": []
    },
    {
      "cell_type": "code",
      "metadata": {
        "id": "v9qvKFrrJ5dt"
      },
      "source": [
        "tf.keras.utils.plot_model(discriminator)"
      ],
      "execution_count": null,
      "outputs": []
    },
    {
      "cell_type": "code",
      "metadata": {
        "id": "ngpbYYBjJ5i2"
      },
      "source": [
        "tf.keras.utils.plot_model(encoder_generator_network)"
      ],
      "execution_count": null,
      "outputs": []
    },
    {
      "cell_type": "code",
      "metadata": {
        "id": "6VD2mENPKQnR"
      },
      "source": [
        ""
      ],
      "execution_count": null,
      "outputs": []
    },
    {
      "cell_type": "code",
      "metadata": {
        "id": "zuIOkrvtLlLW"
      },
      "source": [
        "tf.keras.utils.plot_model(encoder_generator_network, show_shapes=True)"
      ],
      "execution_count": null,
      "outputs": []
    },
    {
      "cell_type": "code",
      "metadata": {
        "id": "YX-1RCgNKQrF"
      },
      "source": [
        "tf.keras.utils.plot_model(encoder_generator_network, show_shapes=True, rankdir='LR')"
      ],
      "execution_count": null,
      "outputs": []
    },
    {
      "cell_type": "code",
      "metadata": {
        "id": "BA9QBgg9J5lw"
      },
      "source": [
        "tf.keras.utils.plot_model(encoder_generator_network, rankdir='LR')"
      ],
      "execution_count": null,
      "outputs": []
    },
    {
      "cell_type": "code",
      "metadata": {
        "id": "VK6NpQSzXSkW"
      },
      "source": [
        "tf.keras.utils.plot_model(discriminator, show_shapes=True, rankdir='LR')"
      ],
      "execution_count": null,
      "outputs": []
    },
    {
      "cell_type": "code",
      "metadata": {
        "id": "Qbm_dS-IOmXN"
      },
      "source": [
        ""
      ],
      "execution_count": null,
      "outputs": []
    },
    {
      "cell_type": "code",
      "metadata": {
        "id": "puU4i4QMYohY"
      },
      "source": [
        ""
      ],
      "execution_count": null,
      "outputs": []
    },
    {
      "cell_type": "code",
      "metadata": {
        "id": "TMRVhjIeYomT"
      },
      "source": [
        ""
      ],
      "execution_count": null,
      "outputs": []
    },
    {
      "cell_type": "markdown",
      "metadata": {
        "id": "0X7Hv7OmFWzI"
      },
      "source": [
        "## Averaging the folds ##"
      ]
    },
    {
      "cell_type": "code",
      "metadata": {
        "id": "d16A2vxUI0ka"
      },
      "source": [
        "import numpy as np"
      ],
      "execution_count": null,
      "outputs": []
    },
    {
      "cell_type": "code",
      "metadata": {
        "id": "a6iUP0NAQYBj"
      },
      "source": [
        "precision_list_fold1 = [0.21, 0.18, 0.15, 0.15, 0.15, 0.14, 0.14, 0.15, 0.16, 0.18, 0.16, 0.12, 0.12, 0.12, 0.12, 0.12, 0.13, 0.13, 0.13, 0.13, 0.12, 0.12, 0.15, 0.15, 0.15, 0.15, 0.15, 0.15, 0.15, 0.15, 0.12, 0.12, 0.12, 0.15, 0.21, 0.23, 0.23, 0.26, 0.31, 0.3, 0.4, 0.44, 0.5, 0.54, 0.58, 0.59, 0.58, 0.59, 0.61, 0.63, 0.64, 0.64, 0.64, 0.64, 0.65, 0.65, 0.65, 0.64, 0.64, 0.63, 0.65, 0.65, 0.65, 0.65, 0.64, 0.63, 0.62, 0.62, 0.61, 0.61, 0.6, 0.59, 0.6, 0.59, 0.58, 0.58, 0.57, 0.57, 0.57, 0.57, 0.56, 0.56, 0.56, 0.57, 0.57, 0.58, 0.57, 0.58, 0.58, 0.59, 0.6, 0.6, 0.6, 0.59, 0.59, 0.58, 0.58, 0.57, 0.56, 0.56, 0.56]"
      ],
      "execution_count": null,
      "outputs": []
    },
    {
      "cell_type": "code",
      "metadata": {
        "id": "yYYOmWqoRQJF"
      },
      "source": [
        "precision_list_fold2 = [0.69, 0.72, 0.75, 0.76, 0.76, 0.77, 0.78, 0.77, 0.78, 0.77, 0.76, 0.78, 0.77, 0.76, 0.76, 0.79, 0.78, 0.77, 0.74, 0.7, 0.7, 0.7, 0.71, 0.64, 0.63, 0.64, 0.65, 0.61, 0.61, 0.6, 0.61, 0.58, 0.57, 0.57, 0.58, 0.59, 0.59, 0.6, 0.61, 0.61, 0.62, 0.61, 0.61, 0.62, 0.62, 0.62, 0.63, 0.64, 0.64, 0.64, 0.65, 0.65, 0.64, 0.64, 0.65, 0.65, 0.65, 0.65, 0.66, 0.66, 0.67, 0.66, 0.67, 0.67, 0.67, 0.66, 0.66, 0.66, 0.65, 0.65, 0.64, 0.64, 0.65, 0.65, 0.65, 0.64, 0.64, 0.63, 0.63, 0.63, 0.63, 0.63, 0.63, 0.62, 0.63, 0.63, 0.64, 0.63, 0.64, 0.64, 0.64, 0.62, 0.62, 0.61, 0.61, 0.61, 0.61, 0.61, 0.61, 0.61, 0.61]"
      ],
      "execution_count": null,
      "outputs": []
    },
    {
      "cell_type": "code",
      "metadata": {
        "id": "6xTcCQmnQYIO"
      },
      "source": [
        "precision_list_fold3 = [0.65, 0.69, 0.72, 0.74, 0.76, 0.81, 0.84, 0.85, 0.85, 0.85, 0.87, 0.86, 0.88, 0.87, 0.86, 0.86, 0.86, 0.88, 0.87, 0.86, 0.86, 0.89, 0.89, 0.89, 0.89, 0.89, 0.89, 0.89, 0.9, 0.9, 0.9, 0.88, 0.89, 0.87, 0.88, 0.88, 0.88, 0.88, 0.88, 0.88, 0.9, 0.9, 0.9, 0.91, 0.89, 0.89, 0.9, 0.9, 0.9, 0.9, 0.9, 0.9, 0.88, 0.86, 0.84, 0.84, 0.84, 0.84, 0.83, 0.83, 0.84, 0.83, 0.83, 0.84, 0.83, 0.83, 0.81, 0.79, 0.78, 0.78, 0.77, 0.76, 0.76, 0.76, 0.75, 0.75, 0.74, 0.74, 0.73, 0.72, 0.7, 0.67, 0.67, 0.67, 0.67, 0.68, 0.69, 0.68, 0.68, 0.68, 0.69, 0.69, 0.7, 0.71, 0.71, 0.71, 0.7, 0.7, 0.7, 0.7, 0.7]"
      ],
      "execution_count": null,
      "outputs": []
    },
    {
      "cell_type": "code",
      "metadata": {
        "id": "RIOVHZ8vRz5N"
      },
      "source": [
        "precision_list_fold4 = [0.33, 0.22, 0.22, 0.22, 0.29, 0.29, 0.38, 0.33, 0.38, 0.38, 0.36, 0.36, 0.33, 0.31, 0.35, 0.39, 0.37, 0.37, 0.45, 0.45, 0.45, 0.48, 0.48, 0.46, 0.5, 0.43, 0.48, 0.53, 0.56, 0.56, 0.56, 0.57, 0.56, 0.58, 0.56, 0.56, 0.58, 0.59, 0.58, 0.59, 0.59, 0.59, 0.61, 0.63, 0.63, 0.62, 0.6, 0.58, 0.6, 0.57, 0.55, 0.56, 0.57, 0.57, 0.56, 0.56, 0.55, 0.55, 0.54, 0.55, 0.55, 0.54, 0.55, 0.55, 0.56, 0.56, 0.56, 0.56, 0.56, 0.55, 0.55, 0.55, 0.56, 0.55, 0.56, 0.58, 0.6, 0.59, 0.59, 0.59, 0.59, 0.59, 0.59, 0.58, 0.58, 0.58, 0.59, 0.59, 0.58, 0.58, 0.58, 0.57, 0.57, 0.57, 0.57, 0.57, 0.57, 0.57, 0.56, 0.56, 0.56]"
      ],
      "execution_count": null,
      "outputs": []
    },
    {
      "cell_type": "code",
      "metadata": {
        "id": "XdjknIf5Rz95"
      },
      "source": [
        "precision_list_fold5 = [0.45, 0.46, 0.62, 0.57, 0.57, 0.67, 0.57, 0.5, 0.5, 0.5, 0.56, 0.58, 0.5, 0.53, 0.56, 0.5, 0.55, 0.6, 0.6, 0.63, 0.7, 0.72, 0.78, 0.81, 0.81, 0.83, 0.83, 0.82, 0.82, 0.83, 0.83, 0.83, 0.82, 0.82, 0.8, 0.8, 0.81, 0.82, 0.78, 0.75, 0.75, 0.76, 0.76, 0.77, 0.77, 0.76, 0.76, 0.75, 0.74, 0.74, 0.75, 0.75, 0.73, 0.73, 0.71, 0.71, 0.7, 0.71, 0.68, 0.68, 0.69, 0.68, 0.69, 0.67, 0.66, 0.66, 0.66, 0.66, 0.66, 0.65, 0.64, 0.64, 0.64, 0.65, 0.64, 0.64, 0.65, 0.65, 0.65, 0.65, 0.65, 0.63, 0.63, 0.63, 0.63, 0.62, 0.62, 0.61, 0.62, 0.62, 0.62, 0.62, 0.61, 0.61, 0.61, 0.61, 0.61, 0.61, 0.61, 0.6, 0.6]"
      ],
      "execution_count": null,
      "outputs": []
    },
    {
      "cell_type": "code",
      "metadata": {
        "id": "BzYxqsFpR0Ei"
      },
      "source": [
        ""
      ],
      "execution_count": null,
      "outputs": []
    },
    {
      "cell_type": "code",
      "metadata": {
        "id": "K0YKiBU0R0TM"
      },
      "source": [
        ""
      ],
      "execution_count": null,
      "outputs": []
    },
    {
      "cell_type": "code",
      "metadata": {
        "id": "EPihBdcpFVq5"
      },
      "source": [
        "\n",
        "precision_list_allfold = [a + b + c + d + e for a, b, c, d, e in zip(precision_list_fold1, precision_list_fold2, precision_list_fold3, precision_list_fold4, precision_list_fold5)]\n",
        "\n",
        "precision_list_allfold_np = np.array(precision_list_allfold) / 5\n",
        "\n"
      ],
      "execution_count": null,
      "outputs": []
    },
    {
      "cell_type": "code",
      "metadata": {
        "id": "NDibIrYaMPTD"
      },
      "source": [
        "type(precision_list_allfold_np)"
      ],
      "execution_count": null,
      "outputs": []
    },
    {
      "cell_type": "code",
      "metadata": {
        "id": "iwrCifZmMver"
      },
      "source": [
        "pr_list_allfold = precision_list_allfold_np.tolist()"
      ],
      "execution_count": null,
      "outputs": []
    },
    {
      "cell_type": "code",
      "metadata": {
        "id": "_8cshd8UMPXn"
      },
      "source": [
        ""
      ],
      "execution_count": null,
      "outputs": []
    },
    {
      "cell_type": "code",
      "metadata": {
        "id": "DiZXMUGJSSal"
      },
      "source": [
        ""
      ],
      "execution_count": null,
      "outputs": []
    },
    {
      "cell_type": "code",
      "metadata": {
        "id": "lmYwTF7eSSgI"
      },
      "source": [
        "recall_list_fold1 = [0.22, 0.17, 0.13, 0.12, 0.1, 0.08, 0.07, 0.07, 0.07, 0.07, 0.05, 0.03, 0.03, 0.03, 0.03, 0.03, 0.03, 0.03, 0.03, 0.03, 0.03, 0.03, 0.04, 0.04, 0.04, 0.04, 0.04, 0.04, 0.04, 0.04, 0.03, 0.03, 0.03, 0.04, 0.06, 0.07, 0.07, 0.09, 0.11, 0.11, 0.19, 0.22, 0.29, 0.35, 0.41, 0.51, 0.54, 0.58, 0.62, 0.64, 0.68, 0.68, 0.68, 0.65, 0.64, 0.62, 0.62, 0.61, 0.63, 0.64, 0.66, 0.67, 0.67, 0.66, 0.65, 0.63, 0.63, 0.63, 0.62, 0.62, 0.61, 0.57, 0.56, 0.54, 0.52, 0.53, 0.53, 0.52, 0.52, 0.52, 0.53, 0.54, 0.54, 0.55, 0.55, 0.55, 0.53, 0.56, 0.58, 0.61, 0.64, 0.65, 0.68, 0.69, 0.7, 0.7, 0.7, 0.7, 0.7, 0.68, 0.68]"
      ],
      "execution_count": null,
      "outputs": []
    },
    {
      "cell_type": "code",
      "metadata": {
        "id": "r7v_IPOASaZX"
      },
      "source": [
        "recall_list_fold2 = [0.72, 0.7, 0.62, 0.56, 0.54, 0.49, 0.46, 0.43, 0.4, 0.37, 0.34, 0.31, 0.3, 0.29, 0.28, 0.26, 0.25, 0.24, 0.23, 0.21, 0.21, 0.23, 0.24, 0.25, 0.27, 0.3, 0.34, 0.38, 0.41, 0.44, 0.47, 0.49, 0.49, 0.52, 0.54, 0.55, 0.57, 0.6, 0.62, 0.63, 0.67, 0.69, 0.73, 0.76, 0.77, 0.8, 0.83, 0.82, 0.82, 0.81, 0.81, 0.8, 0.8, 0.8, 0.8, 0.8, 0.81, 0.83, 0.83, 0.85, 0.85, 0.84, 0.84, 0.83, 0.82, 0.82, 0.82, 0.82, 0.86, 0.86, 0.87, 0.87, 0.88, 0.88, 0.88, 0.89, 0.91, 0.92, 0.94, 0.94, 0.94, 0.94, 0.95, 0.95, 0.95, 0.95, 0.95, 0.95, 0.95, 0.94, 0.94, 0.94, 0.95, 0.95, 0.95, 0.94, 0.94, 0.94, 0.92, 0.92, 0.92]"
      ],
      "execution_count": null,
      "outputs": []
    },
    {
      "cell_type": "code",
      "metadata": {
        "id": "sf2dI5wqSaec"
      },
      "source": [
        "recall_list_fold3 = [0.96, 0.94, 0.88, 0.87, 0.81, 0.77, 0.73, 0.66, 0.66, 0.62, 0.58, 0.54, 0.5, 0.47, 0.44, 0.42, 0.38, 0.37, 0.34, 0.32, 0.31, 0.31, 0.34, 0.34, 0.34, 0.34, 0.34, 0.34, 0.35, 0.36, 0.37, 0.37, 0.39, 0.41, 0.44, 0.45, 0.46, 0.51, 0.53, 0.53, 0.55, 0.57, 0.57, 0.58, 0.58, 0.59, 0.61, 0.61, 0.62, 0.62, 0.64, 0.65, 0.66, 0.66, 0.68, 0.71, 0.76, 0.77, 0.77, 0.77, 0.76, 0.75, 0.75, 0.74, 0.73, 0.73, 0.73, 0.71, 0.69, 0.69, 0.69, 0.68, 0.66, 0.65, 0.64, 0.63, 0.61, 0.6, 0.59, 0.58, 0.54, 0.53, 0.52, 0.52, 0.52, 0.52, 0.53, 0.53, 0.54, 0.56, 0.58, 0.61, 0.66, 0.67, 0.7, 0.72, 0.72, 0.76, 0.77, 0.78, 0.78]"
      ],
      "execution_count": null,
      "outputs": []
    },
    {
      "cell_type": "code",
      "metadata": {
        "id": "JixARaP0SajM"
      },
      "source": [
        "recall_list_fold4 = [0.04, 0.02, 0.02, 0.02, 0.02, 0.02, 0.03, 0.03, 0.05, 0.05, 0.05, 0.05, 0.05, 0.05, 0.06, 0.07, 0.07, 0.07, 0.09, 0.1, 0.1, 0.11, 0.11, 0.11, 0.13, 0.13, 0.15, 0.18, 0.2, 0.2, 0.2, 0.21, 0.22, 0.22, 0.22, 0.22, 0.25, 0.26, 0.28, 0.29, 0.29, 0.3, 0.31, 0.32, 0.32, 0.34, 0.35, 0.36, 0.4, 0.4, 0.41, 0.41, 0.44, 0.45, 0.46, 0.47, 0.48, 0.48, 0.49, 0.49, 0.49, 0.49, 0.49, 0.49, 0.49, 0.49, 0.5, 0.5, 0.5, 0.51, 0.53, 0.55, 0.58, 0.58, 0.63, 0.7, 0.77, 0.8, 0.83, 0.86, 0.87, 0.88, 0.89, 0.9, 0.92, 0.93, 0.95, 0.95, 0.95, 0.97, 0.97, 0.97, 0.97, 0.97, 0.98, 0.98, 0.99, 1.0, 1.0, 1.0, 1.0]"
      ],
      "execution_count": null,
      "outputs": []
    },
    {
      "cell_type": "code",
      "metadata": {
        "id": "6ktjvLNhSq8D"
      },
      "source": [
        "recall_list_fold5 = [0.09, 0.06, 0.05, 0.04, 0.04, 0.04, 0.04, 0.03, 0.03, 0.04, 0.05, 0.07, 0.07, 0.09, 0.1, 0.1, 0.12, 0.15, 0.15, 0.17, 0.19, 0.21, 0.25, 0.25, 0.26, 0.3, 0.3, 0.33, 0.37, 0.38, 0.39, 0.4, 0.42, 0.45, 0.45, 0.45, 0.46, 0.49, 0.47, 0.48, 0.49, 0.51, 0.51, 0.54, 0.57, 0.59, 0.59, 0.6, 0.6, 0.61, 0.62, 0.63, 0.64, 0.65, 0.65, 0.64, 0.66, 0.67, 0.67, 0.67, 0.67, 0.67, 0.69, 0.7, 0.71, 0.76, 0.77, 0.79, 0.81, 0.81, 0.82, 0.82, 0.82, 0.82, 0.82, 0.83, 0.83, 0.82, 0.82, 0.83, 0.83, 0.83, 0.83, 0.83, 0.83, 0.84, 0.84, 0.84, 0.86, 0.88, 0.88, 0.88, 0.87, 0.87, 0.88, 0.88, 0.88, 0.88, 0.88, 0.86, 0.86]"
      ],
      "execution_count": null,
      "outputs": []
    },
    {
      "cell_type": "code",
      "metadata": {
        "id": "PIT_JR4RSrBo"
      },
      "source": [
        ""
      ],
      "execution_count": null,
      "outputs": []
    },
    {
      "cell_type": "code",
      "metadata": {
        "id": "CqBUcqVkL8Lv"
      },
      "source": [
        ""
      ],
      "execution_count": null,
      "outputs": []
    },
    {
      "cell_type": "code",
      "metadata": {
        "id": "H4ClEGQoFVvh"
      },
      "source": [
        "\n",
        "recall_list_allfold = [a + b + c + d + e for a, b, c, d, e in zip(recall_list_fold1, recall_list_fold2, recall_list_fold3, recall_list_fold4, recall_list_fold5)]\n",
        "\n",
        "recall_list_allfold_np = np.array(recall_list_allfold) / 5\n",
        "\n",
        "rc_list_allfold = recall_list_allfold_np.tolist()\n"
      ],
      "execution_count": null,
      "outputs": []
    },
    {
      "cell_type": "code",
      "metadata": {
        "id": "ceHDsHToTG4I"
      },
      "source": [
        ""
      ],
      "execution_count": null,
      "outputs": []
    },
    {
      "cell_type": "code",
      "metadata": {
        "id": "OUPooogHTG9h"
      },
      "source": [
        "f1_score_list_fold1 = [0.21, 0.18, 0.14, 0.13, 0.12, 0.1, 0.09, 0.1, 0.1, 0.1, 0.08, 0.05, 0.05, 0.05, 0.05, 0.05, 0.05, 0.05, 0.05, 0.05, 0.05, 0.05, 0.06, 0.06, 0.06, 0.06, 0.06, 0.06, 0.06, 0.06, 0.05, 0.05, 0.05, 0.06, 0.09, 0.11, 0.11, 0.13, 0.16, 0.16, 0.26, 0.29, 0.37, 0.42, 0.48, 0.55, 0.56, 0.59, 0.61, 0.63, 0.66, 0.66, 0.66, 0.65, 0.65, 0.63, 0.63, 0.62, 0.63, 0.64, 0.65, 0.66, 0.66, 0.65, 0.65, 0.63, 0.63, 0.62, 0.61, 0.62, 0.61, 0.58, 0.58, 0.56, 0.55, 0.55, 0.55, 0.54, 0.54, 0.54, 0.55, 0.55, 0.55, 0.56, 0.56, 0.56, 0.55, 0.57, 0.58, 0.6, 0.62, 0.62, 0.64, 0.64, 0.64, 0.64, 0.63, 0.63, 0.62, 0.61, 0.61]"
      ],
      "execution_count": null,
      "outputs": []
    },
    {
      "cell_type": "code",
      "metadata": {
        "id": "PrkVif_LTHCC"
      },
      "source": [
        "f1_score_list_fold2 = [0.7, 0.71, 0.68, 0.64, 0.63, 0.6, 0.58, 0.55, 0.53, 0.5, 0.47, 0.44, 0.43, 0.42, 0.41, 0.39, 0.38, 0.37, 0.35, 0.32, 0.32, 0.35, 0.36, 0.36, 0.38, 0.41, 0.45, 0.47, 0.49, 0.51, 0.53, 0.53, 0.53, 0.54, 0.56, 0.57, 0.58, 0.6, 0.61, 0.62, 0.64, 0.65, 0.66, 0.68, 0.69, 0.7, 0.72, 0.72, 0.72, 0.72, 0.72, 0.71, 0.71, 0.71, 0.71, 0.71, 0.72, 0.73, 0.73, 0.75, 0.75, 0.74, 0.75, 0.74, 0.74, 0.73, 0.73, 0.73, 0.74, 0.74, 0.74, 0.74, 0.75, 0.75, 0.75, 0.74, 0.75, 0.75, 0.75, 0.76, 0.76, 0.75, 0.76, 0.75, 0.76, 0.76, 0.76, 0.76, 0.76, 0.76, 0.76, 0.75, 0.75, 0.75, 0.74, 0.74, 0.74, 0.74, 0.73, 0.73, 0.73]"
      ],
      "execution_count": null,
      "outputs": []
    },
    {
      "cell_type": "code",
      "metadata": {
        "id": "VMTVLCH4THGl"
      },
      "source": [
        "f1_score_list_fold3 = [0.77, 0.8, 0.79, 0.8, 0.79, 0.79, 0.78, 0.74, 0.74, 0.72, 0.69, 0.66, 0.64, 0.61, 0.58, 0.56, 0.53, 0.52, 0.49, 0.47, 0.46, 0.46, 0.49, 0.49, 0.49, 0.49, 0.49, 0.49, 0.5, 0.51, 0.52, 0.52, 0.54, 0.56, 0.59, 0.6, 0.61, 0.65, 0.66, 0.66, 0.68, 0.7, 0.7, 0.71, 0.7, 0.71, 0.73, 0.73, 0.73, 0.73, 0.75, 0.76, 0.75, 0.75, 0.75, 0.77, 0.8, 0.8, 0.8, 0.8, 0.8, 0.79, 0.79, 0.79, 0.78, 0.78, 0.77, 0.75, 0.73, 0.73, 0.73, 0.72, 0.71, 0.7, 0.69, 0.68, 0.67, 0.66, 0.65, 0.64, 0.61, 0.59, 0.58, 0.58, 0.58, 0.59, 0.6, 0.6, 0.6, 0.62, 0.63, 0.65, 0.68, 0.69, 0.71, 0.72, 0.71, 0.73, 0.73, 0.74, 0.74]"
      ],
      "execution_count": null,
      "outputs": []
    },
    {
      "cell_type": "code",
      "metadata": {
        "id": "X6TPh3CdTWth"
      },
      "source": [
        "f1_score_list_fold4 = [0.07, 0.04, 0.04, 0.04, 0.04, 0.04, 0.06, 0.06, 0.09, 0.09, 0.09, 0.09, 0.09, 0.09, 0.1, 0.12, 0.12, 0.12, 0.15, 0.16, 0.16, 0.18, 0.18, 0.18, 0.21, 0.2, 0.23, 0.27, 0.29, 0.29, 0.29, 0.31, 0.32, 0.32, 0.32, 0.32, 0.35, 0.36, 0.38, 0.39, 0.39, 0.4, 0.41, 0.42, 0.42, 0.44, 0.44, 0.44, 0.48, 0.47, 0.47, 0.47, 0.5, 0.5, 0.51, 0.51, 0.51, 0.51, 0.52, 0.52, 0.52, 0.52, 0.52, 0.52, 0.52, 0.52, 0.53, 0.53, 0.53, 0.53, 0.54, 0.55, 0.57, 0.57, 0.59, 0.64, 0.67, 0.68, 0.69, 0.7, 0.7, 0.7, 0.71, 0.71, 0.71, 0.72, 0.73, 0.73, 0.72, 0.72, 0.72, 0.72, 0.72, 0.72, 0.72, 0.72, 0.72, 0.72, 0.72, 0.72, 0.72]"
      ],
      "execution_count": null,
      "outputs": []
    },
    {
      "cell_type": "code",
      "metadata": {
        "id": "dWbYXSQJTWy-"
      },
      "source": [
        "f1_score_list_fold5 = [0.15, 0.11, 0.09, 0.07, 0.07, 0.08, 0.07, 0.06, 0.06, 0.07, 0.09, 0.13, 0.12, 0.15, 0.17, 0.17, 0.2, 0.24, 0.24, 0.27, 0.3, 0.33, 0.38, 0.38, 0.39, 0.44, 0.44, 0.47, 0.51, 0.52, 0.53, 0.54, 0.56, 0.58, 0.58, 0.58, 0.59, 0.61, 0.59, 0.59, 0.59, 0.61, 0.61, 0.64, 0.66, 0.66, 0.66, 0.67, 0.66, 0.67, 0.68, 0.68, 0.68, 0.69, 0.68, 0.67, 0.68, 0.69, 0.68, 0.68, 0.68, 0.68, 0.69, 0.69, 0.68, 0.71, 0.71, 0.72, 0.73, 0.72, 0.72, 0.72, 0.72, 0.72, 0.72, 0.72, 0.73, 0.73, 0.73, 0.73, 0.73, 0.72, 0.72, 0.72, 0.72, 0.71, 0.71, 0.71, 0.72, 0.73, 0.72, 0.72, 0.72, 0.72, 0.72, 0.72, 0.72, 0.72, 0.72, 0.71, 0.71]"
      ],
      "execution_count": null,
      "outputs": []
    },
    {
      "cell_type": "code",
      "metadata": {
        "id": "x9q76tkxTW3q"
      },
      "source": [
        ""
      ],
      "execution_count": null,
      "outputs": []
    },
    {
      "cell_type": "code",
      "metadata": {
        "id": "ox0r60-vTHK1"
      },
      "source": [
        ""
      ],
      "execution_count": null,
      "outputs": []
    },
    {
      "cell_type": "code",
      "metadata": {
        "id": "DveLb0yPGWtH"
      },
      "source": [
        "\n",
        "f1_score_list_allfold = [a + b + c + d + e for a, b, c, d, e in zip(f1_score_list_fold1, f1_score_list_fold2, f1_score_list_fold3, f1_score_list_fold4, f1_score_list_fold5)]\n",
        "\n",
        "f1_score_list_allfold_np = np.array(f1_score_list_allfold) / 5\n",
        "\n",
        "f1_sc_list_allfold = f1_score_list_allfold_np.tolist()\n"
      ],
      "execution_count": null,
      "outputs": []
    },
    {
      "cell_type": "code",
      "metadata": {
        "id": "aYWuDi36GWyX"
      },
      "source": [
        ""
      ],
      "execution_count": null,
      "outputs": []
    },
    {
      "cell_type": "code",
      "metadata": {
        "id": "HPk_Ou87Ucro"
      },
      "source": [
        "ch_epoch = [1, 2, 3, 4, 5, 6, 7, 8, 9, 10, 11, 12, 13, 14, 15, 16, 17, 18, 19, 20, 21, 22, 23, 24, 25, 26, 27, 28, 29, 30, 31, 32, 33, 34, 35, 36, 37, 38, 39, 40, 41, 42, 43, 44, 45, 46, 47, 48, 49, 50, 51, 52, 53, 54, 55, 56, 57, 58, 59, 60, 61, 62, 63, 64, 65, 66, 67, 68, 69, 70, 71, 72, 73, 74, 75, 76, 77, 78, 79, 80, 81, 82, 83, 84, 85, 86, 87, 88, 89, 90, 91, 92, 93, 94, 95, 96, 97, 98, 99, 100, 100]"
      ],
      "execution_count": null,
      "outputs": []
    },
    {
      "cell_type": "code",
      "metadata": {
        "id": "MwkGaO5zUcyN"
      },
      "source": [
        "from matplotlib import  pyplot as plt"
      ],
      "execution_count": null,
      "outputs": []
    },
    {
      "cell_type": "code",
      "metadata": {
        "id": "IViBeedAPLof"
      },
      "source": [
        "plt.title('Precision, Recall and F1 on CIFAR10 test data (5-fold-avg) - imbalance ratio 1:1000')\n",
        "plt.xlabel('epochs')\n",
        "plt.ylabel('samples correctly classified')\n",
        "plt.plot(ch_epoch, pr_list_allfold, label='Precision')\n",
        "plt.plot(ch_epoch, rc_list_allfold, label='Recall')\n",
        "plt.plot(ch_epoch, f1_sc_list_allfold, label='F1-Score')\n",
        "plt.legend()\n",
        "plt.grid()\n",
        "plt.show()"
      ],
      "execution_count": null,
      "outputs": []
    },
    {
      "cell_type": "code",
      "metadata": {
        "id": "xMTS5QUlPLtR"
      },
      "source": [
        "max(pr_list_allfold)"
      ],
      "execution_count": null,
      "outputs": []
    },
    {
      "cell_type": "code",
      "metadata": {
        "id": "0t_kAatAPLxF"
      },
      "source": [
        "max(rc_list_allfold)"
      ],
      "execution_count": null,
      "outputs": []
    },
    {
      "cell_type": "code",
      "metadata": {
        "id": "vsZj7eJPQBh4"
      },
      "source": [
        "max(f1_sc_list_allfold)"
      ],
      "execution_count": null,
      "outputs": []
    },
    {
      "cell_type": "code",
      "metadata": {
        "id": "dvTdfS5aQBmu"
      },
      "source": [
        ""
      ],
      "execution_count": null,
      "outputs": []
    },
    {
      "cell_type": "code",
      "metadata": {
        "id": "K6-HirreUPmo"
      },
      "source": [
        ""
      ],
      "execution_count": null,
      "outputs": []
    },
    {
      "cell_type": "code",
      "metadata": {
        "id": "rjw8SdBFUQSt"
      },
      "source": [
        "print(pr_list_allfold)"
      ],
      "execution_count": null,
      "outputs": []
    },
    {
      "cell_type": "code",
      "metadata": {
        "id": "wjnRMrJ6SEhC"
      },
      "source": [
        "print(rc_list_allfold)"
      ],
      "execution_count": null,
      "outputs": []
    },
    {
      "cell_type": "code",
      "metadata": {
        "id": "KNu7gevwUQSu"
      },
      "source": [
        "print(f1_sc_list_allfold)"
      ],
      "execution_count": null,
      "outputs": []
    },
    {
      "cell_type": "code",
      "metadata": {
        "id": "LCqUhNgoUPq5"
      },
      "source": [
        ""
      ],
      "execution_count": null,
      "outputs": []
    },
    {
      "cell_type": "code",
      "metadata": {
        "id": "muZq4ct8UPu1"
      },
      "source": [
        ""
      ],
      "execution_count": null,
      "outputs": []
    },
    {
      "cell_type": "code",
      "metadata": {
        "id": "GOpt3m9rYoqX"
      },
      "source": [
        ""
      ],
      "execution_count": null,
      "outputs": []
    },
    {
      "cell_type": "code",
      "metadata": {
        "id": "wZbyoTFTYouK"
      },
      "source": [
        ""
      ],
      "execution_count": null,
      "outputs": []
    },
    {
      "cell_type": "code",
      "metadata": {
        "id": "q99TiDq2YoyY"
      },
      "source": [
        ""
      ],
      "execution_count": null,
      "outputs": []
    },
    {
      "cell_type": "code",
      "metadata": {
        "id": "lHTC3TLrOmbd"
      },
      "source": [
        ""
      ],
      "execution_count": null,
      "outputs": []
    },
    {
      "cell_type": "code",
      "metadata": {
        "id": "FzfjTgm1bVqg"
      },
      "source": [
        "---"
      ],
      "execution_count": null,
      "outputs": []
    },
    {
      "cell_type": "code",
      "metadata": {
        "id": "oRDNTaakbVvc"
      },
      "source": [
        ""
      ],
      "execution_count": null,
      "outputs": []
    },
    {
      "cell_type": "code",
      "metadata": {
        "id": "nSYtq2PFXSoV"
      },
      "source": [
        ""
      ],
      "execution_count": null,
      "outputs": []
    },
    {
      "cell_type": "code",
      "metadata": {
        "id": "iDf0I5qoOv7k"
      },
      "source": [
        ""
      ],
      "execution_count": null,
      "outputs": []
    },
    {
      "cell_type": "markdown",
      "metadata": {
        "id": "zqBOvtScPQqQ"
      },
      "source": [
        "## Discriminator score on abnormal images ##"
      ]
    },
    {
      "cell_type": "code",
      "metadata": {
        "id": "BTsekFBGROhQ"
      },
      "source": [
        ""
      ],
      "execution_count": null,
      "outputs": []
    },
    {
      "cell_type": "code",
      "metadata": {
        "id": "g9vmVycpPYsc"
      },
      "source": [
        "# predictions_abnormal_test = []\n",
        "\n",
        "# for index, data in enumerate(abnormal_data_test[0]):\n",
        "#   #abn_data_2 = np.expand_dims(abnormal_data_test[0][index], axis=0)\n",
        "#   abn_data_2 = abnormal_data_test[0][index]\n",
        "#   predictions_abnormal_test.append(discriminator(abn_data_2))\n",
        "#   #print(discriminator(abn_data_2))"
      ],
      "execution_count": null,
      "outputs": []
    },
    {
      "cell_type": "code",
      "metadata": {
        "id": "kmOPws6WPYwj"
      },
      "source": [
        ""
      ],
      "execution_count": null,
      "outputs": []
    },
    {
      "cell_type": "code",
      "metadata": {
        "id": "cw01xd487YDj"
      },
      "source": [
        "# len(predictions_abnormal_test[0])"
      ],
      "execution_count": null,
      "outputs": []
    },
    {
      "cell_type": "code",
      "metadata": {
        "id": "1mxYf1k67YHo"
      },
      "source": [
        ""
      ],
      "execution_count": null,
      "outputs": []
    },
    {
      "cell_type": "code",
      "metadata": {
        "id": "MdP44vOMPY0x"
      },
      "source": [
        "# count_test_abnormal = 0\n",
        "\n",
        "# for ind, _ in enumerate(predictions_abnormal_test[0]):\n",
        "#   if (tf.keras.backend.get_value(predictions_abnormal_test[0][ind])) < 0: # setting a threshold of 0.9\n",
        "#     count_test_abnormal += 1\n",
        "# print('Abnormal correct count: ', count_test_abnormal)"
      ],
      "execution_count": null,
      "outputs": []
    },
    {
      "cell_type": "code",
      "metadata": {
        "id": "s5KjXGkSP_6M"
      },
      "source": [
        "# print(f'{count_test_abnormal} abnormal missed' )"
      ],
      "execution_count": null,
      "outputs": []
    },
    {
      "cell_type": "code",
      "metadata": {
        "id": "WH5AsOnu7zK_"
      },
      "source": [
        ""
      ],
      "execution_count": null,
      "outputs": []
    },
    {
      "cell_type": "code",
      "metadata": {
        "id": "nA3l6nKJQAIf"
      },
      "source": [
        "# decision_test_normal = []\n",
        "\n",
        "# for index, img in enumerate(test_normal_ds):\n",
        "#   #nor_data_test = np.expand_dims(test_normal_images[int(index)], axis=0)\n",
        "#   #nor_data_test = test_normal_ds\n",
        "\n",
        "#   decision = discriminator(img)\n",
        "#   decision_test_normal.append(decision)\n",
        "#   #print(decision) # discriminator decision should be close to 1"
      ],
      "execution_count": null,
      "outputs": []
    },
    {
      "cell_type": "code",
      "metadata": {
        "id": "w4aZ_ISm8Wen"
      },
      "source": [
        "# len(decision_test_normal[0])"
      ],
      "execution_count": null,
      "outputs": []
    },
    {
      "cell_type": "code",
      "metadata": {
        "id": "PqOhLt708WkQ"
      },
      "source": [
        "(tf.keras.backend.get_value(decision_test_normal[0][0]))[0]"
      ],
      "execution_count": null,
      "outputs": []
    },
    {
      "cell_type": "code",
      "metadata": {
        "id": "2PleFlO7-qFq"
      },
      "source": [
        ""
      ],
      "execution_count": null,
      "outputs": []
    },
    {
      "cell_type": "code",
      "metadata": {
        "id": "pmTD-pfxOwJJ"
      },
      "source": [
        "# count_test_normal = 0\n",
        "\n",
        "# for ind, _ in enumerate(decision_test_normal[0]):\n",
        "#   if (tf.keras.backend.get_value(decision_test_normal[0][ind]))[0] >= 0: # setting a threshold of 0.9\n",
        "#     #print(decision_test_normal[ind])\n",
        "#     count_test_normal += 1\n",
        "# print('Normal correct count: ', count_test_normal)"
      ],
      "execution_count": null,
      "outputs": []
    },
    {
      "cell_type": "code",
      "metadata": {
        "id": "5W91-FB6QO9C"
      },
      "source": [
        ""
      ],
      "execution_count": null,
      "outputs": []
    },
    {
      "cell_type": "code",
      "metadata": {
        "id": "EeWZjvSiQPBm"
      },
      "source": [
        "# print(f'{len(decision_test_normal[0]) - count_test_normal} normal missed' )"
      ],
      "execution_count": null,
      "outputs": []
    },
    {
      "cell_type": "code",
      "metadata": {
        "id": "5UKStuWMzYl2"
      },
      "source": [
        ""
      ],
      "execution_count": null,
      "outputs": []
    },
    {
      "cell_type": "markdown",
      "metadata": {
        "id": "tMUAgYtSzaaQ"
      },
      "source": [
        "## Save models ##"
      ]
    },
    {
      "cell_type": "code",
      "metadata": {
        "id": "wnKqi1WzzYpu"
      },
      "source": [
        "#encoder_generator_network.save('encoder_generator.h5')"
      ],
      "execution_count": null,
      "outputs": []
    },
    {
      "cell_type": "code",
      "metadata": {
        "id": "TWzLlJNwzYt-"
      },
      "source": [
        "#discriminator.save('discriminator.h5')"
      ],
      "execution_count": null,
      "outputs": []
    },
    {
      "cell_type": "code",
      "metadata": {
        "id": "XnLpC7j0zYyV"
      },
      "source": [
        ""
      ],
      "execution_count": null,
      "outputs": []
    },
    {
      "cell_type": "code",
      "metadata": {
        "id": "CQkgjRQ9OwVx"
      },
      "source": [
        ""
      ],
      "execution_count": null,
      "outputs": []
    },
    {
      "cell_type": "code",
      "metadata": {
        "id": "05BWB3UudiOV"
      },
      "source": [
        "----"
      ],
      "execution_count": null,
      "outputs": []
    },
    {
      "cell_type": "code",
      "metadata": {
        "id": "a2ZEnw_4diSL"
      },
      "source": [
        ""
      ],
      "execution_count": null,
      "outputs": []
    },
    {
      "cell_type": "code",
      "metadata": {
        "id": "20JbJG04diVx"
      },
      "source": [
        ""
      ],
      "execution_count": null,
      "outputs": []
    },
    {
      "cell_type": "code",
      "metadata": {
        "id": "_IEuzUGEdiZc"
      },
      "source": [
        ""
      ],
      "execution_count": null,
      "outputs": []
    },
    {
      "cell_type": "code",
      "metadata": {
        "id": "FfIY85GGdic_"
      },
      "source": [
        ""
      ],
      "execution_count": null,
      "outputs": []
    },
    {
      "cell_type": "code",
      "metadata": {
        "id": "VhZAPDBsdigs"
      },
      "source": [
        ""
      ],
      "execution_count": null,
      "outputs": []
    },
    {
      "cell_type": "code",
      "metadata": {
        "id": "7cR_hacOdikI"
      },
      "source": [
        ""
      ],
      "execution_count": null,
      "outputs": []
    },
    {
      "cell_type": "code",
      "metadata": {
        "id": "TLeFSa0pdiqp"
      },
      "source": [
        ""
      ],
      "execution_count": null,
      "outputs": []
    },
    {
      "cell_type": "code",
      "metadata": {
        "id": "AAG0sVv4qTXO"
      },
      "source": [
        "fig = plt.figure(figsize=(4,4))\n",
        "predictions = checkpoint.generator(x_abnormal, training = False).numpy()\n",
        "for i in range(seed.shape[0]):\n",
        "    plt.subplot(4,4,i+1)\n",
        "    plt.imshow(predictions[i], interpolation=\"nearest\")\n",
        "    plt.axis('off')\n",
        "    \n",
        "plt.show()"
      ],
      "execution_count": null,
      "outputs": []
    },
    {
      "cell_type": "code",
      "metadata": {
        "id": "A4CFypo3qTXO"
      },
      "source": [
        "noise = tf.random.normal([1,100]) # shape is 1, 100\n",
        "random_face = checkpoint.generator(noise, training = False).numpy()[0]\n",
        "plt.imshow(random_face, interpolation='nearest')\n",
        "plt.axis(\"off\")\n",
        "plt.show()"
      ],
      "execution_count": null,
      "outputs": []
    },
    {
      "cell_type": "code",
      "metadata": {
        "id": "oAv-nJefqTXP"
      },
      "source": [
        "%ls"
      ],
      "execution_count": null,
      "outputs": []
    },
    {
      "cell_type": "code",
      "metadata": {
        "id": "I-9ma3QYqTXP"
      },
      "source": [
        "with imageio.get_writer('dcgan.gif', mode='I') as writer:\n",
        "  filenames = glob.glob('image*.png')\n",
        "  filenames = sorted(filenames)\n",
        "  last = -1\n",
        "  for i,filename in enumerate(filenames):\n",
        "    frame = 2*(i**0.5)\n",
        "    if round(frame) > round(last):\n",
        "      last = frame\n",
        "    else:\n",
        "      continue\n",
        "    image = imageio.imread(filename)\n",
        "    writer.append_data(image)\n",
        "  image = imageio.imread(filename)\n",
        "  writer.append_data(image)\n",
        "    \n",
        "# A hack to display the GIF inside this notebook\n",
        "os.rename('dcgan.gif', 'dcgan_celebA.gif.png')"
      ],
      "execution_count": null,
      "outputs": []
    },
    {
      "cell_type": "code",
      "metadata": {
        "id": "_xCmpVSVqTXP"
      },
      "source": [
        "display.Image(filename=\"dcgan_celebA.gif.png\")"
      ],
      "execution_count": null,
      "outputs": []
    },
    {
      "cell_type": "code",
      "metadata": {
        "id": "CBAw_wc4qTXP"
      },
      "source": [
        "%ls training_checkpoints/"
      ],
      "execution_count": null,
      "outputs": []
    },
    {
      "cell_type": "markdown",
      "metadata": {
        "id": "u4VcjW7TqTXP"
      },
      "source": [
        "%cp image_at_epoch_0001.png play-with-faces/"
      ]
    }
  ]
}