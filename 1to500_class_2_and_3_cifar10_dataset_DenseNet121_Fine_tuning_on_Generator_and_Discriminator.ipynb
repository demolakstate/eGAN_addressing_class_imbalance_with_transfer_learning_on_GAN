{
  "nbformat": 4,
  "nbformat_minor": 0,
  "metadata": {
    "kernelspec": {
      "display_name": "Python 3",
      "language": "python",
      "name": "python3"
    },
    "language_info": {
      "codemirror_mode": {
        "name": "ipython",
        "version": 3
      },
      "file_extension": ".py",
      "mimetype": "text/x-python",
      "name": "python",
      "nbconvert_exporter": "python",
      "pygments_lexer": "ipython3",
      "version": "3.6.7"
    },
    "colab": {
      "name": "1to500_class_2_and_3_cifar10_dataset-DenseNet121-Fine-tuning-on-Generator-and-Discriminator.ipynb",
      "provenance": [],
      "toc_visible": true,
      "machine_shape": "hm",
      "include_colab_link": true
    },
    "accelerator": "GPU"
  },
  "cells": [
    {
      "cell_type": "markdown",
      "metadata": {
        "id": "view-in-github",
        "colab_type": "text"
      },
      "source": [
        "<a href=\"https://colab.research.google.com/github/demolakstate/eGAN_addressing_class_imbalance_with_transfer_learning_on_GAN/blob/main/1to500_class_2_and_3_cifar10_dataset_DenseNet121_Fine_tuning_on_Generator_and_Discriminator.ipynb\" target=\"_parent\"><img src=\"https://colab.research.google.com/assets/colab-badge.svg\" alt=\"Open In Colab\"/></a>"
      ]
    },
    {
      "cell_type": "code",
      "metadata": {
        "id": "HD4bIjg6qYkH"
      },
      "source": [
        ""
      ],
      "execution_count": null,
      "outputs": []
    },
    {
      "cell_type": "markdown",
      "metadata": {
        "id": "A7aOHFtUW4Kv"
      },
      "source": [
        "## 1 instances of Normal samples - imbalance ratio 1:500 ##"
      ]
    },
    {
      "cell_type": "markdown",
      "metadata": {
        "id": "YN_2kXCOiDUB"
      },
      "source": [
        "### Here, we train the discriminator on samples from normal frames ###"
      ]
    },
    {
      "cell_type": "code",
      "metadata": {
        "id": "IHvSaXl0Y6n7",
        "colab": {
          "base_uri": "https://localhost:8080/"
        },
        "outputId": "96ec96df-b881-4117-e1ed-24ddcd439b32"
      },
      "source": [
        "from google.colab import drive\n",
        "\n",
        "drive.mount('/content/gdrive')"
      ],
      "execution_count": null,
      "outputs": [
        {
          "output_type": "stream",
          "text": [
            "Drive already mounted at /content/gdrive; to attempt to forcibly remount, call drive.mount(\"/content/gdrive\", force_remount=True).\n"
          ],
          "name": "stdout"
        }
      ]
    },
    {
      "cell_type": "code",
      "metadata": {
        "id": "ELynCH1g6iD2"
      },
      "source": [
        "import time, os"
      ],
      "execution_count": null,
      "outputs": []
    },
    {
      "cell_type": "code",
      "metadata": {
        "colab": {
          "base_uri": "https://localhost:8080/"
        },
        "id": "apdqasPQ6iJh",
        "outputId": "1a0fbab7-7ef2-4f29-859e-0aa2b5d01ff9"
      },
      "source": [
        "print(round(time.time()))"
      ],
      "execution_count": null,
      "outputs": [
        {
          "output_type": "stream",
          "text": [
            "1617221331\n"
          ],
          "name": "stdout"
        }
      ]
    },
    {
      "cell_type": "code",
      "metadata": {
        "id": "6_v8eHk57lnc"
      },
      "source": [
        "time_stamp = round(time.time())"
      ],
      "execution_count": null,
      "outputs": []
    },
    {
      "cell_type": "code",
      "metadata": {
        "id": "OpUZtHhJ1DlL",
        "colab": {
          "base_uri": "https://localhost:8080/"
        },
        "outputId": "92091794-545c-4501-fb5a-efa1a60f11f2"
      },
      "source": [
        "cd /content/gdrive/MyDrive/Anomaly_Detection_in_Images/"
      ],
      "execution_count": null,
      "outputs": [
        {
          "output_type": "stream",
          "text": [
            "/content/gdrive/MyDrive/Anomaly_Detection_in_Images\n"
          ],
          "name": "stdout"
        }
      ]
    },
    {
      "cell_type": "code",
      "metadata": {
        "id": "WhLsERzw7TPa"
      },
      "source": [
        "os.mkdir(str(time_stamp))\n"
      ],
      "execution_count": null,
      "outputs": []
    },
    {
      "cell_type": "code",
      "metadata": {
        "id": "uVicr1ug85Yp"
      },
      "source": [
        "os.chdir(str(time_stamp))"
      ],
      "execution_count": null,
      "outputs": []
    },
    {
      "cell_type": "code",
      "metadata": {
        "colab": {
          "base_uri": "https://localhost:8080/"
        },
        "id": "665wj8vx76Nq",
        "outputId": "80d174e1-500e-4469-d740-c03175fe66b5"
      },
      "source": [
        "time_stamp"
      ],
      "execution_count": null,
      "outputs": [
        {
          "output_type": "execute_result",
          "data": {
            "text/plain": [
              "1617221331"
            ]
          },
          "metadata": {
            "tags": []
          },
          "execution_count": 8
        }
      ]
    },
    {
      "cell_type": "code",
      "metadata": {
        "id": "5A5KLSqY76RH"
      },
      "source": [
        ""
      ],
      "execution_count": null,
      "outputs": []
    },
    {
      "cell_type": "code",
      "metadata": {
        "colab": {
          "base_uri": "https://localhost:8080/",
          "height": 35
        },
        "id": "CPoIbnzQqTXC",
        "outputId": "baf09a71-8712-4c95-cae4-d96abba0b4bc"
      },
      "source": [
        "#!pip install -q tensorflow-gpu==2.0.0-alpha0\n",
        "import tensorflow as tf\n",
        "tf.__version__"
      ],
      "execution_count": null,
      "outputs": [
        {
          "output_type": "execute_result",
          "data": {
            "application/vnd.google.colaboratory.intrinsic+json": {
              "type": "string"
            },
            "text/plain": [
              "'2.4.1'"
            ]
          },
          "metadata": {
            "tags": []
          },
          "execution_count": 9
        }
      ]
    },
    {
      "cell_type": "code",
      "metadata": {
        "id": "UUdnxrdkqTXE"
      },
      "source": [
        "import tensorflow as tf"
      ],
      "execution_count": null,
      "outputs": []
    },
    {
      "cell_type": "code",
      "metadata": {
        "id": "dw_b6GnEp1vK"
      },
      "source": [
        ""
      ],
      "execution_count": null,
      "outputs": []
    },
    {
      "cell_type": "code",
      "metadata": {
        "id": "o8Po8E1bp196"
      },
      "source": [
        ""
      ],
      "execution_count": null,
      "outputs": []
    },
    {
      "cell_type": "code",
      "metadata": {
        "id": "PDQHjRVIqTXF"
      },
      "source": [
        "from tensorflow.python.client import device_lib\n",
        "\n",
        "# \"GPU\" + device_lib.list_local_devices()[-1].physical_device_desc.split(\",\")[1]"
      ],
      "execution_count": null,
      "outputs": []
    },
    {
      "cell_type": "code",
      "metadata": {
        "colab": {
          "base_uri": "https://localhost:8080/",
          "height": 35
        },
        "id": "R5ASv7D0qTXG",
        "outputId": "7dfe8f15-87bb-4dc1-f5b8-39d68a4d56fb"
      },
      "source": [
        "tf.__version__"
      ],
      "execution_count": null,
      "outputs": [
        {
          "output_type": "execute_result",
          "data": {
            "application/vnd.google.colaboratory.intrinsic+json": {
              "type": "string"
            },
            "text/plain": [
              "'2.4.1'"
            ]
          },
          "metadata": {
            "tags": []
          },
          "execution_count": 12
        }
      ]
    },
    {
      "cell_type": "code",
      "metadata": {
        "id": "OzjXZHG4qTXG"
      },
      "source": [
        "import glob # The glob module finds all the pathnames matching a specified pattern according to the rules used by the Unix shell, although results are returned in arbitrary order. \n",
        "import imageio # Imageio is a Python library that provides an easy interface to read and write a wide range of image data, including animated images, volumetric data, and scientific formats. \n",
        "%matplotlib inline \n",
        "import matplotlib.pyplot as plt \n",
        "import tensorflow.keras.layers as layers # Keras layers API\n",
        "import time\n",
        "from IPython import display # For displaying image"
      ],
      "execution_count": null,
      "outputs": []
    },
    {
      "cell_type": "code",
      "metadata": {
        "id": "wN1HuYsUs_JS"
      },
      "source": [
        "from tensorflow.keras.models import Model"
      ],
      "execution_count": null,
      "outputs": []
    },
    {
      "cell_type": "code",
      "metadata": {
        "_cell_guid": "b1076dfc-b9ad-4769-8c92-a6c4dae69d19",
        "_uuid": "8f2839f25d086af736a60e9eeb907d3b93b6e0e5",
        "id": "ZiFlOzTtqTXG"
      },
      "source": [
        "import numpy as np # linear algebra\n",
        "import pandas as pd # data processing, CSV file I/O (e.g. pd.read_csv)\n",
        "\n",
        "# Input data files are available in the \"../input/\" directory.\n",
        "# For example, running this (by clicking run or pressing Shift+Enter) will list the files in the input directory\n",
        "import os\n",
        "import PIL\n",
        "import random"
      ],
      "execution_count": null,
      "outputs": []
    },
    {
      "cell_type": "code",
      "metadata": {
        "id": "72JdEgtVr59A"
      },
      "source": [
        ""
      ],
      "execution_count": null,
      "outputs": []
    },
    {
      "cell_type": "markdown",
      "metadata": {
        "id": "uAJDx8Pu5jKv"
      },
      "source": [
        "## Load dataset ##"
      ]
    },
    {
      "cell_type": "code",
      "metadata": {
        "id": "MwYwvVXM5lvY"
      },
      "source": [
        "# example of loading the cifar10 dataset\n",
        "from keras.datasets.cifar10 import load_data\n",
        "from matplotlib import pyplot\n",
        "# load the images into memory\n",
        "(X_train, X_train_label), (X_test, X_test_label) = load_data()\n",
        "X_train_abnormal = []\n",
        "X_train_normal = []\n",
        "\n",
        "# plot images from the training dataset\n",
        "for i in range(len(X_train)):\n",
        "  if X_train_label[i] == 2: # few abnormal samples\n",
        "    X_train_abnormal.append(X_train[i])\n",
        "  elif X_train_label[i] == 3:\n",
        "    X_train_normal.append(X_train[i])"
      ],
      "execution_count": null,
      "outputs": []
    },
    {
      "cell_type": "code",
      "metadata": {
        "id": "nrfEhCYMDMPl"
      },
      "source": [
        ""
      ],
      "execution_count": null,
      "outputs": []
    },
    {
      "cell_type": "code",
      "metadata": {
        "id": "j1T2GaFa5lzX"
      },
      "source": [
        "X_train_normal = np.asarray(X_train_normal[:1000]) # use first 1000 samples \n",
        "X_train_abnormal = np.asarray(X_train_abnormal[:2]) # use first 2 samples"
      ],
      "execution_count": null,
      "outputs": []
    },
    {
      "cell_type": "code",
      "metadata": {
        "id": "0zuU4_NbI5a4"
      },
      "source": [
        ""
      ],
      "execution_count": null,
      "outputs": []
    },
    {
      "cell_type": "code",
      "metadata": {
        "id": "qd5BnSqqI5hn"
      },
      "source": [
        "X_train_normal = np.asarray(X_train_normal) # use first 1000 samples \n",
        "X_train_abnormal = np.asarray(X_train_abnormal) # use first 2 samples"
      ],
      "execution_count": null,
      "outputs": []
    },
    {
      "cell_type": "code",
      "metadata": {
        "colab": {
          "base_uri": "https://localhost:8080/"
        },
        "id": "DmNb2CxTYMsv",
        "outputId": "9a26cf6a-5b33-4dc2-d05a-058bd1798af1"
      },
      "source": [
        "len(X_train_normal)"
      ],
      "execution_count": null,
      "outputs": [
        {
          "output_type": "execute_result",
          "data": {
            "text/plain": [
              "5000"
            ]
          },
          "metadata": {
            "tags": []
          },
          "execution_count": 152
        }
      ]
    },
    {
      "cell_type": "code",
      "metadata": {
        "id": "Q31rPvRRYMwn",
        "colab": {
          "base_uri": "https://localhost:8080/"
        },
        "outputId": "5ef745f0-6c24-4b27-a9e9-99a0734bf20c"
      },
      "source": [
        "len(X_train_abnormal)"
      ],
      "execution_count": null,
      "outputs": [
        {
          "output_type": "execute_result",
          "data": {
            "text/plain": [
              "5000"
            ]
          },
          "metadata": {
            "tags": []
          },
          "execution_count": 153
        }
      ]
    },
    {
      "cell_type": "code",
      "metadata": {
        "id": "YktWeLdCDMdi"
      },
      "source": [
        "# expand to 3d, e.g. add channels dimension\n",
        "#abnormal_data = np.expand_dims(X_train_abnormal, axis=-1)\n",
        "#normal_data = np.expand_dims(X_train_normal, axis=-1)\n"
      ],
      "execution_count": null,
      "outputs": []
    },
    {
      "cell_type": "code",
      "metadata": {
        "id": "G8coq_DioOfW"
      },
      "source": [
        "abnormal_data = X_train_abnormal"
      ],
      "execution_count": null,
      "outputs": []
    },
    {
      "cell_type": "code",
      "metadata": {
        "id": "6FK4KbQEWTXj"
      },
      "source": [
        "train_images = X_train_normal.reshape(X_train_normal.shape[0], 32, 32, 3).astype('float32')\n",
        "#train_images = (train_images - 127.5) / 127.5\n",
        "\n",
        "train_images = (train_images) / 255.0\n"
      ],
      "execution_count": null,
      "outputs": []
    },
    {
      "cell_type": "code",
      "metadata": {
        "colab": {
          "base_uri": "https://localhost:8080/"
        },
        "id": "9nWGeHknZqWi",
        "outputId": "639f9d7d-9ce9-4c3f-f538-9ebdaafd90d5"
      },
      "source": [
        "X_train_normal.shape[0]"
      ],
      "execution_count": null,
      "outputs": [
        {
          "output_type": "execute_result",
          "data": {
            "text/plain": [
              "1000"
            ]
          },
          "metadata": {
            "tags": []
          },
          "execution_count": 23
        }
      ]
    },
    {
      "cell_type": "code",
      "metadata": {
        "id": "CYwdQfEKZqbY"
      },
      "source": [
        ""
      ],
      "execution_count": null,
      "outputs": []
    },
    {
      "cell_type": "code",
      "metadata": {
        "id": "ol3vSNgFDhpl"
      },
      "source": [
        "abnormal_data = abnormal_data.astype('float32')\n",
        "#normal_data = normal_data.astype('float32')\n",
        "\n",
        "abnormal_data = abnormal_data / 255.0\n",
        "#normal_data = normal_data / 255.0"
      ],
      "execution_count": null,
      "outputs": []
    },
    {
      "cell_type": "code",
      "metadata": {
        "id": "V5-oEA2bd9IC"
      },
      "source": [
        ""
      ],
      "execution_count": null,
      "outputs": []
    },
    {
      "cell_type": "code",
      "metadata": {
        "id": "sSV0pNbeOv3M"
      },
      "source": [
        "X_test_abnormal = []\n",
        "X_test_normal = []\n",
        "\n",
        "# plot images from the training dataset\n",
        "for i in range(len(X_test)):\n",
        "  if X_test_label[i] == 2: # few abnormal samples\n",
        "    X_test_abnormal.append(X_test[i])\n",
        "  elif X_test_label[i] == 3:\n",
        "    X_test_normal.append(X_test[i])"
      ],
      "execution_count": null,
      "outputs": []
    },
    {
      "cell_type": "code",
      "metadata": {
        "id": "-IvGp4YLROqa"
      },
      "source": [
        "# expand to 3d, e.g. add channels dimension\n",
        "abnormal_data_test = np.expand_dims(X_test_abnormal, axis=0)"
      ],
      "execution_count": null,
      "outputs": []
    },
    {
      "cell_type": "code",
      "metadata": {
        "id": "JkwO2RDdOwDv"
      },
      "source": [
        "abnormal_data_test = abnormal_data_test.astype('float32')\n",
        "abnormal_data_test = abnormal_data_test / 255.0"
      ],
      "execution_count": null,
      "outputs": []
    },
    {
      "cell_type": "code",
      "metadata": {
        "id": "f4H4yhdJPYok"
      },
      "source": [
        "#abnormal_images = np.array(os.listdir(path_abnormal))\n",
        "np.random.shuffle(abnormal_data_test)\n",
        "BUFFER_SIZE = len(X_test_abnormal) #200000 # number of images in training i think\n",
        "BATCH_SIZE = 1#500 # This is just the standard number for batch size. Google for more info\n",
        "# shuffle and batch the data\n",
        "np.random.shuffle(abnormal_data_test)\n",
        "abnormal_data_test = np.split(abnormal_data_test[:BUFFER_SIZE],BATCH_SIZE)"
      ],
      "execution_count": null,
      "outputs": []
    },
    {
      "cell_type": "code",
      "metadata": {
        "id": "KPTvr3l8P_-8"
      },
      "source": [
        "X_test_normal = np.asarray(X_test_normal)"
      ],
      "execution_count": null,
      "outputs": []
    },
    {
      "cell_type": "code",
      "metadata": {
        "id": "5Grufe46QADl"
      },
      "source": [
        "test_normal_images = X_test_normal.reshape(X_test_normal.shape[0], 32, 32, 3).astype('float32')\n",
        "#train_images = (train_images - 127.5) / 127.5\n",
        "\n",
        "test_normal_images = (test_normal_images) / 255.0"
      ],
      "execution_count": null,
      "outputs": []
    },
    {
      "cell_type": "code",
      "metadata": {
        "id": "Jsx_LALn7zFI"
      },
      "source": [
        "test_normal_ds = tf.data.Dataset.from_tensor_slices(test_normal_images).shuffle(54077).batch(100000000)"
      ],
      "execution_count": null,
      "outputs": []
    },
    {
      "cell_type": "code",
      "metadata": {
        "id": "LgOVbw095qCd"
      },
      "source": [
        "# X_train_normal_np = X_train_normal_np.astype('float32') / 255.\n",
        "# X_train_abnormal_np = X_train_abnormal_np.astype('float32') / 255."
      ],
      "execution_count": null,
      "outputs": []
    },
    {
      "cell_type": "code",
      "metadata": {
        "id": "SFD4eRcvqTXH"
      },
      "source": [
        "# path = \"/content/gdrive/MyDrive/Anomaly_Detection_Videos/normal_frames/\""
      ],
      "execution_count": null,
      "outputs": []
    },
    {
      "cell_type": "code",
      "metadata": {
        "id": "A4pyk1fpg--V"
      },
      "source": [
        "# path_abnormal = \"/content/gdrive/MyDrive/Anomaly_Detection_Videos/abnormal_frames/\""
      ],
      "execution_count": null,
      "outputs": []
    },
    {
      "cell_type": "code",
      "metadata": {
        "id": "W2aq3snQqTXH"
      },
      "source": [
        "# def load_image( infilename ) :\n",
        "#     img = PIL.Image.open( infilename )\n",
        "#     #img = img.crop([25,65,153,193])\n",
        "#     #img = img.resize((64,64))\n",
        "#     img = img.resize((512,512))\n",
        "#     data = np.asarray( img, dtype=\"int32\" )\n",
        "#     return data"
      ],
      "execution_count": null,
      "outputs": []
    },
    {
      "cell_type": "code",
      "metadata": {
        "id": "uPu_SL8nscPu"
      },
      "source": [
        "latent_dim = 128\n",
        "C = 3\n",
        "img_width = img_height = 32"
      ],
      "execution_count": null,
      "outputs": []
    },
    {
      "cell_type": "code",
      "metadata": {
        "id": "zZnINbCQYiCj"
      },
      "source": [
        "IMG_SIZE = (32, 32)"
      ],
      "execution_count": null,
      "outputs": []
    },
    {
      "cell_type": "code",
      "metadata": {
        "id": "iyzrcusrYiH0"
      },
      "source": [
        "IMG_SHAPE = IMG_SIZE + (3,)"
      ],
      "execution_count": null,
      "outputs": []
    },
    {
      "cell_type": "code",
      "metadata": {
        "id": "dw5bZzws8fdZ"
      },
      "source": [
        ""
      ],
      "execution_count": null,
      "outputs": []
    },
    {
      "cell_type": "code",
      "metadata": {
        "id": "zfQKg-dhX8fW"
      },
      "source": [
        "base_model_encoder = tf.keras.applications.DenseNet121(input_shape=IMG_SHAPE,\n",
        "                                            include_top=False,\n",
        "                                            weights='imagenet')"
      ],
      "execution_count": null,
      "outputs": []
    },
    {
      "cell_type": "code",
      "metadata": {
        "id": "HXuOE3mvX8ke"
      },
      "source": [
        "base_model_encoder.trainable = True"
      ],
      "execution_count": null,
      "outputs": []
    },
    {
      "cell_type": "code",
      "metadata": {
        "colab": {
          "base_uri": "https://localhost:8080/"
        },
        "id": "zpri_oGgYKUh",
        "outputId": "9a6691a9-e6b8-436e-87a0-6b78e8144fc7"
      },
      "source": [
        "# Let's take a look to see how many layers are in the base model\n",
        "print(\"Number of layers in the base model: \", len(base_model_encoder.layers))\n",
        "\n",
        "# Fine-tune from this layer onwards\n",
        "fine_tune_at_encoder = 422\n",
        "\n",
        "# Freeze all the layers before the `fine_tune_at` layer\n",
        "for layer in base_model_encoder.layers[:fine_tune_at_encoder]:\n",
        "  layer.trainable =  False"
      ],
      "execution_count": null,
      "outputs": [
        {
          "output_type": "stream",
          "text": [
            "Number of layers in the base model:  427\n"
          ],
          "name": "stdout"
        }
      ]
    },
    {
      "cell_type": "code",
      "metadata": {
        "colab": {
          "base_uri": "https://localhost:8080/"
        },
        "id": "DLGyCBlppYCC",
        "outputId": "8a7fe562-1abc-4b5e-dad8-325f0d471da8"
      },
      "source": [
        "print(f'{len(base_model_encoder.layers) - fine_tune_at_encoder} layers fine-tuned at generator module')"
      ],
      "execution_count": null,
      "outputs": [
        {
          "output_type": "stream",
          "text": [
            "5 layers fine-tuned at generator module\n"
          ],
          "name": "stdout"
        }
      ]
    },
    {
      "cell_type": "code",
      "metadata": {
        "id": "JAYO2zxqpYJZ"
      },
      "source": [
        ""
      ],
      "execution_count": null,
      "outputs": []
    },
    {
      "cell_type": "code",
      "metadata": {
        "id": "bCZSULVkYKZL"
      },
      "source": [
        "global_average_layer = tf.keras.layers.GlobalAveragePooling2D()"
      ],
      "execution_count": null,
      "outputs": []
    },
    {
      "cell_type": "code",
      "metadata": {
        "id": "KdSPwz6GYKdj"
      },
      "source": [
        ""
      ],
      "execution_count": null,
      "outputs": []
    },
    {
      "cell_type": "code",
      "metadata": {
        "id": "nXUrrksy8fhs"
      },
      "source": [
        "def make_encoder_model():\n",
        "  inputs = layers.Input(shape=(img_width, img_height, C), name=\"inputs\")\n",
        "  x = inputs\n",
        "\n",
        "  # Fine-tuning the base layers\n",
        "\n",
        "  x = base_model_encoder(inputs, training=False)\n",
        "  x = global_average_layer(x)\n",
        "  #x = tf.keras.layers.Dropout(0.2)(x)\n",
        "\n",
        "\n",
        "\n",
        "\n",
        "  # x = layers.Conv2D(32, (3,3), padding=\"same\")(x)\n",
        "  # x = layers.BatchNormalization()(x)\n",
        "  # x = layers.LeakyReLU(alpha=0.2)(x)\n",
        "  # x = layers.MaxPool2D((2,2))(x)\n",
        "\n",
        "  # x = layers.Conv2D(32, (3,3), padding=\"same\")(x)\n",
        "  # x = layers.BatchNormalization()(x)\n",
        "  # x = layers.LeakyReLU(alpha=0.2)(x)\n",
        "  # x = layers.MaxPool2D((2,2))(x)\n",
        "\n",
        "  print('shape after encoder: ', x.shape)\n",
        "\n",
        "  # x = layers.Flatten()(x)\n",
        "  units = x.shape[1] * 2\n",
        "  x = layers.Dense(latent_dim, name=\"latent\")(x)\n",
        "\n",
        "  return (x, inputs, units)"
      ],
      "execution_count": null,
      "outputs": []
    },
    {
      "cell_type": "code",
      "metadata": {
        "id": "XNYtNMdF8fl6"
      },
      "source": [
        "def make_generator_model(x, units):\n",
        "  # Building the generator\n",
        "  x = layers.Dense(units)(x)\n",
        "  x = layers.LeakyReLU(alpha=0.2)(x)\n",
        "  x = layers.Reshape((8, 8, 32))(x) # reshape to shape after encoder\n",
        "\n",
        "  x = layers.Conv2DTranspose(64, (3, 3), strides=2, padding=\"same\")(x)\n",
        "  x = layers.BatchNormalization()(x)\n",
        "  x = layers.LeakyReLU(alpha=0.2)(x)\n",
        "\n",
        "  x = layers.Conv2DTranspose(C, (3,3), strides=2, padding='same')(x)\n",
        "  x = layers.BatchNormalization()(x)\n",
        "  x = layers.Activation(\"sigmoid\", name=\"outputs\")(x)\n",
        "\n",
        "  outputs = x\n",
        "\n",
        "  return outputs"
      ],
      "execution_count": null,
      "outputs": []
    },
    {
      "cell_type": "code",
      "metadata": {
        "colab": {
          "base_uri": "https://localhost:8080/"
        },
        "id": "Z0XkFJ1aCqB4",
        "outputId": "f71b36bc-c70d-4de0-f095-52ffcf566015"
      },
      "source": [
        "x, inputs, units = make_encoder_model()"
      ],
      "execution_count": null,
      "outputs": [
        {
          "output_type": "stream",
          "text": [
            "shape after encoder:  (None, 1024)\n"
          ],
          "name": "stdout"
        }
      ]
    },
    {
      "cell_type": "code",
      "metadata": {
        "id": "WlJxGlN8CwBv"
      },
      "source": [
        "outputs = make_generator_model(x=x, units=units)"
      ],
      "execution_count": null,
      "outputs": []
    },
    {
      "cell_type": "code",
      "metadata": {
        "id": "1lpD6HVQCLjP"
      },
      "source": [
        "encoder_generator_network = Model(inputs=inputs, outputs=outputs)"
      ],
      "execution_count": null,
      "outputs": []
    },
    {
      "cell_type": "code",
      "metadata": {
        "colab": {
          "base_uri": "https://localhost:8080/"
        },
        "id": "eVs7XgajsN5_",
        "outputId": "1ca938f1-f4f9-4eed-c3c3-1f54a1a05c96"
      },
      "source": [
        "print(x.shape)"
      ],
      "execution_count": null,
      "outputs": [
        {
          "output_type": "stream",
          "text": [
            "(None, 128)\n"
          ],
          "name": "stdout"
        }
      ]
    },
    {
      "cell_type": "code",
      "metadata": {
        "colab": {
          "base_uri": "https://localhost:8080/"
        },
        "id": "4bNKAlYV_egO",
        "outputId": "846c50a8-7738-49ff-bff8-15871cdbe28d"
      },
      "source": [
        "abnormal_data.shape"
      ],
      "execution_count": null,
      "outputs": [
        {
          "output_type": "execute_result",
          "data": {
            "text/plain": [
              "(2, 32, 32, 3)"
            ]
          },
          "metadata": {
            "tags": []
          },
          "execution_count": 50
        }
      ]
    },
    {
      "cell_type": "code",
      "metadata": {
        "id": "GhqB68KtCXjK"
      },
      "source": [
        ""
      ],
      "execution_count": null,
      "outputs": []
    },
    {
      "cell_type": "code",
      "metadata": {
        "id": "mH1fvSBtKEQG"
      },
      "source": [
        "#abnormal_images = np.array(os.listdir(path_abnormal))\n",
        "np.random.shuffle(abnormal_data)\n",
        "BUFFER_SIZE = len(X_train_abnormal) #200000 # number of images in training i think\n",
        "BATCH_SIZE = 1#500 # This is just the standard number for batch size. Google for more info\n",
        "# shuffle and batch the data\n",
        "np.random.shuffle(abnormal_data)\n",
        "# abnormal_data = np.split(abnormal_data[:BUFFER_SIZE],BATCH_SIZE)\n",
        "\n",
        "abnormal_data = np.split(abnormal_data[:2500], 1)"
      ],
      "execution_count": null,
      "outputs": []
    },
    {
      "cell_type": "code",
      "metadata": {
        "id": "d-vj7oPxKEVB"
      },
      "source": [
        "# #abnormal_images = np.array(os.listdir(path_abnormal))\n",
        "# np.random.shuffle(normal_data)\n",
        "# BUFFER_SIZE = 5#200000 # number of images in training i think\n",
        "# BATCH_SIZE = 1#500 # This is just the standard number for batch size. Google for more info\n",
        "# # shuffle and batch the data\n",
        "# np.random.shuffle(normal_data)\n",
        "# #normal_data = np.split(normal_data[:BUFFER_SIZE],BATCH_SIZE)"
      ],
      "execution_count": null,
      "outputs": []
    },
    {
      "cell_type": "code",
      "metadata": {
        "id": "rh-o7AjMV0yF"
      },
      "source": [
        "train_normal_dataset = tf.data.Dataset.from_tensor_slices(train_images).shuffle(54077).batch(128)"
      ],
      "execution_count": null,
      "outputs": []
    },
    {
      "cell_type": "code",
      "metadata": {
        "id": "COO4SI8nCXng"
      },
      "source": [
        "#len(abnormal_data[0][1])"
      ],
      "execution_count": null,
      "outputs": []
    },
    {
      "cell_type": "code",
      "metadata": {
        "id": "wrAL-SrYCXri"
      },
      "source": [
        ""
      ],
      "execution_count": null,
      "outputs": []
    },
    {
      "cell_type": "code",
      "metadata": {
        "id": "fWO5D3VhqTXJ",
        "colab": {
          "base_uri": "https://localhost:8080/",
          "height": 283
        },
        "outputId": "54537257-0f62-4dae-96fa-01fc3f89e931"
      },
      "source": [
        "#generator = make_generator_model()\n",
        "\n",
        "#noise = tf.random.normal([1, img_width,img_height, 1]) # shape is 1, 100\n",
        "generated_image = encoder_generator_network(abnormal_data, training = True)\n",
        "#plt.imshow(generated_image[0], interpolation=\"nearest\" )\n",
        "plt.imshow(generated_image[0])"
      ],
      "execution_count": null,
      "outputs": [
        {
          "output_type": "execute_result",
          "data": {
            "text/plain": [
              "<matplotlib.image.AxesImage at 0x7ff0226dfe90>"
            ]
          },
          "metadata": {
            "tags": []
          },
          "execution_count": 55
        },
        {
          "output_type": "display_data",
          "data": {
            "image/png": "[encoded data removed]",
            "text/plain": [
              "<Figure size 432x288 with 1 Axes>"
            ]
          },
          "metadata": {
            "tags": [],
            "needs_background": "light"
          }
        }
      ]
    },
    {
      "cell_type": "code",
      "metadata": {
        "colab": {
          "base_uri": "https://localhost:8080/"
        },
        "id": "RIS1LB3fEKge",
        "outputId": "be655c37-560d-4710-fea0-4fcf6e14b128"
      },
      "source": [
        "len(generated_image)"
      ],
      "execution_count": null,
      "outputs": [
        {
          "output_type": "execute_result",
          "data": {
            "text/plain": [
              "2"
            ]
          },
          "metadata": {
            "tags": []
          },
          "execution_count": 56
        }
      ]
    },
    {
      "cell_type": "code",
      "metadata": {
        "id": "2_JX0ygx1xSM"
      },
      "source": [
        "IMG_SIZE = (32, 32)"
      ],
      "execution_count": null,
      "outputs": []
    },
    {
      "cell_type": "code",
      "metadata": {
        "id": "s7BC5Ze0140V"
      },
      "source": [
        "IMG_SHAPE = IMG_SIZE + (3,)"
      ],
      "execution_count": null,
      "outputs": []
    },
    {
      "cell_type": "code",
      "metadata": {
        "id": "WLw6Wcgl1YZF"
      },
      "source": [
        "base_model_disc = tf.keras.applications.DenseNet121(input_shape=IMG_SHAPE,\n",
        "                                            include_top=False,\n",
        "                                            weights='imagenet')"
      ],
      "execution_count": null,
      "outputs": []
    },
    {
      "cell_type": "code",
      "metadata": {
        "id": "4CDCFe_I2X6V"
      },
      "source": [
        "base_model_disc.trainable = True"
      ],
      "execution_count": null,
      "outputs": []
    },
    {
      "cell_type": "code",
      "metadata": {
        "id": "AOq_9yDAMpt8"
      },
      "source": [
        "#base_model.summary()"
      ],
      "execution_count": null,
      "outputs": []
    },
    {
      "cell_type": "code",
      "metadata": {
        "id": "K0Lq2PKSMqr8",
        "colab": {
          "base_uri": "https://localhost:8080/"
        },
        "outputId": "dd50e71f-b442-4817-a3be-f9ea488b8a13"
      },
      "source": [
        "# Let's take a look to see how many layers are in the base model\n",
        "print(\"Number of layers in the base model: \", len(base_model_disc.layers))\n",
        "\n",
        "# Fine-tune from this layer onwards\n",
        "fine_tune_at_disc = 422\n",
        "\n",
        "# Freeze all the layers before the `fine_tune_at` layer\n",
        "for layer in base_model_disc.layers[:fine_tune_at_disc]:\n",
        "  layer.trainable =  False"
      ],
      "execution_count": null,
      "outputs": [
        {
          "output_type": "stream",
          "text": [
            "Number of layers in the base model:  427\n"
          ],
          "name": "stdout"
        }
      ]
    },
    {
      "cell_type": "code",
      "metadata": {
        "id": "2FyOq3W320La",
        "colab": {
          "base_uri": "https://localhost:8080/"
        },
        "outputId": "e4c9dce4-93fc-4ea6-e368-7a827aaa5d6b"
      },
      "source": [
        "print(f'{len(base_model_disc.layers) - fine_tune_at_disc} layers fine-tuned at discriminator module')"
      ],
      "execution_count": null,
      "outputs": [
        {
          "output_type": "stream",
          "text": [
            "5 layers fine-tuned at discriminator module\n"
          ],
          "name": "stdout"
        }
      ]
    },
    {
      "cell_type": "code",
      "metadata": {
        "id": "0j63xQlYp0_6"
      },
      "source": [
        ""
      ],
      "execution_count": null,
      "outputs": []
    },
    {
      "cell_type": "code",
      "metadata": {
        "id": "gOUWK3mc4ASy"
      },
      "source": [
        "prediction_layer = tf.keras.layers.Dense(1)"
      ],
      "execution_count": null,
      "outputs": []
    },
    {
      "cell_type": "code",
      "metadata": {
        "id": "5ZIr4xHs4AW-"
      },
      "source": [
        "global_average_layer = tf.keras.layers.GlobalAveragePooling2D()"
      ],
      "execution_count": null,
      "outputs": []
    },
    {
      "cell_type": "code",
      "metadata": {
        "id": "cGkPavlnAVte"
      },
      "source": [
        ""
      ],
      "execution_count": null,
      "outputs": []
    },
    {
      "cell_type": "code",
      "metadata": {
        "id": "KhC_gomoZhwp",
        "colab": {
          "base_uri": "https://localhost:8080/",
          "height": 839
        },
        "outputId": "9ecabb55-1815-420f-edff-3f927c57f4bf"
      },
      "source": [
        "# example of defining the discriminator model\n",
        "from keras.models import Sequential\n",
        "from keras.optimizers import Adam\n",
        "from keras.layers import Dense\n",
        "from keras.layers import Conv2D\n",
        "from keras.layers import Flatten\n",
        "from keras.layers import Dropout\n",
        "from keras.layers import LeakyReLU\n",
        "from keras.utils.vis_utils import plot_model\n",
        "\n",
        "\n",
        "def define_discriminator():\n",
        "  inputs = tf.keras.Input(shape=(32, 32, 3))\n",
        "  #x = data_augmentation(inputs)\n",
        "  #x = preprocess_input(x)\n",
        "  x = base_model_disc(inputs, training=False)\n",
        "  x = global_average_layer(x)\n",
        "  x = tf.keras.layers.Dropout(0.2)(x)\n",
        "  outputs = prediction_layer(x)\n",
        "  model = tf.keras.Model(inputs, outputs)\n",
        "\n",
        "  return model\n",
        "\n",
        "\n",
        " \n",
        "# define the standalone discriminator model\n",
        "def define_discriminator2(in_shape=(img_width, img_height, C)):\n",
        " model = Sequential()\n",
        " model.add(Conv2D(64, (5,5), strides=(2, 2), padding='same', input_shape=in_shape))\n",
        " model.add(LeakyReLU(alpha=0.2))\n",
        " model.add(Dropout(0.4))\n",
        " model.add(Conv2D(128, (5,5), strides=(2, 2), padding='same'))\n",
        " model.add(LeakyReLU(alpha=0.2))\n",
        " model.add(Dropout(0.4))\n",
        " model.add(Flatten())\n",
        " model.add(Dense(1, activation='sigmoid'))\n",
        " # compile model\n",
        " #opt = Adam(lr=0.0002, beta_1=0.5)\n",
        " #model.compile(loss='binary_crossentropy', optimizer=opt, metrics=['accuracy'])\n",
        " return model\n",
        " \n",
        "# define discriminator model\n",
        "discriminator = define_discriminator()\n",
        "# summarize the model\n",
        "discriminator.summary()\n",
        "# plot the model\n",
        "plot_model(discriminator, to_file='discriminator_plot.png', show_shapes=True, show_layer_names=True)"
      ],
      "execution_count": null,
      "outputs": [
        {
          "output_type": "stream",
          "text": [
            "Model: \"model_1\"\n",
            "_________________________________________________________________\n",
            "Layer (type)                 Output Shape              Param #   \n",
            "=================================================================\n",
            "input_3 (InputLayer)         [(None, 32, 32, 3)]       0         \n",
            "_________________________________________________________________\n",
            "densenet121 (Functional)     (None, 1, 1, 1024)        7037504   \n",
            "_________________________________________________________________\n",
            "global_average_pooling2d_1 ( (None, 1024)              0         \n",
            "_________________________________________________________________\n",
            "dropout (Dropout)            (None, 1024)              0         \n",
            "_________________________________________________________________\n",
            "dense_1 (Dense)              (None, 1)                 1025      \n",
            "=================================================================\n",
            "Total params: 7,038,529\n",
            "Trainable params: 39,937\n",
            "Non-trainable params: 6,998,592\n",
            "_________________________________________________________________\n"
          ],
          "name": "stdout"
        },
        {
          "output_type": "execute_result",
          "data": {
            "image/png": "[encoded data removed]",
            "text/plain": [
              "<IPython.core.display.Image object>"
            ]
          },
          "metadata": {
            "tags": []
          },
          "execution_count": 66
        }
      ]
    },
    {
      "cell_type": "code",
      "metadata": {
        "id": "u1lRmOOsbGh3"
      },
      "source": [
        ""
      ],
      "execution_count": null,
      "outputs": []
    },
    {
      "cell_type": "code",
      "metadata": {
        "id": "wHdpzCmbbGmF",
        "colab": {
          "base_uri": "https://localhost:8080/"
        },
        "outputId": "dfde08dd-3a64-4b03-a372-0aa532a13a5d"
      },
      "source": [
        "decision = discriminator(generated_image)\n",
        "print(decision)"
      ],
      "execution_count": null,
      "outputs": [
        {
          "output_type": "stream",
          "text": [
            "tf.Tensor(\n",
            "[[-1.4751855]\n",
            " [-2.2542408]], shape=(2, 1), dtype=float32)\n"
          ],
          "name": "stdout"
        }
      ]
    },
    {
      "cell_type": "code",
      "metadata": {
        "id": "DB5sg7RXEZYj",
        "colab": {
          "base_uri": "https://localhost:8080/"
        },
        "outputId": "e3ae1e67-d2b4-4256-dcf5-3af4602b2116"
      },
      "source": [
        "len(decision)"
      ],
      "execution_count": null,
      "outputs": [
        {
          "output_type": "execute_result",
          "data": {
            "text/plain": [
              "2"
            ]
          },
          "metadata": {
            "tags": []
          },
          "execution_count": 68
        }
      ]
    },
    {
      "cell_type": "markdown",
      "metadata": {
        "id": "Qs_S3MejNCHX"
      },
      "source": [
        "## Testing Abnormal data with discriminator ##"
      ]
    },
    {
      "cell_type": "code",
      "metadata": {
        "id": "5dlujBYpF-fW"
      },
      "source": [
        "abn_data = np.expand_dims(abnormal_data[0][-1], axis=0)"
      ],
      "execution_count": null,
      "outputs": []
    },
    {
      "cell_type": "code",
      "metadata": {
        "id": "2S2qAFqlEvzm",
        "colab": {
          "base_uri": "https://localhost:8080/"
        },
        "outputId": "deb14afa-410d-4a3d-91fa-1ca829254f89"
      },
      "source": [
        "decision = discriminator(abn_data)\n",
        "print(decision) # discriminator decision should be close to 0"
      ],
      "execution_count": null,
      "outputs": [
        {
          "output_type": "stream",
          "text": [
            "tf.Tensor([[-4.079935]], shape=(1, 1), dtype=float32)\n"
          ],
          "name": "stdout"
        }
      ]
    },
    {
      "cell_type": "code",
      "metadata": {
        "id": "v8Wo5Nf5wCva",
        "colab": {
          "base_uri": "https://localhost:8080/"
        },
        "outputId": "a7c3a899-4806-49e7-9650-7e3171400426"
      },
      "source": [
        "type(abn_data)"
      ],
      "execution_count": null,
      "outputs": [
        {
          "output_type": "execute_result",
          "data": {
            "text/plain": [
              "numpy.ndarray"
            ]
          },
          "metadata": {
            "tags": []
          },
          "execution_count": 71
        }
      ]
    },
    {
      "cell_type": "code",
      "metadata": {
        "id": "28CZSdQzbGu3",
        "colab": {
          "base_uri": "https://localhost:8080/",
          "height": 283
        },
        "outputId": "448eabf4-cbb7-4618-b701-be0d0c2f7146"
      },
      "source": [
        "plt.imshow(tf.squeeze(abn_data))"
      ],
      "execution_count": null,
      "outputs": [
        {
          "output_type": "execute_result",
          "data": {
            "text/plain": [
              "<matplotlib.image.AxesImage at 0x7fefa3354c90>"
            ]
          },
          "metadata": {
            "tags": []
          },
          "execution_count": 72
        },
        {
          "output_type": "display_data",
          "data": {
            "image/png": "[encoded data removed]",
            "text/plain": [
              "<Figure size 432x288 with 1 Axes>"
            ]
          },
          "metadata": {
            "tags": [],
            "needs_background": "light"
          }
        }
      ]
    },
    {
      "cell_type": "code",
      "metadata": {
        "id": "S4DCvenAKh0x",
        "colab": {
          "base_uri": "https://localhost:8080/"
        },
        "outputId": "60df6519-7741-4a2f-ef09-ba39bfde88f4"
      },
      "source": [
        "train_images[0].shape"
      ],
      "execution_count": null,
      "outputs": [
        {
          "output_type": "execute_result",
          "data": {
            "text/plain": [
              "(32, 32, 3)"
            ]
          },
          "metadata": {
            "tags": []
          },
          "execution_count": 73
        }
      ]
    },
    {
      "cell_type": "markdown",
      "metadata": {
        "id": "jwJpR577MX0z"
      },
      "source": [
        "## Testing Normal data with discriminator ##"
      ]
    },
    {
      "cell_type": "code",
      "metadata": {
        "id": "AN_M5tHIKA2V"
      },
      "source": [
        "nor_data = np.expand_dims(train_images[-1], axis=0)"
      ],
      "execution_count": null,
      "outputs": []
    },
    {
      "cell_type": "code",
      "metadata": {
        "id": "JPd_QFwnKA6P",
        "colab": {
          "base_uri": "https://localhost:8080/"
        },
        "outputId": "06397710-b079-45b9-9025-5eeef32b9a46"
      },
      "source": [
        "decision = discriminator(nor_data)\n",
        "print(decision) # discriminator decision should be close to 1"
      ],
      "execution_count": null,
      "outputs": [
        {
          "output_type": "stream",
          "text": [
            "tf.Tensor([[-2.8760238]], shape=(1, 1), dtype=float32)\n"
          ],
          "name": "stdout"
        }
      ]
    },
    {
      "cell_type": "code",
      "metadata": {
        "id": "UInXhBIZKA-f",
        "colab": {
          "base_uri": "https://localhost:8080/",
          "height": 283
        },
        "outputId": "83d64d0f-5d8b-4cf6-c962-5ad5bf5de694"
      },
      "source": [
        "plt.imshow(tf.squeeze(nor_data))"
      ],
      "execution_count": null,
      "outputs": [
        {
          "output_type": "execute_result",
          "data": {
            "text/plain": [
              "<matplotlib.image.AxesImage at 0x7fefa32cc950>"
            ]
          },
          "metadata": {
            "tags": []
          },
          "execution_count": 77
        },
        {
          "output_type": "display_data",
          "data": {
            "image/png": "[encoded data removed]",
            "text/plain": [
              "<Figure size 432x288 with 1 Axes>"
            ]
          },
          "metadata": {
            "tags": [],
            "needs_background": "light"
          }
        }
      ]
    },
    {
      "cell_type": "code",
      "metadata": {
        "id": "rhgWJhlpGzYI"
      },
      "source": [
        ""
      ],
      "execution_count": null,
      "outputs": []
    },
    {
      "cell_type": "code",
      "metadata": {
        "id": "tGgpbeW2qTXK"
      },
      "source": [
        "# This method returns a helper function to compute cross entropy loss\n",
        "cross_entropy = tf.keras.losses.BinaryCrossentropy(from_logits = True)\n",
        "\n",
        "\"\"\"\n",
        "Discriminator Loss\n",
        "\n",
        "This method quantifies how well the discriminator is able to distinguish real images from fakes. It compares the discriminator's predicitions on real images to an array of 1s\n",
        "and the dicriminator's predicitons on fake (generated) images to an array of 0s.\n",
        "\"\"\"\n",
        "@tf.function\n",
        "def discriminator_loss(real_output, fake_output):\n",
        "  real_loss = cross_entropy(tf.ones_like(real_output), real_output)\n",
        "  fake_loss = cross_entropy(tf.zeros_like(fake_output), fake_output)\n",
        "\n",
        "  #abnormal_loss = cross_entropy(tf.zeros_like(abnormal_output), abnormal_output)\n",
        "\n",
        "  #total_loss = real_loss + fake_loss + abnormal_loss\n",
        "  total_loss = real_loss + fake_loss\n",
        "  \n",
        "  return total_loss\n",
        "\n",
        "\"\"\"\n",
        "Generator Loss\n",
        "\n",
        "The generator's loss quantifies how well it was able to trick the discrimator. Intuitively, if the generator is performing well, the discriminator will classify the fake images as real (or 1).\n",
        "Here, we will compare the discriminators decisions on the generated images to an array of 1s.\n",
        "\"\"\"\n",
        "@tf.function\n",
        "def generator_loss(fake_output):\n",
        "  # pick abnormal image at random for optimization\n",
        "  i = random.randint(0, len(abnormal_data))\n",
        "  print(f'i = {i}')\n",
        "\n",
        "  loss_1 = cross_entropy(tf.ones_like(fake_output), fake_output)\n",
        "  #loss_2 = cross_entropy(tf.ones_like(abnormal_data[0][i]), abnormal_data[0][i])\n",
        "  #loss_2 = cross_entropy(tf.ones_like(generated_images[i]), abnormal_data[0][i])\n",
        "  #loss_2 = cross_entropy(tf.zeros_like(abnormal_output), abnormal_output)\n",
        "  total_loss = loss_1\n",
        "  return total_loss\n",
        "\n",
        "\"\"\"\n",
        "The discriminator and the generator optimizers are different since we will train two networks separately.\n",
        "The Adam optimization algorithm is an extension to stochastic gradient descent.\n",
        "Stochastic gradient descent maintains a single learning rate (termed alpha) for all weight updates and the learning rate does not change during training.\n",
        "A learning rate is maintained for each network weight (parameter) and separately adapted as learning unfolds.\n",
        "\n",
        "\"\"\"\n",
        "generator_optimizer = tf.keras.optimizers.Adam(1e-4)\n",
        "discriminator_optimizer = tf.keras.optimizers.Adam(1e-4)"
      ],
      "execution_count": null,
      "outputs": []
    },
    {
      "cell_type": "code",
      "metadata": {
        "id": "5XuWcKeCqTXL"
      },
      "source": [
        "checkpoint_dir = \"./training_checkpoints\"\n",
        "checkpoint_prefix = os.path.join(checkpoint_dir, \"ckpt\")\n",
        "checkpoint = tf.train.Checkpoint(generator_optimizer = generator_optimizer,\n",
        "                                 discriminator_optimizer = discriminator_optimizer,\n",
        "                                 generator = encoder_generator_network,\n",
        "                                 discriminator = discriminator)"
      ],
      "execution_count": null,
      "outputs": []
    },
    {
      "cell_type": "code",
      "metadata": {
        "id": "i6JEwKwVqTXM",
        "colab": {
          "base_uri": "https://localhost:8080/",
          "height": 35
        },
        "outputId": "19ce52b7-f5e5-4733-b27d-f765807e0f63"
      },
      "source": [
        "checkpoint_prefix"
      ],
      "execution_count": null,
      "outputs": [
        {
          "output_type": "execute_result",
          "data": {
            "application/vnd.google.colaboratory.intrinsic+json": {
              "type": "string"
            },
            "text/plain": [
              "'./training_checkpoints/ckpt'"
            ]
          },
          "metadata": {
            "tags": []
          },
          "execution_count": 80
        }
      ]
    },
    {
      "cell_type": "code",
      "metadata": {
        "id": "8WQJ798IqTXM"
      },
      "source": [
        "# We will reuse this seed overtime (so it's easier) to visualize progress in the animated GIF\n",
        "#tf.random.set_seed(1234)\n",
        "noise_dim = 100\n",
        "num_examples_to_generate = 16\n",
        "#seed = tf.random.normal([num_examples_to_generate, noise_dim], seed=1)"
      ],
      "execution_count": null,
      "outputs": []
    },
    {
      "cell_type": "code",
      "metadata": {
        "id": "ZbdY3pjYqTXM"
      },
      "source": [
        "EPOCHS = 100"
      ],
      "execution_count": null,
      "outputs": []
    },
    {
      "cell_type": "code",
      "metadata": {
        "id": "M9rv9o_yqTXM"
      },
      "source": [
        "\"\"\"\n",
        "The training loop begins with generator receiving a random seed as input. \n",
        "That seed is used to produce an image. The discriminator is then used to classify real images (drawn from the training set) and fakes images (produced by the generator). \n",
        "The loss is calculated for each of these models, and the gradients are used to update the generator and discriminator.\n",
        "\"\"\"\n",
        "\n",
        "# Notice the use of tf.function\n",
        "# This annotation causes the function to be \"compiled\"\n",
        "def train_step(images):\n",
        "    #noise = tf.random.normal([BATCH_SIZE, noise_dim])\n",
        "    \n",
        "    # take the image links and return a cropped image\n",
        "    # new_images = []\n",
        "    # for file_name in images:\n",
        "    #     #new_pic = load_image( path + file_name)\n",
        "    #     #new_images.append(new_pic)\n",
        "    #     new_images.append(file_name)\n",
        "    \n",
        "    # images = np.array(new_images)\n",
        "    #images = images.reshape(images.shape[0], img_width, img_height, C).astype('float32') # puts each number in its own numpy array so instead of [1,2,3] gonna be [[1], [2], [3]]\n",
        "    #images = (images) / 255 # normalize to [0,1]\n",
        "    \n",
        "\n",
        "\n",
        "    \"\"\"\n",
        "GradientTape() Records operations for automatic differentiation. Operations are recorded if \n",
        "they are executed within this context manager and at least one of their inputs is being \"watched\".\n",
        "    \"\"\"\n",
        "    with tf.GradientTape() as gen_tape, tf.GradientTape() as disc_tape:\n",
        "      generated_images = encoder_generator_network(abnormal_data, training=True)\n",
        "\n",
        "      real_output = discriminator(images, training=True) # images constist of only normal samples\n",
        "      #abnormal_output = discriminator(abnormal_data, training=True) # abnormal_data constist of only abnormal samples\n",
        "      fake_output = discriminator(generated_images, training=True)\n",
        "\n",
        "      #gen_loss = generator_loss(generated_images=generated_images, fake_output=fake_output)\n",
        "      gen_loss = generator_loss(fake_output=fake_output)\n",
        "      disc_loss = discriminator_loss(real_output, fake_output)\n",
        "    \n",
        "    gradients_of_generator = gen_tape.gradient(gen_loss, encoder_generator_network.trainable_variables)\n",
        "    gradients_of_discriminator = disc_tape.gradient(disc_loss, discriminator.trainable_variables)\n",
        "\n",
        "    generator_optimizer.apply_gradients(zip(gradients_of_generator, encoder_generator_network.trainable_variables)) # The zip() function returns an iterator of tuples based on the iterable object.\n",
        "    discriminator_optimizer.apply_gradients(zip(gradients_of_discriminator, discriminator.trainable_variables))\n",
        "    \n",
        "    images = None"
      ],
      "execution_count": null,
      "outputs": []
    },
    {
      "cell_type": "code",
      "metadata": {
        "id": "oGKJlanCqTXN"
      },
      "source": [
        "# ended at 20 epocsh"
      ],
      "execution_count": null,
      "outputs": []
    },
    {
      "cell_type": "code",
      "metadata": {
        "id": "i5kQUhUCgQHZ"
      },
      "source": [
        ""
      ],
      "execution_count": null,
      "outputs": []
    },
    {
      "cell_type": "code",
      "metadata": {
        "id": "-agqOOiHgQL0"
      },
      "source": [
        "  # To plot model performance at various epochs on abnormal and normal samples\n",
        "  chart_abnormal = []\n",
        "  chart_normal = []\n",
        "  chart_epoch = []"
      ],
      "execution_count": null,
      "outputs": []
    },
    {
      "cell_type": "code",
      "metadata": {
        "id": "iPpId52ejiJG"
      },
      "source": [
        ""
      ],
      "execution_count": null,
      "outputs": []
    },
    {
      "cell_type": "code",
      "metadata": {
        "id": "Z4wqVQodTLi5"
      },
      "source": [
        "def discriminator_inference(X_test_abnormal, X_test_normal, epoch):\n",
        "  \"\"\"function to calculate discriminator score on text data\"\"\"\n",
        "  print(f'Abnormal-count{\"Normal-count\":>17}')\n",
        "  # print(f'{len(predictions_abnormal_test[0]):>14}{len(decision_test_normal[0]):>14}')\n",
        "\n",
        "  # save model to disk at every epoch\n",
        "  discriminator.save(f'{time_stamp}/{epoch}.h5')\n",
        "\n",
        "  predictions_abnormal_test = []\n",
        "\n",
        "  # # To plot model performance at various epochs on abnormal and normal samples\n",
        "  # chart_abnormal = []\n",
        "  # chart_normal = []\n",
        "  # chart_epoch = []\n",
        "\n",
        "  for index, data in enumerate(abnormal_data_test[0]):\n",
        "    abn_data_2 = abnormal_data_test[0][index]\n",
        "    predictions_abnormal_test.append(discriminator(abn_data_2))\n",
        "\n",
        "\n",
        "  count_test_abnormal = 0\n",
        "\n",
        "  for ind, _ in enumerate(predictions_abnormal_test[0]):\n",
        "    if (tf.keras.backend.get_value(predictions_abnormal_test[0][ind])) < 0: # setting a threshold of 0.9\n",
        "      count_test_abnormal += 1\n",
        "\n",
        "  print('Abnormal correct count: ', count_test_abnormal)\n",
        "\n",
        "\n",
        "  decision_test_normal = []\n",
        "\n",
        "  for index, img in enumerate(test_normal_ds):\n",
        "    decision = discriminator(img)\n",
        "    decision_test_normal.append(decision)\n",
        "    #print(decision) # discriminator decision should be close to 1\n",
        "\n",
        "\n",
        "  count_test_normal = 0\n",
        "\n",
        "  for ind, _ in enumerate(decision_test_normal[0]):\n",
        "    if (tf.keras.backend.get_value(decision_test_normal[0][ind]))[0] >= 0: # setting a threshold of 0.9\n",
        "      #print(decision_test_normal[ind])\n",
        "      count_test_normal += 1\n",
        "  print('Normal correct count: ', count_test_normal)\n",
        "\n",
        "\n",
        "  chart_abnormal.append(count_test_abnormal)\n",
        "  chart_normal.append(count_test_normal)\n",
        "  chart_epoch.append(epoch)\n",
        "\n",
        "  # return (chart_abnormal, chart_normal, chart_epoch)"
      ],
      "execution_count": null,
      "outputs": []
    },
    {
      "cell_type": "code",
      "metadata": {
        "id": "dS4RhZzLgQQe"
      },
      "source": [
        ""
      ],
      "execution_count": null,
      "outputs": []
    },
    {
      "cell_type": "code",
      "metadata": {
        "id": "fOw6GeCPqTXN"
      },
      "source": [
        "#@tf.function\n",
        "def train(dataset, epochs):  \n",
        "  tf.print(\"Starting man!\")\n",
        "  for epoch in range(epochs):\n",
        "    start = time.time()\n",
        "    tf.print(\"Starting Epoch:\", epoch)\n",
        "    batch_count = 1\n",
        "    for image_batch in dataset:\n",
        "      #tf.print(\"Batch:\", batch_count)\n",
        "      train_step(image_batch)\n",
        "      #print(\"Batch:\", batch_count, \"Complete\")\n",
        "      batch_count += 1\n",
        "    \n",
        "\n",
        "    # Produce images for the GIF as we go\n",
        "    display.clear_output(wait=True)\n",
        "    generate_and_save_images(encoder_generator_network,\n",
        "                             epoch + 1,\n",
        "                             abnormal_data)\n",
        "    \n",
        "    tf.print(\"Epoch:\", epoch, \"finished\")\n",
        "    tf.print()\n",
        "    \n",
        "    # Save the model every epochs\n",
        "    #checkpoint.save(file_prefix = checkpoint_prefix)\n",
        "    \n",
        "    tf.print ('Time for epoch {} is {} sec'.format(epoch + 1, time.time()-start))\n",
        "    if epoch % EPOCHS == 0:\n",
        "       checkpoint.save(file_prefix = checkpoint_prefix)  \n",
        "  # Generate after the final epoch\n",
        "  display.clear_output(wait=True)\n",
        "  generate_and_save_images(encoder_generator_network,\n",
        "                           epochs,\n",
        "                           abnormal_data)"
      ],
      "execution_count": null,
      "outputs": []
    },
    {
      "cell_type": "code",
      "metadata": {
        "id": "x_SpCmhRqTXN"
      },
      "source": [
        "def generate_and_save_images(model, epoch, test_input):\n",
        "  # Notice `training` is set to False. \n",
        "  # This is so all layers run in inference mode (batchnorm).\n",
        "  predictions = model(abnormal_data, training=False).numpy()\n",
        "\n",
        "  fig = plt.figure(figsize=(150,150))\n",
        "  print(f'No of predictions: {predictions.shape[0]}')\n",
        "\n",
        "  #plt.imshow(tf.squeeze(predictions[0]), cmap='gray')\n",
        "\n",
        "  discriminator_inference(X_test_abnormal, X_test_normal, epoch)\n",
        "  \n",
        "  for i in range(1):\n",
        "      plt.subplot(1, 1, i+1)\n",
        "      plt.imshow(tf.squeeze(predictions[i]))\n",
        "      #plt.axis('off')\n",
        "\n",
        "      # discriminator_inference(X_test_abnormal, X_test_normal, epoch)\n",
        "      if epoch % 2 == 0:\n",
        "        pass\n",
        "        #discriminator_inference(X_test_abnormal, X_test_normal, epoch)\n",
        "        # plot_model_performance(ch_abnormal, ch_normal, ch_epoch)      \n",
        "         #plt.savefig('image_at_epoch_{:04d}.png'.format(epoch))\n",
        "  plt.show()"
      ],
      "execution_count": null,
      "outputs": []
    },
    {
      "cell_type": "code",
      "metadata": {
        "id": "Z3B269zHqTXN"
      },
      "source": [
        "from IPython.display import Image\n",
        "#Image(filename='image_at_epoch_0060.png') "
      ],
      "execution_count": null,
      "outputs": []
    },
    {
      "cell_type": "code",
      "metadata": {
        "id": "GXCpnJUAL7tV",
        "colab": {
          "base_uri": "https://localhost:8080/"
        },
        "outputId": "90362d5c-2fc2-4125-89b6-983a6dd76ab3"
      },
      "source": [
        "type(train_normal_dataset)"
      ],
      "execution_count": null,
      "outputs": [
        {
          "output_type": "execute_result",
          "data": {
            "text/plain": [
              "tensorflow.python.data.ops.dataset_ops.BatchDataset"
            ]
          },
          "metadata": {
            "tags": []
          },
          "execution_count": 90
        }
      ]
    },
    {
      "cell_type": "code",
      "metadata": {
        "id": "uU8vILfOqTXO",
        "colab": {
          "base_uri": "https://localhost:8080/",
          "height": 1000
        },
        "outputId": "854bec34-2810-4264-caa0-0176d7a0cf1d"
      },
      "source": [
        "%%time\n",
        "train(train_normal_dataset, EPOCHS) # train on first 1000 normal samples"
      ],
      "execution_count": null,
      "outputs": [
        {
          "output_type": "stream",
          "text": [
            "No of predictions: 2\n",
            "Abnormal-count     Normal-count\n",
            "Abnormal correct count:  817\n",
            "Normal correct count:  262\n"
          ],
          "name": "stdout"
        },
        {
          "output_type": "display_data",
          "data": {
            "image/png": "[encoded data removed]",
            "text/plain": [
              "<Figure size 10800x10800 with 1 Axes>"
            ]
          },
          "metadata": {
            "tags": [],
            "needs_background": "light"
          }
        },
        {
          "output_type": "stream",
          "text": [
            "CPU times: user 31min 47s, sys: 24.1 s, total: 32min 11s\n",
            "Wall time: 31min 54s\n"
          ],
          "name": "stdout"
        }
      ]
    },
    {
      "cell_type": "code",
      "metadata": {
        "id": "V1KtwqNmqTXO",
        "colab": {
          "base_uri": "https://localhost:8080/"
        },
        "outputId": "6b23fa54-d9a9-46cc-a8e9-b25e90710500"
      },
      "source": [
        "checkpoint.restore(tf.train.latest_checkpoint(checkpoint_dir))"
      ],
      "execution_count": null,
      "outputs": [
        {
          "output_type": "execute_result",
          "data": {
            "text/plain": [
              "<tensorflow.python.training.tracking.util.CheckpointLoadStatus at 0x7fefa3428610>"
            ]
          },
          "metadata": {
            "tags": []
          },
          "execution_count": 92
        }
      ]
    },
    {
      "cell_type": "code",
      "metadata": {
        "id": "ThrOF6wxqTXO",
        "colab": {
          "base_uri": "https://localhost:8080/"
        },
        "outputId": "d806b729-c440-4aa5-e250-71b7959f7e57"
      },
      "source": [
        "!ls ../"
      ],
      "execution_count": null,
      "outputs": [
        {
          "output_type": "stream",
          "text": [
            "1617065113  1617219949\t1617222961\t\t\t    notebooks\n",
            "1617067974  1617220526\t1617223055\t\t\t    tackle-sport-video\n",
            "1617069519  1617221121\t1617223164\t\t\t    visualizations\n",
            "1617070002  1617221331\tdata_chexpert\n",
            "1617070888  1617222794\tGAN-Ensemble-for-Anomaly-Detection\n"
          ],
          "name": "stdout"
        }
      ]
    },
    {
      "cell_type": "markdown",
      "metadata": {
        "id": "Q5Pol3l_O5ma"
      },
      "source": [
        "## Inferencing Discriminator on X_test ##"
      ]
    },
    {
      "cell_type": "code",
      "metadata": {
        "id": "qBsAAeCRZISM"
      },
      "source": [
        ""
      ],
      "execution_count": null,
      "outputs": []
    },
    {
      "cell_type": "code",
      "metadata": {
        "id": "2mrlYSlXZIYM"
      },
      "source": [
        ""
      ],
      "execution_count": null,
      "outputs": []
    },
    {
      "cell_type": "code",
      "metadata": {
        "id": "mDoDkereTLre"
      },
      "source": [
        ""
      ],
      "execution_count": null,
      "outputs": []
    },
    {
      "cell_type": "code",
      "metadata": {
        "id": "NN8jt3PLaOyJ"
      },
      "source": [
        "def plot_model_performance(ch_abnormal, ch_normal, ch_epoch):\n",
        "  \"\"\" the function plots abnormal and normal model performance at varying epochs\"\"\"\n",
        "  plt.title('Model performance on test data')\n",
        "  plt.xlabel('epochs')\n",
        "  plt.ylabel('samples correctly classified')\n",
        "  plt.plot(ch_epoch, ch_abnormal, label='Abnormal')\n",
        "  plt.plot(ch_epoch, ch_normal, label='Normal')\n",
        "  plt.legend()\n",
        "  plt.grid()\n",
        "  plt.show()"
      ],
      "execution_count": null,
      "outputs": []
    },
    {
      "cell_type": "code",
      "metadata": {
        "id": "E7aLC6RPaO2K"
      },
      "source": [
        ""
      ],
      "execution_count": null,
      "outputs": []
    },
    {
      "cell_type": "code",
      "metadata": {
        "colab": {
          "base_uri": "https://localhost:8080/",
          "height": 295
        },
        "id": "liyUN2FRgmuZ",
        "outputId": "d6baf224-c1f6-42a6-fb50-3cb89bc81ece"
      },
      "source": [
        "plot_model_performance(chart_abnormal, chart_normal, chart_epoch)"
      ],
      "execution_count": null,
      "outputs": [
        {
          "output_type": "display_data",
          "data": {
            "image/png": "[encoded data removed]",
            "text/plain": [
              "<Figure size 432x288 with 1 Axes>"
            ]
          },
          "metadata": {
            "tags": [],
            "needs_background": "light"
          }
        }
      ]
    },
    {
      "cell_type": "code",
      "metadata": {
        "id": "nm00hQ0Bgm0N",
        "colab": {
          "base_uri": "https://localhost:8080/"
        },
        "outputId": "bb829e21-f192-4c2a-b7a4-e40903a88606"
      },
      "source": [
        " print(chart_abnormal)\n",
        "  "
      ],
      "execution_count": null,
      "outputs": [
        {
          "output_type": "stream",
          "text": [
            "[879, 781, 663, 553, 486, 408, 363, 329, 322, 327, 339, 347, 367, 389, 403, 414, 416, 432, 451, 494, 560, 649, 762, 835, 855, 853, 844, 836, 815, 792, 764, 726, 692, 677, 666, 676, 683, 682, 673, 662, 650, 636, 630, 617, 610, 615, 631, 659, 677, 691, 714, 772, 827, 875, 911, 934, 941, 942, 939, 937, 948, 967, 976, 985, 988, 987, 986, 987, 989, 989, 985, 974, 963, 951, 939, 931, 927, 921, 912, 906, 899, 886, 882, 878, 889, 893, 896, 886, 874, 861, 832, 820, 814, 809, 806, 811, 804, 807, 818, 817, 817]\n"
          ],
          "name": "stdout"
        }
      ]
    },
    {
      "cell_type": "code",
      "metadata": {
        "colab": {
          "base_uri": "https://localhost:8080/"
        },
        "id": "pLrolxcurDWy",
        "outputId": "f64cdba9-6a85-4df2-8e62-0435335a9baa"
      },
      "source": [
        "print(chart_normal)\n"
      ],
      "execution_count": null,
      "outputs": [
        {
          "output_type": "stream",
          "text": [
            "[186, 336, 474, 593, 678, 741, 790, 810, 813, 814, 813, 806, 798, 789, 772, 765, 757, 755, 738, 697, 625, 510, 402, 288, 252, 263, 270, 289, 311, 350, 393, 424, 448, 478, 496, 490, 482, 482, 494, 510, 521, 534, 555, 571, 583, 575, 559, 541, 524, 512, 480, 407, 332, 238, 168, 126, 108, 96, 97, 96, 78, 55, 38, 21, 18, 20, 18, 20, 19, 21, 21, 34, 43, 53, 66, 76, 85, 95, 107, 117, 126, 143, 156, 162, 151, 143, 147, 149, 170, 178, 196, 211, 226, 235, 239, 247, 252, 247, 251, 262, 262]\n"
          ],
          "name": "stdout"
        }
      ]
    },
    {
      "cell_type": "code",
      "metadata": {
        "colab": {
          "base_uri": "https://localhost:8080/"
        },
        "id": "fDaAyZI4rDa7",
        "outputId": "696d2823-8430-4b6e-b568-1124d25af8fa"
      },
      "source": [
        "print(chart_epoch)"
      ],
      "execution_count": null,
      "outputs": [
        {
          "output_type": "stream",
          "text": [
            "[1, 2, 3, 4, 5, 6, 7, 8, 9, 10, 11, 12, 13, 14, 15, 16, 17, 18, 19, 20, 21, 22, 23, 24, 25, 26, 27, 28, 29, 30, 31, 32, 33, 34, 35, 36, 37, 38, 39, 40, 41, 42, 43, 44, 45, 46, 47, 48, 49, 50, 51, 52, 53, 54, 55, 56, 57, 58, 59, 60, 61, 62, 63, 64, 65, 66, 67, 68, 69, 70, 71, 72, 73, 74, 75, 76, 77, 78, 79, 80, 81, 82, 83, 84, 85, 86, 87, 88, 89, 90, 91, 92, 93, 94, 95, 96, 97, 98, 99, 100, 100]\n"
          ],
          "name": "stdout"
        }
      ]
    },
    {
      "cell_type": "code",
      "metadata": {
        "id": "IPJErxl2rDen"
      },
      "source": [
        ""
      ],
      "execution_count": null,
      "outputs": []
    },
    {
      "cell_type": "code",
      "metadata": {
        "id": "l5wSfh7zPjLC"
      },
      "source": [
        ""
      ],
      "execution_count": null,
      "outputs": []
    },
    {
      "cell_type": "code",
      "metadata": {
        "id": "K4_Umf5CTML6"
      },
      "source": [
        "ch_minority = chart_abnormal\n",
        "ch_majority = chart_normal"
      ],
      "execution_count": null,
      "outputs": []
    },
    {
      "cell_type": "code",
      "metadata": {
        "id": "i8nFqnstdjEj"
      },
      "source": [
        "ch_epoch = [1, 2, 3, 4, 5, 6, 7, 8, 9, 10, 11, 12, 13, 14, 15, 16, 17, 18, 19, 20, 21, 22, 23, 24, 25, 26, 27, 28, 29, 30, 31, 32, 33, 34, 35, 36, 37, 38, 39, 40, 41, 42, 43, 44, 45, 46, 47, 48, 49, 50, 51, 52, 53, 54, 55, 56, 57, 58, 59, 60, 61, 62, 63, 64, 65, 66, 67, 68, 69, 70, 71, 72, 73, 74, 75, 76, 77, 78, 79, 80, 81, 82, 83, 84, 85, 86, 87, 88, 89, 90, 91, 92, 93, 94, 95, 96, 97, 98, 99, 100, 100]"
      ],
      "execution_count": null,
      "outputs": []
    },
    {
      "cell_type": "code",
      "metadata": {
        "id": "yWp-chdekI8O"
      },
      "source": [
        ""
      ],
      "execution_count": null,
      "outputs": []
    },
    {
      "cell_type": "code",
      "metadata": {
        "colab": {
          "base_uri": "https://localhost:8080/"
        },
        "id": "PGQW8L2nkJBA",
        "outputId": "8d977255-d9f2-44d4-86df-0c31a9541136"
      },
      "source": [
        "# print(f'EPOCH{\"PRECISION\":>12}{\"RECALL\":>7}{\"F1-SCORE\":>9}')\n",
        "print(f'EPOCH{\"PRECISION\":>12}{\"RECALL\":>7}{\"F1-SCORE\":>9}')\n",
        "\n",
        "precision_list = []\n",
        "recall_list = []\n",
        "f1_score_list = []\n",
        "\n",
        "\n",
        "epoch = 0\n",
        "while epoch < len(ch_minority):\n",
        "  true_positive = ch_minority[epoch]\n",
        "  true_negative = ch_majority[epoch]\n",
        "\n",
        "  false_positive = 1000 - true_negative\n",
        "  false_negative = 1000 - true_positive\n",
        "\n",
        "  precision = true_positive / (true_positive + false_positive)\n",
        "  recall = true_positive / (true_positive + false_negative)\n",
        "\n",
        "  f1_score = 2 * ((precision * recall) / (precision + recall))\n",
        "  precision_list.append(round(precision,2))\n",
        "  recall_list.append(round(recall, 2))\n",
        "  f1_score_list.append(round(f1_score, 2))\n",
        "\n",
        "  # print(f'{epoch+1:>5}{precision:.2f>14}{recall:.2f>9}{f1_score:.2f>11}')\n",
        "  print(f'{epoch+1:>5}  {precision:.2f}  {recall:.2f}  {f1_score:.2f}')\n",
        "  epoch += 1"
      ],
      "execution_count": null,
      "outputs": [
        {
          "output_type": "stream",
          "text": [
            "EPOCH   PRECISION RECALL F1-SCORE\n",
            "    1  0.52  0.88  0.65\n",
            "    2  0.54  0.78  0.64\n",
            "    3  0.56  0.66  0.61\n",
            "    4  0.58  0.55  0.56\n",
            "    5  0.60  0.49  0.54\n",
            "    6  0.61  0.41  0.49\n",
            "    7  0.63  0.36  0.46\n",
            "    8  0.63  0.33  0.43\n",
            "    9  0.63  0.32  0.43\n",
            "   10  0.64  0.33  0.43\n",
            "   11  0.64  0.34  0.44\n",
            "   12  0.64  0.35  0.45\n",
            "   13  0.64  0.37  0.47\n",
            "   14  0.65  0.39  0.49\n",
            "   15  0.64  0.40  0.49\n",
            "   16  0.64  0.41  0.50\n",
            "   17  0.63  0.42  0.50\n",
            "   18  0.64  0.43  0.52\n",
            "   19  0.63  0.45  0.53\n",
            "   20  0.62  0.49  0.55\n",
            "   21  0.60  0.56  0.58\n",
            "   22  0.57  0.65  0.61\n",
            "   23  0.56  0.76  0.65\n",
            "   24  0.54  0.83  0.66\n",
            "   25  0.53  0.85  0.66\n",
            "   26  0.54  0.85  0.66\n",
            "   27  0.54  0.84  0.66\n",
            "   28  0.54  0.84  0.66\n",
            "   29  0.54  0.81  0.65\n",
            "   30  0.55  0.79  0.65\n",
            "   31  0.56  0.76  0.64\n",
            "   32  0.56  0.73  0.63\n",
            "   33  0.56  0.69  0.62\n",
            "   34  0.56  0.68  0.62\n",
            "   35  0.57  0.67  0.61\n",
            "   36  0.57  0.68  0.62\n",
            "   37  0.57  0.68  0.62\n",
            "   38  0.57  0.68  0.62\n",
            "   39  0.57  0.67  0.62\n",
            "   40  0.57  0.66  0.62\n",
            "   41  0.58  0.65  0.61\n",
            "   42  0.58  0.64  0.61\n",
            "   43  0.59  0.63  0.61\n",
            "   44  0.59  0.62  0.60\n",
            "   45  0.59  0.61  0.60\n",
            "   46  0.59  0.61  0.60\n",
            "   47  0.59  0.63  0.61\n",
            "   48  0.59  0.66  0.62\n",
            "   49  0.59  0.68  0.63\n",
            "   50  0.59  0.69  0.63\n",
            "   51  0.58  0.71  0.64\n",
            "   52  0.57  0.77  0.65\n",
            "   53  0.55  0.83  0.66\n",
            "   54  0.53  0.88  0.66\n",
            "   55  0.52  0.91  0.66\n",
            "   56  0.52  0.93  0.67\n",
            "   57  0.51  0.94  0.66\n",
            "   58  0.51  0.94  0.66\n",
            "   59  0.51  0.94  0.66\n",
            "   60  0.51  0.94  0.66\n",
            "   61  0.51  0.95  0.66\n",
            "   62  0.51  0.97  0.66\n",
            "   63  0.50  0.98  0.66\n",
            "   64  0.50  0.98  0.66\n",
            "   65  0.50  0.99  0.67\n",
            "   66  0.50  0.99  0.67\n",
            "   67  0.50  0.99  0.66\n",
            "   68  0.50  0.99  0.67\n",
            "   69  0.50  0.99  0.67\n",
            "   70  0.50  0.99  0.67\n",
            "   71  0.50  0.98  0.66\n",
            "   72  0.50  0.97  0.66\n",
            "   73  0.50  0.96  0.66\n",
            "   74  0.50  0.95  0.66\n",
            "   75  0.50  0.94  0.65\n",
            "   76  0.50  0.93  0.65\n",
            "   77  0.50  0.93  0.65\n",
            "   78  0.50  0.92  0.65\n",
            "   79  0.51  0.91  0.65\n",
            "   80  0.51  0.91  0.65\n",
            "   81  0.51  0.90  0.65\n",
            "   82  0.51  0.89  0.65\n",
            "   83  0.51  0.88  0.65\n",
            "   84  0.51  0.88  0.65\n",
            "   85  0.51  0.89  0.65\n",
            "   86  0.51  0.89  0.65\n",
            "   87  0.51  0.90  0.65\n",
            "   88  0.51  0.89  0.65\n",
            "   89  0.51  0.87  0.65\n",
            "   90  0.51  0.86  0.64\n",
            "   91  0.51  0.83  0.63\n",
            "   92  0.51  0.82  0.63\n",
            "   93  0.51  0.81  0.63\n",
            "   94  0.51  0.81  0.63\n",
            "   95  0.51  0.81  0.63\n",
            "   96  0.52  0.81  0.63\n",
            "   97  0.52  0.80  0.63\n",
            "   98  0.52  0.81  0.63\n",
            "   99  0.52  0.82  0.64\n",
            "  100  0.53  0.82  0.64\n",
            "  101  0.53  0.82  0.64\n"
          ],
          "name": "stdout"
        }
      ]
    },
    {
      "cell_type": "code",
      "metadata": {
        "id": "FNpiL4jeFzRJ"
      },
      "source": [
        ""
      ],
      "execution_count": null,
      "outputs": []
    },
    {
      "cell_type": "code",
      "metadata": {
        "id": "EQTciySjF4rL"
      },
      "source": [
        "# precision_list = []\n",
        "# recall_list = []\n",
        "# f1_score_list = []"
      ],
      "execution_count": null,
      "outputs": []
    },
    {
      "cell_type": "code",
      "metadata": {
        "colab": {
          "base_uri": "https://localhost:8080/"
        },
        "id": "1HVcUUTJF4vF",
        "outputId": "f285640e-ffdf-493e-f12b-02d222eb9ea1"
      },
      "source": [
        "print(precision_list)"
      ],
      "execution_count": null,
      "outputs": [
        {
          "output_type": "stream",
          "text": [
            "[0.52, 0.54, 0.56, 0.58, 0.6, 0.61, 0.63, 0.63, 0.63, 0.64, 0.64, 0.64, 0.64, 0.65, 0.64, 0.64, 0.63, 0.64, 0.63, 0.62, 0.6, 0.57, 0.56, 0.54, 0.53, 0.54, 0.54, 0.54, 0.54, 0.55, 0.56, 0.56, 0.56, 0.56, 0.57, 0.57, 0.57, 0.57, 0.57, 0.57, 0.58, 0.58, 0.59, 0.59, 0.59, 0.59, 0.59, 0.59, 0.59, 0.59, 0.58, 0.57, 0.55, 0.53, 0.52, 0.52, 0.51, 0.51, 0.51, 0.51, 0.51, 0.51, 0.5, 0.5, 0.5, 0.5, 0.5, 0.5, 0.5, 0.5, 0.5, 0.5, 0.5, 0.5, 0.5, 0.5, 0.5, 0.5, 0.51, 0.51, 0.51, 0.51, 0.51, 0.51, 0.51, 0.51, 0.51, 0.51, 0.51, 0.51, 0.51, 0.51, 0.51, 0.51, 0.51, 0.52, 0.52, 0.52, 0.52, 0.53, 0.53]\n"
          ],
          "name": "stdout"
        }
      ]
    },
    {
      "cell_type": "code",
      "metadata": {
        "id": "9_t7jwJHkJFL",
        "colab": {
          "base_uri": "https://localhost:8080/"
        },
        "outputId": "a7f92925-230e-4fad-f333-84d8027c57ae"
      },
      "source": [
        "print(recall_list)"
      ],
      "execution_count": null,
      "outputs": [
        {
          "output_type": "stream",
          "text": [
            "[0.88, 0.78, 0.66, 0.55, 0.49, 0.41, 0.36, 0.33, 0.32, 0.33, 0.34, 0.35, 0.37, 0.39, 0.4, 0.41, 0.42, 0.43, 0.45, 0.49, 0.56, 0.65, 0.76, 0.83, 0.85, 0.85, 0.84, 0.84, 0.81, 0.79, 0.76, 0.73, 0.69, 0.68, 0.67, 0.68, 0.68, 0.68, 0.67, 0.66, 0.65, 0.64, 0.63, 0.62, 0.61, 0.61, 0.63, 0.66, 0.68, 0.69, 0.71, 0.77, 0.83, 0.88, 0.91, 0.93, 0.94, 0.94, 0.94, 0.94, 0.95, 0.97, 0.98, 0.98, 0.99, 0.99, 0.99, 0.99, 0.99, 0.99, 0.98, 0.97, 0.96, 0.95, 0.94, 0.93, 0.93, 0.92, 0.91, 0.91, 0.9, 0.89, 0.88, 0.88, 0.89, 0.89, 0.9, 0.89, 0.87, 0.86, 0.83, 0.82, 0.81, 0.81, 0.81, 0.81, 0.8, 0.81, 0.82, 0.82, 0.82]\n"
          ],
          "name": "stdout"
        }
      ]
    },
    {
      "cell_type": "code",
      "metadata": {
        "colab": {
          "base_uri": "https://localhost:8080/"
        },
        "id": "HX4dDB1zF9IO",
        "outputId": "2f5a1829-e0cc-4486-d311-9b1f727030f3"
      },
      "source": [
        "print(f1_score_list)"
      ],
      "execution_count": null,
      "outputs": [
        {
          "output_type": "stream",
          "text": [
            "[0.65, 0.64, 0.61, 0.56, 0.54, 0.49, 0.46, 0.43, 0.43, 0.43, 0.44, 0.45, 0.47, 0.49, 0.49, 0.5, 0.5, 0.52, 0.53, 0.55, 0.58, 0.61, 0.65, 0.66, 0.66, 0.66, 0.66, 0.66, 0.65, 0.65, 0.64, 0.63, 0.62, 0.62, 0.61, 0.62, 0.62, 0.62, 0.62, 0.62, 0.61, 0.61, 0.61, 0.6, 0.6, 0.6, 0.61, 0.62, 0.63, 0.63, 0.64, 0.65, 0.66, 0.66, 0.66, 0.67, 0.66, 0.66, 0.66, 0.66, 0.66, 0.66, 0.66, 0.66, 0.67, 0.67, 0.66, 0.67, 0.67, 0.67, 0.66, 0.66, 0.66, 0.66, 0.65, 0.65, 0.65, 0.65, 0.65, 0.65, 0.65, 0.65, 0.65, 0.65, 0.65, 0.65, 0.65, 0.65, 0.65, 0.64, 0.63, 0.63, 0.63, 0.63, 0.63, 0.63, 0.63, 0.63, 0.64, 0.64, 0.64]\n"
          ],
          "name": "stdout"
        }
      ]
    },
    {
      "cell_type": "code",
      "metadata": {
        "id": "qWmDVs0QGD14"
      },
      "source": [
        ""
      ],
      "execution_count": null,
      "outputs": []
    },
    {
      "cell_type": "code",
      "metadata": {
        "id": "TYUI7yxUGD66"
      },
      "source": [
        ""
      ],
      "execution_count": null,
      "outputs": []
    },
    {
      "cell_type": "code",
      "metadata": {
        "id": "BcXxTJKaF9Nn"
      },
      "source": [
        ""
      ],
      "execution_count": null,
      "outputs": []
    },
    {
      "cell_type": "code",
      "metadata": {
        "id": "c9kcbnnJkgby"
      },
      "source": [
        "from matplotlib import pyplot as plt"
      ],
      "execution_count": null,
      "outputs": []
    },
    {
      "cell_type": "code",
      "metadata": {
        "colab": {
          "base_uri": "https://localhost:8080/",
          "height": 295
        },
        "id": "p7ZaPObXkJJE",
        "outputId": "dc3a629b-151d-49b0-c062-076773c70e22"
      },
      "source": [
        "plt.title('Model performance on CIFAR10 test data - imbalance ratio 1:1000')\n",
        "plt.xlabel('epochs')\n",
        "plt.ylabel('samples correctly classified')\n",
        "plt.plot(ch_epoch, precision_list, label='Precision')\n",
        "plt.plot(ch_epoch, recall_list, label='Recall')\n",
        "plt.plot(ch_epoch, f1_score_list, label='F1-Score')\n",
        "plt.legend()\n",
        "plt.grid()\n",
        "plt.show()"
      ],
      "execution_count": null,
      "outputs": [
        {
          "output_type": "display_data",
          "data": {
            "image/png": "[encoded data removed]",
            "text/plain": [
              "<Figure size 432x288 with 1 Axes>"
            ]
          },
          "metadata": {
            "tags": [],
            "needs_background": "light"
          }
        }
      ]
    },
    {
      "cell_type": "code",
      "metadata": {
        "id": "UUi1N6OQkJND"
      },
      "source": [
        ""
      ],
      "execution_count": null,
      "outputs": []
    },
    {
      "cell_type": "code",
      "metadata": {
        "id": "MDqD-7rFkJRB"
      },
      "source": [
        ""
      ],
      "execution_count": null,
      "outputs": []
    },
    {
      "cell_type": "code",
      "metadata": {
        "colab": {
          "base_uri": "https://localhost:8080/"
        },
        "id": "uW_9f-jdkJVH",
        "outputId": "fb686765-2874-4958-b707-a02a6295dde7"
      },
      "source": [
        "max(f1_score_list)"
      ],
      "execution_count": null,
      "outputs": [
        {
          "output_type": "execute_result",
          "data": {
            "text/plain": [
              "0.67"
            ]
          },
          "metadata": {
            "tags": []
          },
          "execution_count": 108
        }
      ]
    },
    {
      "cell_type": "code",
      "metadata": {
        "colab": {
          "base_uri": "https://localhost:8080/"
        },
        "id": "DR4Qq7pRlHqA",
        "outputId": "6bdec252-b69a-4690-f9ef-ec0949a6f100"
      },
      "source": [
        "print(f'maximum F1-score of {max(f1_score_list)} obtained at epoch {1 + (f1_score_list.index(max(f1_score_list)))}')"
      ],
      "execution_count": null,
      "outputs": [
        {
          "output_type": "stream",
          "text": [
            "maximum F1-score of 0.67 obtained at epoch 56\n"
          ],
          "name": "stdout"
        }
      ]
    },
    {
      "cell_type": "code",
      "metadata": {
        "id": "QPY2iv8ylHyL"
      },
      "source": [
        ""
      ],
      "execution_count": null,
      "outputs": []
    },
    {
      "cell_type": "code",
      "metadata": {
        "colab": {
          "base_uri": "https://localhost:8080/"
        },
        "id": "cZJf0dBZkJYg",
        "outputId": "50e750ab-89e3-422b-fe8c-de4c7e1326b4"
      },
      "source": [
        "max(recall_list)"
      ],
      "execution_count": null,
      "outputs": [
        {
          "output_type": "execute_result",
          "data": {
            "text/plain": [
              "0.99"
            ]
          },
          "metadata": {
            "tags": []
          },
          "execution_count": 110
        }
      ]
    },
    {
      "cell_type": "code",
      "metadata": {
        "colab": {
          "base_uri": "https://localhost:8080/"
        },
        "id": "GBDQmsrEl0wc",
        "outputId": "f278b1b9-0b8e-4b90-8640-9b069a291ea7"
      },
      "source": [
        "print(f'maximum recall of {max(recall_list)} obtained at epoch {1 + (recall_list.index(max(recall_list)))}')"
      ],
      "execution_count": null,
      "outputs": [
        {
          "output_type": "stream",
          "text": [
            "maximum recall of 0.99 obtained at epoch 65\n"
          ],
          "name": "stdout"
        }
      ]
    },
    {
      "cell_type": "code",
      "metadata": {
        "colab": {
          "base_uri": "https://localhost:8080/"
        },
        "id": "i2hEgUdXkJcq",
        "outputId": "ca35fa6a-53ef-4558-e040-688f7dc87629"
      },
      "source": [
        "max(precision_list)"
      ],
      "execution_count": null,
      "outputs": [
        {
          "output_type": "execute_result",
          "data": {
            "text/plain": [
              "0.65"
            ]
          },
          "metadata": {
            "tags": []
          },
          "execution_count": 112
        }
      ]
    },
    {
      "cell_type": "code",
      "metadata": {
        "colab": {
          "base_uri": "https://localhost:8080/"
        },
        "id": "VYlPMPbKk9o_",
        "outputId": "b3ce8d21-dcf3-4662-c707-a1dc92117a5a"
      },
      "source": [
        "print(f'maximum precision of {max(precision_list)} obtained at epoch {1 + (precision_list.index(max(precision_list)))}')"
      ],
      "execution_count": null,
      "outputs": [
        {
          "output_type": "stream",
          "text": [
            "maximum precision of 0.65 obtained at epoch 14\n"
          ],
          "name": "stdout"
        }
      ]
    },
    {
      "cell_type": "code",
      "metadata": {
        "id": "yqMXnRgJk9uA"
      },
      "source": [
        ""
      ],
      "execution_count": null,
      "outputs": []
    },
    {
      "cell_type": "code",
      "metadata": {
        "id": "qiS_QXbWk9zD"
      },
      "source": [
        ""
      ],
      "execution_count": null,
      "outputs": []
    },
    {
      "cell_type": "code",
      "metadata": {
        "id": "bNI3A1m4kJg3"
      },
      "source": [
        ""
      ],
      "execution_count": null,
      "outputs": []
    },
    {
      "cell_type": "code",
      "metadata": {
        "id": "YAQbmPVTdjKW"
      },
      "source": [
        "from matplotlib import pyplot as plt"
      ],
      "execution_count": null,
      "outputs": []
    },
    {
      "cell_type": "code",
      "metadata": {
        "id": "Jr-9_8sRdCEz"
      },
      "source": [
        "def plot_model_performance(ch_minority, ch_majority, ch_epoch):\n",
        "  \"\"\" the function plots abnormal and normal model performance at varying epochs\"\"\"\n",
        "  plt.title('Model performance on test data - imbalance ratio 1:1000')\n",
        "  plt.xlabel('epochs')\n",
        "  plt.ylabel('samples correctly classified')\n",
        "  plt.plot(ch_epoch[:8], ch_minority[:8], label='Minority class')\n",
        "  plt.plot(ch_epoch[:8], ch_majority[:8], label='Majority class')\n",
        "  plt.legend()\n",
        "  plt.grid()\n",
        "  plt.show()"
      ],
      "execution_count": null,
      "outputs": []
    },
    {
      "cell_type": "code",
      "metadata": {
        "id": "lyZ1Oo7BdCI0",
        "colab": {
          "base_uri": "https://localhost:8080/",
          "height": 295
        },
        "outputId": "fb7abb8f-d220-4aef-b278-efd2f51b1383"
      },
      "source": [
        "plot_model_performance(ch_minority, ch_majority, ch_epoch)"
      ],
      "execution_count": null,
      "outputs": [
        {
          "output_type": "display_data",
          "data": {
            "image/png": "[encoded data removed]",
            "text/plain": [
              "<Figure size 432x288 with 1 Axes>"
            ]
          },
          "metadata": {
            "tags": [],
            "needs_background": "light"
          }
        }
      ]
    },
    {
      "cell_type": "markdown",
      "metadata": {
        "id": "-kxtMuFVBUWs"
      },
      "source": [
        "## Evaluate best model with best F1-score on test data ##"
      ]
    },
    {
      "cell_type": "markdown",
      "metadata": {
        "id": "P_mqrfewqzsp"
      },
      "source": [
        "## Load best saved model ##"
      ]
    },
    {
      "cell_type": "code",
      "metadata": {
        "id": "tYxg0Or_q43O",
        "colab": {
          "base_uri": "https://localhost:8080/"
        },
        "outputId": "87f64692-bfd8-4a92-fbee-9d41574e53ef"
      },
      "source": [
        "discriminator = tf.keras.models.load_model('/content/gdrive/MyDrive/Anomaly_Detection_in_Images/1617221331/1617221331/56.h5')"
      ],
      "execution_count": null,
      "outputs": [
        {
          "output_type": "stream",
          "text": [
            "WARNING:tensorflow:No training configuration found in the save file, so the model was *not* compiled. Compile it manually.\n"
          ],
          "name": "stdout"
        }
      ]
    },
    {
      "cell_type": "code",
      "metadata": {
        "id": "XYoMu-bOq5Gv"
      },
      "source": [
        ""
      ],
      "execution_count": null,
      "outputs": []
    },
    {
      "cell_type": "code",
      "metadata": {
        "id": "oPC0_5cuCDjN"
      },
      "source": [
        "  # To plot model performance at various epochs on abnormal and normal samples\n",
        "  chart_abnormal = []\n",
        "  chart_normal = []\n",
        "  chart_epoch = []"
      ],
      "execution_count": null,
      "outputs": []
    },
    {
      "cell_type": "code",
      "metadata": {
        "id": "l9q5ENrLCDjN"
      },
      "source": [
        ""
      ],
      "execution_count": null,
      "outputs": []
    },
    {
      "cell_type": "code",
      "metadata": {
        "id": "ncj0h13nCDjN"
      },
      "source": [
        "def discriminator_inference_test(X_test_abnormal, X_test_normal):\n",
        "  \"\"\"function to calculate discriminator score on text data\"\"\"\n",
        "  print(f'Abnormal-count{\"Normal-count\":>17}')\n",
        "  # print(f'{len(predictions_abnormal_test[0]):>14}{len(decision_test_normal[0]):>14}')\n",
        "\n",
        "  # save model to disk at every epoch\n",
        "  #discriminator.save(f'{time_stamp}/{epoch}.h5')\n",
        "\n",
        "  #predictions_abnormal_test = []\n",
        "\n",
        "  # # To plot model performance at various epochs on abnormal and normal samples\n",
        "  # chart_abnormal = []\n",
        "  # chart_normal = []\n",
        "  # chart_epoch = []\n",
        "\n",
        "  # for index, data in enumerate(X_test_abnormal):\n",
        "  #   abn_data_2 = abnormal_data_test[0][index]\n",
        "  #   predictions_abnormal_test.append(discriminator(abn_data_2))\n",
        "\n",
        "  predictions_abnormal_test = discriminator(X_test_abnormal)\n",
        "\n",
        "\n",
        "  count_validation_abnormal = 0\n",
        "\n",
        "  for ind, _ in enumerate(predictions_abnormal_test[0]):\n",
        "    if (tf.keras.backend.get_value(predictions_abnormal_test[0][ind])) < 0: # setting a threshold of 0.9\n",
        "      count_validation_abnormal += 1\n",
        "\n",
        "  print('Abnormal correct count: ', count_validation_abnormal)\n",
        "\n",
        "\n",
        "  #decision_test_normal = []\n",
        "\n",
        "  # for index, img in enumerate(X_test_normal):\n",
        "  #   decision = discriminator(img)\n",
        "  #   decision_test_normal.append(decision)\n",
        "  #   #print(decision) # discriminator decision should be close to 1\n",
        "\n",
        "  decision_test_normal = discriminator(X_test_normal)\n",
        "\n",
        "\n",
        "  count_validation_normal = 0\n",
        "\n",
        "  for ind, _ in enumerate(decision_test_normal):\n",
        "    if (tf.keras.backend.get_value(decision_test_normal[ind]))[0] >= 0: # setting a threshold of 0.9\n",
        "      #print(decision_test_normal[ind])\n",
        "      count_validation_normal += 1\n",
        "  print('Normal correct count: ', count_validation_normal)\n",
        "\n",
        "\n",
        "  chart_abnormal.append(count_validation_abnormal)\n",
        "  chart_normal.append(count_validation_normal)\n",
        "  #chart_epoch.append(epoch)\n",
        "\n",
        "  # return (chart_abnormal, chart_normal, chart_epoch)"
      ],
      "execution_count": null,
      "outputs": []
    },
    {
      "cell_type": "code",
      "metadata": {
        "id": "SzSaLdeoCDjN",
        "colab": {
          "base_uri": "https://localhost:8080/"
        },
        "outputId": "34638b34-23e7-418e-ea15-de8267250d93"
      },
      "source": [
        "discriminator_inference_test(X_train_abnormal[:10], X_train_normal[:10]) # evaluate on the remaining test data"
      ],
      "execution_count": null,
      "outputs": [
        {
          "output_type": "stream",
          "text": [
            "Abnormal-count     Normal-count\n",
            "Abnormal correct count:  1\n",
            "Normal correct count:  0\n"
          ],
          "name": "stdout"
        }
      ]
    },
    {
      "cell_type": "code",
      "metadata": {
        "colab": {
          "base_uri": "https://localhost:8080/"
        },
        "id": "oWhd-MPTGigm",
        "outputId": "95b83b84-6dac-4e1d-d670-7e2670dad85c"
      },
      "source": [
        "discriminator(X_train_normal[-5:])"
      ],
      "execution_count": null,
      "outputs": [
        {
          "output_type": "execute_result",
          "data": {
            "text/plain": [
              "<tf.Tensor: shape=(5, 1), dtype=float32, numpy=\n",
              "array([[-17.903711  ],\n",
              "       [-18.81985   ],\n",
              "       [  0.8300537 ],\n",
              "       [  0.23460196],\n",
              "       [-15.640404  ]], dtype=float32)>"
            ]
          },
          "metadata": {
            "tags": []
          },
          "execution_count": 216
        }
      ]
    },
    {
      "cell_type": "code",
      "metadata": {
        "id": "j3r3XyAtGioB"
      },
      "source": [
        ""
      ],
      "execution_count": null,
      "outputs": []
    },
    {
      "cell_type": "code",
      "metadata": {
        "id": "GdyrqnNlGjZj"
      },
      "source": [
        ""
      ],
      "execution_count": null,
      "outputs": []
    },
    {
      "cell_type": "code",
      "metadata": {
        "id": "YwqKEMLMGjfH"
      },
      "source": [
        ""
      ],
      "execution_count": null,
      "outputs": []
    },
    {
      "cell_type": "code",
      "metadata": {
        "id": "SSW_jfgdGji3"
      },
      "source": [
        ""
      ],
      "execution_count": null,
      "outputs": []
    },
    {
      "cell_type": "code",
      "metadata": {
        "id": "gHu-IbiMWmTs"
      },
      "source": [
        "ch_minority = chart_abnormal\n",
        "ch_majority = chart_normal"
      ],
      "execution_count": null,
      "outputs": []
    },
    {
      "cell_type": "code",
      "metadata": {
        "id": "jPWaL1JhsDLN"
      },
      "source": [
        "# chart_abnormal[0] = 500\n"
      ],
      "execution_count": null,
      "outputs": []
    },
    {
      "cell_type": "code",
      "metadata": {
        "id": "i4Gf95dGsHeE"
      },
      "source": [
        "# chart_normal[0] = 0"
      ],
      "execution_count": null,
      "outputs": []
    },
    {
      "cell_type": "code",
      "metadata": {
        "id": "bIN2Jm61p0wc",
        "colab": {
          "base_uri": "https://localhost:8080/"
        },
        "outputId": "92ebc165-4bd7-4557-952a-22d5a5496376"
      },
      "source": [
        "# print(f'EPOCH{\"PRECISION\":>12}{\"RECALL\":>7}{\"F1-SCORE\":>9}')\n",
        "print(f'EPOCH  {\"PRECISION\"}{\"RECALL\":>7} {\"F1-SCORE\":>9}')\n",
        "\n",
        "precision_list = []\n",
        "recall_list = []\n",
        "f1_score_list = []\n",
        "\n",
        "\n",
        "epoch = 0\n",
        "while epoch < len(ch_minority):\n",
        "    true_positive = ch_minority[epoch]\n",
        "    true_negative = ch_majority[epoch]\n",
        "\n",
        "    false_positive = 500 - true_negative\n",
        "    false_negative = 500 - true_positive\n",
        "\n",
        "    if true_positive == 0:\n",
        "        precision = 0\n",
        "    else:\n",
        "        precision = true_positive / (true_positive + false_positive)\n",
        "        \n",
        "    if true_positive == 0:\n",
        "        recall = 0\n",
        "    else:\n",
        "        recall = true_positive / (true_positive + false_negative)\n",
        "\n",
        "    if precision == 0 and recall == 0:\n",
        "        f1_score = 0\n",
        "    else:\n",
        "        f1_score = 2 * ((precision * recall) / (precision + recall))\n",
        "    \n",
        "    precision_list.append(round(precision,2))\n",
        "    recall_list.append(round(recall, 2))\n",
        "    f1_score_list.append(round(f1_score, 2))\n",
        "\n",
        "    # print(f'{epoch+1:>5}{precision:.2f>14}{recall:.2f>9}{f1_score:.2f>11}')\n",
        "    print(f'{epoch+1:>5}  {precision:.2f}      {recall:.2f}    {f1_score:.2f}')\n",
        "    epoch += 1"
      ],
      "execution_count": null,
      "outputs": [
        {
          "output_type": "stream",
          "text": [
            "EPOCH  PRECISION RECALL  F1-SCORE\n",
            "    1  0.00      0.00    0.00\n"
          ],
          "name": "stdout"
        }
      ]
    },
    {
      "cell_type": "code",
      "metadata": {
        "id": "En7oXjm7DCav"
      },
      "source": [
        ""
      ],
      "execution_count": null,
      "outputs": []
    },
    {
      "cell_type": "code",
      "metadata": {
        "id": "PPaFnKTqDCeK"
      },
      "source": [
        ""
      ],
      "execution_count": null,
      "outputs": []
    },
    {
      "cell_type": "code",
      "metadata": {
        "id": "lHTC3TLrOmbd"
      },
      "source": [
        ""
      ],
      "execution_count": null,
      "outputs": []
    },
    {
      "cell_type": "code",
      "metadata": {
        "id": "FzfjTgm1bVqg",
        "colab": {
          "base_uri": "https://localhost:8080/",
          "height": 129
        },
        "outputId": "56f34400-d246-41e2-e6d6-4d19d793d1b3"
      },
      "source": [
        "---"
      ],
      "execution_count": null,
      "outputs": [
        {
          "output_type": "error",
          "ename": "SyntaxError",
          "evalue": "ignored",
          "traceback": [
            "\u001b[0;36m  File \u001b[0;32m\"<ipython-input-221-29e0c3615294>\"\u001b[0;36m, line \u001b[0;32m1\u001b[0m\n\u001b[0;31m    ---\u001b[0m\n\u001b[0m       ^\u001b[0m\n\u001b[0;31mSyntaxError\u001b[0m\u001b[0;31m:\u001b[0m invalid syntax\n"
          ]
        }
      ]
    },
    {
      "cell_type": "code",
      "metadata": {
        "id": "oRDNTaakbVvc"
      },
      "source": [
        ""
      ],
      "execution_count": null,
      "outputs": []
    },
    {
      "cell_type": "code",
      "metadata": {
        "id": "tPmJP-WYDBZL"
      },
      "source": [
        ""
      ],
      "execution_count": null,
      "outputs": []
    },
    {
      "cell_type": "code",
      "metadata": {
        "id": "7ZpVrmXeDBdJ"
      },
      "source": [
        ""
      ],
      "execution_count": null,
      "outputs": []
    },
    {
      "cell_type": "code",
      "metadata": {
        "id": "DwW_rImiDBhj"
      },
      "source": [
        ""
      ],
      "execution_count": null,
      "outputs": []
    },
    {
      "cell_type": "code",
      "metadata": {
        "id": "y3D3kXxmDBlA"
      },
      "source": [
        ""
      ],
      "execution_count": null,
      "outputs": []
    },
    {
      "cell_type": "code",
      "metadata": {
        "id": "nSYtq2PFXSoV"
      },
      "source": [
        ""
      ],
      "execution_count": null,
      "outputs": []
    },
    {
      "cell_type": "code",
      "metadata": {
        "id": "iDf0I5qoOv7k"
      },
      "source": [
        ""
      ],
      "execution_count": null,
      "outputs": []
    },
    {
      "cell_type": "markdown",
      "metadata": {
        "id": "zqBOvtScPQqQ"
      },
      "source": [
        "## Discriminator score on abnormal images ##"
      ]
    },
    {
      "cell_type": "code",
      "metadata": {
        "id": "BTsekFBGROhQ"
      },
      "source": [
        ""
      ],
      "execution_count": null,
      "outputs": []
    },
    {
      "cell_type": "code",
      "metadata": {
        "id": "g9vmVycpPYsc"
      },
      "source": [
        "# predictions_abnormal_test = []\n",
        "\n",
        "# for index, data in enumerate(abnormal_data_test[0]):\n",
        "#   #abn_data_2 = np.expand_dims(abnormal_data_test[0][index], axis=0)\n",
        "#   abn_data_2 = abnormal_data_test[0][index]\n",
        "#   predictions_abnormal_test.append(discriminator(abn_data_2))\n",
        "#   #print(discriminator(abn_data_2))"
      ],
      "execution_count": null,
      "outputs": []
    },
    {
      "cell_type": "code",
      "metadata": {
        "id": "kmOPws6WPYwj"
      },
      "source": [
        ""
      ],
      "execution_count": null,
      "outputs": []
    },
    {
      "cell_type": "code",
      "metadata": {
        "id": "cw01xd487YDj"
      },
      "source": [
        "# len(predictions_abnormal_test[0])"
      ],
      "execution_count": null,
      "outputs": []
    },
    {
      "cell_type": "code",
      "metadata": {
        "id": "1mxYf1k67YHo"
      },
      "source": [
        ""
      ],
      "execution_count": null,
      "outputs": []
    },
    {
      "cell_type": "code",
      "metadata": {
        "id": "MdP44vOMPY0x"
      },
      "source": [
        "# count_test_abnormal = 0\n",
        "\n",
        "# for ind, _ in enumerate(predictions_abnormal_test[0]):\n",
        "#   if (tf.keras.backend.get_value(predictions_abnormal_test[0][ind])) < 0: # setting a threshold of 0.9\n",
        "#     count_test_abnormal += 1\n",
        "# print('Abnormal correct count: ', count_test_abnormal)"
      ],
      "execution_count": null,
      "outputs": []
    },
    {
      "cell_type": "code",
      "metadata": {
        "id": "s5KjXGkSP_6M"
      },
      "source": [
        "# print(f'{count_test_abnormal} abnormal missed' )"
      ],
      "execution_count": null,
      "outputs": []
    },
    {
      "cell_type": "code",
      "metadata": {
        "id": "WH5AsOnu7zK_"
      },
      "source": [
        ""
      ],
      "execution_count": null,
      "outputs": []
    },
    {
      "cell_type": "code",
      "metadata": {
        "id": "nA3l6nKJQAIf"
      },
      "source": [
        "# decision_test_normal = []\n",
        "\n",
        "# for index, img in enumerate(test_normal_ds):\n",
        "#   #nor_data_test = np.expand_dims(test_normal_images[int(index)], axis=0)\n",
        "#   #nor_data_test = test_normal_ds\n",
        "\n",
        "#   decision = discriminator(img)\n",
        "#   decision_test_normal.append(decision)\n",
        "#   #print(decision) # discriminator decision should be close to 1"
      ],
      "execution_count": null,
      "outputs": []
    },
    {
      "cell_type": "code",
      "metadata": {
        "id": "w4aZ_ISm8Wen"
      },
      "source": [
        "# len(decision_test_normal[0])"
      ],
      "execution_count": null,
      "outputs": []
    },
    {
      "cell_type": "code",
      "metadata": {
        "id": "PqOhLt708WkQ"
      },
      "source": [
        "(tf.keras.backend.get_value(decision_test_normal[0][0]))[0]"
      ],
      "execution_count": null,
      "outputs": []
    },
    {
      "cell_type": "code",
      "metadata": {
        "id": "2PleFlO7-qFq"
      },
      "source": [
        ""
      ],
      "execution_count": null,
      "outputs": []
    },
    {
      "cell_type": "code",
      "metadata": {
        "id": "pmTD-pfxOwJJ"
      },
      "source": [
        "# count_test_normal = 0\n",
        "\n",
        "# for ind, _ in enumerate(decision_test_normal[0]):\n",
        "#   if (tf.keras.backend.get_value(decision_test_normal[0][ind]))[0] >= 0: # setting a threshold of 0.9\n",
        "#     #print(decision_test_normal[ind])\n",
        "#     count_test_normal += 1\n",
        "# print('Normal correct count: ', count_test_normal)"
      ],
      "execution_count": null,
      "outputs": []
    },
    {
      "cell_type": "code",
      "metadata": {
        "id": "5W91-FB6QO9C"
      },
      "source": [
        ""
      ],
      "execution_count": null,
      "outputs": []
    },
    {
      "cell_type": "code",
      "metadata": {
        "id": "EeWZjvSiQPBm"
      },
      "source": [
        "# print(f'{len(decision_test_normal[0]) - count_test_normal} normal missed' )"
      ],
      "execution_count": null,
      "outputs": []
    },
    {
      "cell_type": "code",
      "metadata": {
        "id": "5UKStuWMzYl2"
      },
      "source": [
        ""
      ],
      "execution_count": null,
      "outputs": []
    },
    {
      "cell_type": "markdown",
      "metadata": {
        "id": "tMUAgYtSzaaQ"
      },
      "source": [
        "## Save models ##"
      ]
    },
    {
      "cell_type": "code",
      "metadata": {
        "id": "wnKqi1WzzYpu"
      },
      "source": [
        "#encoder_generator_network.save('encoder_generator.h5')"
      ],
      "execution_count": null,
      "outputs": []
    },
    {
      "cell_type": "code",
      "metadata": {
        "id": "TWzLlJNwzYt-"
      },
      "source": [
        "#discriminator.save('discriminator.h5')"
      ],
      "execution_count": null,
      "outputs": []
    },
    {
      "cell_type": "code",
      "metadata": {
        "id": "XnLpC7j0zYyV"
      },
      "source": [
        ""
      ],
      "execution_count": null,
      "outputs": []
    },
    {
      "cell_type": "code",
      "metadata": {
        "id": "CQkgjRQ9OwVx"
      },
      "source": [
        ""
      ],
      "execution_count": null,
      "outputs": []
    },
    {
      "cell_type": "code",
      "metadata": {
        "id": "05BWB3UudiOV"
      },
      "source": [
        "----"
      ],
      "execution_count": null,
      "outputs": []
    },
    {
      "cell_type": "code",
      "metadata": {
        "id": "a2ZEnw_4diSL"
      },
      "source": [
        ""
      ],
      "execution_count": null,
      "outputs": []
    },
    {
      "cell_type": "code",
      "metadata": {
        "id": "20JbJG04diVx"
      },
      "source": [
        ""
      ],
      "execution_count": null,
      "outputs": []
    },
    {
      "cell_type": "code",
      "metadata": {
        "id": "_IEuzUGEdiZc"
      },
      "source": [
        ""
      ],
      "execution_count": null,
      "outputs": []
    },
    {
      "cell_type": "code",
      "metadata": {
        "id": "FfIY85GGdic_"
      },
      "source": [
        ""
      ],
      "execution_count": null,
      "outputs": []
    },
    {
      "cell_type": "code",
      "metadata": {
        "id": "VhZAPDBsdigs"
      },
      "source": [
        ""
      ],
      "execution_count": null,
      "outputs": []
    },
    {
      "cell_type": "code",
      "metadata": {
        "id": "7cR_hacOdikI"
      },
      "source": [
        ""
      ],
      "execution_count": null,
      "outputs": []
    },
    {
      "cell_type": "code",
      "metadata": {
        "id": "TLeFSa0pdiqp"
      },
      "source": [
        ""
      ],
      "execution_count": null,
      "outputs": []
    },
    {
      "cell_type": "code",
      "metadata": {
        "id": "AAG0sVv4qTXO"
      },
      "source": [
        "fig = plt.figure(figsize=(4,4))\n",
        "predictions = checkpoint.generator(x_abnormal, training = False).numpy()\n",
        "for i in range(seed.shape[0]):\n",
        "    plt.subplot(4,4,i+1)\n",
        "    plt.imshow(predictions[i], interpolation=\"nearest\")\n",
        "    plt.axis('off')\n",
        "    \n",
        "plt.show()"
      ],
      "execution_count": null,
      "outputs": []
    },
    {
      "cell_type": "code",
      "metadata": {
        "id": "A4CFypo3qTXO"
      },
      "source": [
        "noise = tf.random.normal([1,100]) # shape is 1, 100\n",
        "random_face = checkpoint.generator(noise, training = False).numpy()[0]\n",
        "plt.imshow(random_face, interpolation='nearest')\n",
        "plt.axis(\"off\")\n",
        "plt.show()"
      ],
      "execution_count": null,
      "outputs": []
    },
    {
      "cell_type": "code",
      "metadata": {
        "id": "oAv-nJefqTXP"
      },
      "source": [
        "%ls"
      ],
      "execution_count": null,
      "outputs": []
    },
    {
      "cell_type": "code",
      "metadata": {
        "id": "I-9ma3QYqTXP"
      },
      "source": [
        "with imageio.get_writer('dcgan.gif', mode='I') as writer:\n",
        "  filenames = glob.glob('image*.png')\n",
        "  filenames = sorted(filenames)\n",
        "  last = -1\n",
        "  for i,filename in enumerate(filenames):\n",
        "    frame = 2*(i**0.5)\n",
        "    if round(frame) > round(last):\n",
        "      last = frame\n",
        "    else:\n",
        "      continue\n",
        "    image = imageio.imread(filename)\n",
        "    writer.append_data(image)\n",
        "  image = imageio.imread(filename)\n",
        "  writer.append_data(image)\n",
        "    \n",
        "# A hack to display the GIF inside this notebook\n",
        "os.rename('dcgan.gif', 'dcgan_celebA.gif.png')"
      ],
      "execution_count": null,
      "outputs": []
    },
    {
      "cell_type": "code",
      "metadata": {
        "id": "_xCmpVSVqTXP"
      },
      "source": [
        "display.Image(filename=\"dcgan_celebA.gif.png\")"
      ],
      "execution_count": null,
      "outputs": []
    },
    {
      "cell_type": "code",
      "metadata": {
        "id": "CBAw_wc4qTXP"
      },
      "source": [
        "%ls training_checkpoints/"
      ],
      "execution_count": null,
      "outputs": []
    },
    {
      "cell_type": "markdown",
      "metadata": {
        "id": "u4VcjW7TqTXP"
      },
      "source": [
        "%cp image_at_epoch_0001.png play-with-faces/"
      ]
    }
  ]
}